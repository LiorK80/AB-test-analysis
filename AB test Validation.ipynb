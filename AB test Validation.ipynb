{
 "cells": [
  {
   "cell_type": "markdown",
   "metadata": {},
   "source": [
    "# Analysis of an A/B test - improved recommendation system"
   ]
  },
  {
   "cell_type": "markdown",
   "metadata": {},
   "source": [
    "## Purposes of the Study\n",
    "The purpose of this study is to analyze the results of an A/B test for an improved recommendation system.\n",
    "\n",
    "This will be done based on the online store's data, consisting of information on the users and their actions. The data include unique user identifier and their experiment group, as well as the user's region, the date of their sign-up and the device used to sign up. It also includes the action (event) name and time and the order total. In addition the calendar of marketing events will also be taken into account. This includes the name of the marketing event, regions where the ad campaign was held and the campaign start and end date.\n",
    "\n",
    "The actions I'm planning to take are as following:\n",
    "* Explore and preprocess initial data \n",
    "* Carry out exploratory data analysis: study and check the data in general & the event funnel in particular\n",
    "* Evaluate the A/B test results\n",
    "* Draw conclusions\n",
    "\n",
    "\n",
    "### Task statement\n",
    "\n",
    "Your predecessor launched an A/B test and then quit. They left only the technical specifications and the test results.\n",
    "See whether the test was carried out correctly, and analyze the results. \n",
    "\n",
    "**Technical description**\n",
    "\n",
    "- Test name: `recommender_system_test`\n",
    "- Groups: А (control), B (new payment funnel)\n",
    "- Launch date: 2020-12-07\n",
    "- The date when they stopped taking up new users: 2020-12-21\n",
    "- End date: 2021-01-01\n",
    "- Audience: 15% of the new users from the EU region\n",
    "- Purpose of the test: testing changes related to the introduction of an improved recommendation system\n",
    "- Expected result: within 14 days of signing up, users will show better conversion into product page views (the `product_page` event), product card views (`product_card`) and purchases (`purchase`). At each of the stage of the funnel `product_page → product_card → purchase`, there will be at least a 10% increase.\n",
    "- Expected number of test participants: 6000"
   ]
  },
  {
   "cell_type": "markdown",
   "metadata": {},
   "source": [
    "## Initialization"
   ]
  },
  {
   "cell_type": "code",
   "execution_count": 1,
   "metadata": {},
   "outputs": [],
   "source": [
    "import pandas as pd\n",
    "import numpy as np\n",
    "import sidetable\n",
    "from statsmodels.stats.proportion import proportions_ztest\n",
    "from random import sample\n",
    "\n",
    "import plotly.express as px\n",
    "from plotly import graph_objects as go\n",
    "\n",
    "from IPython.core.interactiveshell import InteractiveShell\n",
    "InteractiveShell.ast_node_interactivity = 'all'\n"
   ]
  },
  {
   "cell_type": "code",
   "execution_count": 2,
   "metadata": {},
   "outputs": [],
   "source": [
    "# Reading the data\n",
    "marketing_events = pd.read_csv('ab_project_marketing_events.csv')\n",
    "marketing_events.to_csv('ab_project_marketing_events.csv', index=False)\n",
    "\n",
    "new_users = pd.read_csv('final_ab_new_users_upd_us.csv')\n",
    "new_users.to_csv('final_ab_new_users_upd_us.csv', index=False)\n",
    "\n",
    "events = pd.read_csv('final_ab_events_upd_us.csv')\n",
    "events.to_csv('final_ab_events_upd_us.csv', index=False)\n",
    "\n",
    "participants = pd.read_csv('final_ab_participants_upd_us.csv')\n",
    "participants.to_csv('final_ab_participants_upd_us.csv', index=False)"
   ]
  },
  {
   "cell_type": "markdown",
   "metadata": {},
   "source": [
    "## Exploring and preprocessing the data"
   ]
  },
  {
   "cell_type": "markdown",
   "metadata": {},
   "source": [
    "### Marketing data"
   ]
  },
  {
   "cell_type": "code",
   "execution_count": 3,
   "metadata": {},
   "outputs": [
    {
     "data": {
      "text/html": [
       "<div>\n",
       "<style scoped>\n",
       "    .dataframe tbody tr th:only-of-type {\n",
       "        vertical-align: middle;\n",
       "    }\n",
       "\n",
       "    .dataframe tbody tr th {\n",
       "        vertical-align: top;\n",
       "    }\n",
       "\n",
       "    .dataframe thead th {\n",
       "        text-align: right;\n",
       "    }\n",
       "</style>\n",
       "<table border=\"1\" class=\"dataframe\">\n",
       "  <thead>\n",
       "    <tr style=\"text-align: right;\">\n",
       "      <th></th>\n",
       "      <th>name</th>\n",
       "      <th>regions</th>\n",
       "      <th>start_dt</th>\n",
       "      <th>finish_dt</th>\n",
       "    </tr>\n",
       "  </thead>\n",
       "  <tbody>\n",
       "    <tr>\n",
       "      <th>0</th>\n",
       "      <td>Christmas&amp;New Year Promo</td>\n",
       "      <td>EU, N.America</td>\n",
       "      <td>2020-12-25</td>\n",
       "      <td>2021-01-03</td>\n",
       "    </tr>\n",
       "    <tr>\n",
       "      <th>1</th>\n",
       "      <td>St. Valentine's Day Giveaway</td>\n",
       "      <td>EU, CIS, APAC, N.America</td>\n",
       "      <td>2020-02-14</td>\n",
       "      <td>2020-02-16</td>\n",
       "    </tr>\n",
       "    <tr>\n",
       "      <th>2</th>\n",
       "      <td>St. Patric's Day Promo</td>\n",
       "      <td>EU, N.America</td>\n",
       "      <td>2020-03-17</td>\n",
       "      <td>2020-03-19</td>\n",
       "    </tr>\n",
       "    <tr>\n",
       "      <th>3</th>\n",
       "      <td>Easter Promo</td>\n",
       "      <td>EU, CIS, APAC, N.America</td>\n",
       "      <td>2020-04-12</td>\n",
       "      <td>2020-04-19</td>\n",
       "    </tr>\n",
       "    <tr>\n",
       "      <th>4</th>\n",
       "      <td>4th of July Promo</td>\n",
       "      <td>N.America</td>\n",
       "      <td>2020-07-04</td>\n",
       "      <td>2020-07-11</td>\n",
       "    </tr>\n",
       "    <tr>\n",
       "      <th>5</th>\n",
       "      <td>Black Friday Ads Campaign</td>\n",
       "      <td>EU, CIS, APAC, N.America</td>\n",
       "      <td>2020-11-26</td>\n",
       "      <td>2020-12-01</td>\n",
       "    </tr>\n",
       "    <tr>\n",
       "      <th>6</th>\n",
       "      <td>Chinese New Year Promo</td>\n",
       "      <td>APAC</td>\n",
       "      <td>2020-01-25</td>\n",
       "      <td>2020-02-07</td>\n",
       "    </tr>\n",
       "    <tr>\n",
       "      <th>7</th>\n",
       "      <td>Labor day (May 1st) Ads Campaign</td>\n",
       "      <td>EU, CIS, APAC</td>\n",
       "      <td>2020-05-01</td>\n",
       "      <td>2020-05-03</td>\n",
       "    </tr>\n",
       "    <tr>\n",
       "      <th>8</th>\n",
       "      <td>International Women's Day Promo</td>\n",
       "      <td>EU, CIS, APAC</td>\n",
       "      <td>2020-03-08</td>\n",
       "      <td>2020-03-10</td>\n",
       "    </tr>\n",
       "    <tr>\n",
       "      <th>9</th>\n",
       "      <td>Victory Day CIS (May 9th) Event</td>\n",
       "      <td>CIS</td>\n",
       "      <td>2020-05-09</td>\n",
       "      <td>2020-05-11</td>\n",
       "    </tr>\n",
       "    <tr>\n",
       "      <th>10</th>\n",
       "      <td>CIS New Year Gift Lottery</td>\n",
       "      <td>CIS</td>\n",
       "      <td>2020-12-30</td>\n",
       "      <td>2021-01-07</td>\n",
       "    </tr>\n",
       "    <tr>\n",
       "      <th>11</th>\n",
       "      <td>Dragon Boat Festival Giveaway</td>\n",
       "      <td>APAC</td>\n",
       "      <td>2020-06-25</td>\n",
       "      <td>2020-07-01</td>\n",
       "    </tr>\n",
       "    <tr>\n",
       "      <th>12</th>\n",
       "      <td>Single's Day Gift Promo</td>\n",
       "      <td>APAC</td>\n",
       "      <td>2020-11-11</td>\n",
       "      <td>2020-11-12</td>\n",
       "    </tr>\n",
       "    <tr>\n",
       "      <th>13</th>\n",
       "      <td>Chinese Moon Festival</td>\n",
       "      <td>APAC</td>\n",
       "      <td>2020-10-01</td>\n",
       "      <td>2020-10-07</td>\n",
       "    </tr>\n",
       "  </tbody>\n",
       "</table>\n",
       "</div>"
      ],
      "text/plain": [
       "                                name                   regions    start_dt  \\\n",
       "0           Christmas&New Year Promo             EU, N.America  2020-12-25   \n",
       "1       St. Valentine's Day Giveaway  EU, CIS, APAC, N.America  2020-02-14   \n",
       "2             St. Patric's Day Promo             EU, N.America  2020-03-17   \n",
       "3                       Easter Promo  EU, CIS, APAC, N.America  2020-04-12   \n",
       "4                  4th of July Promo                 N.America  2020-07-04   \n",
       "5          Black Friday Ads Campaign  EU, CIS, APAC, N.America  2020-11-26   \n",
       "6             Chinese New Year Promo                      APAC  2020-01-25   \n",
       "7   Labor day (May 1st) Ads Campaign             EU, CIS, APAC  2020-05-01   \n",
       "8    International Women's Day Promo             EU, CIS, APAC  2020-03-08   \n",
       "9    Victory Day CIS (May 9th) Event                       CIS  2020-05-09   \n",
       "10         CIS New Year Gift Lottery                       CIS  2020-12-30   \n",
       "11     Dragon Boat Festival Giveaway                      APAC  2020-06-25   \n",
       "12           Single's Day Gift Promo                      APAC  2020-11-11   \n",
       "13             Chinese Moon Festival                      APAC  2020-10-01   \n",
       "\n",
       "     finish_dt  \n",
       "0   2021-01-03  \n",
       "1   2020-02-16  \n",
       "2   2020-03-19  \n",
       "3   2020-04-19  \n",
       "4   2020-07-11  \n",
       "5   2020-12-01  \n",
       "6   2020-02-07  \n",
       "7   2020-05-03  \n",
       "8   2020-03-10  \n",
       "9   2020-05-11  \n",
       "10  2021-01-07  \n",
       "11  2020-07-01  \n",
       "12  2020-11-12  \n",
       "13  2020-10-07  "
      ]
     },
     "execution_count": 3,
     "metadata": {},
     "output_type": "execute_result"
    }
   ],
   "source": [
    "# Examining the marketing data \n",
    "marketing_events"
   ]
  },
  {
   "cell_type": "code",
   "execution_count": 4,
   "metadata": {},
   "outputs": [
    {
     "name": "stdout",
     "output_type": "stream",
     "text": [
      "<class 'pandas.core.frame.DataFrame'>\n",
      "RangeIndex: 14 entries, 0 to 13\n",
      "Data columns (total 4 columns):\n",
      " #   Column     Non-Null Count  Dtype \n",
      "---  ------     --------------  ----- \n",
      " 0   name       14 non-null     object\n",
      " 1   regions    14 non-null     object\n",
      " 2   start_dt   14 non-null     object\n",
      " 3   finish_dt  14 non-null     object\n",
      "dtypes: object(4)\n",
      "memory usage: 576.0+ bytes\n"
     ]
    }
   ],
   "source": [
    "# Checking the marketing data info\n",
    "marketing_events.info()"
   ]
  },
  {
   "cell_type": "markdown",
   "metadata": {},
   "source": [
    "- `start_dt` and `finish-dt` are objects instead of datetime type, but it doesn't matter in this case because we are not going to perform any actions with this data.\n",
    "- I will get back to this data in the EDA stage."
   ]
  },
  {
   "cell_type": "markdown",
   "metadata": {},
   "source": [
    "### New users data"
   ]
  },
  {
   "cell_type": "code",
   "execution_count": 5,
   "metadata": {},
   "outputs": [
    {
     "data": {
      "text/html": [
       "<div>\n",
       "<style scoped>\n",
       "    .dataframe tbody tr th:only-of-type {\n",
       "        vertical-align: middle;\n",
       "    }\n",
       "\n",
       "    .dataframe tbody tr th {\n",
       "        vertical-align: top;\n",
       "    }\n",
       "\n",
       "    .dataframe thead th {\n",
       "        text-align: right;\n",
       "    }\n",
       "</style>\n",
       "<table border=\"1\" class=\"dataframe\">\n",
       "  <thead>\n",
       "    <tr style=\"text-align: right;\">\n",
       "      <th></th>\n",
       "      <th>user_id</th>\n",
       "      <th>first_date</th>\n",
       "      <th>region</th>\n",
       "      <th>device</th>\n",
       "    </tr>\n",
       "  </thead>\n",
       "  <tbody>\n",
       "    <tr>\n",
       "      <th>25088</th>\n",
       "      <td>6202E7A556AC570E</td>\n",
       "      <td>2020-12-22</td>\n",
       "      <td>APAC</td>\n",
       "      <td>Android</td>\n",
       "    </tr>\n",
       "    <tr>\n",
       "      <th>56193</th>\n",
       "      <td>D36724C5A3AFAF36</td>\n",
       "      <td>2020-12-20</td>\n",
       "      <td>APAC</td>\n",
       "      <td>iPhone</td>\n",
       "    </tr>\n",
       "    <tr>\n",
       "      <th>2846</th>\n",
       "      <td>C7BA3ECD51FD5FBC</td>\n",
       "      <td>2020-12-07</td>\n",
       "      <td>EU</td>\n",
       "      <td>Android</td>\n",
       "    </tr>\n",
       "    <tr>\n",
       "      <th>2047</th>\n",
       "      <td>CA0F4AA2019807B9</td>\n",
       "      <td>2020-12-07</td>\n",
       "      <td>EU</td>\n",
       "      <td>iPhone</td>\n",
       "    </tr>\n",
       "    <tr>\n",
       "      <th>24220</th>\n",
       "      <td>BEA28F1E762B11F0</td>\n",
       "      <td>2020-12-22</td>\n",
       "      <td>EU</td>\n",
       "      <td>PC</td>\n",
       "    </tr>\n",
       "  </tbody>\n",
       "</table>\n",
       "</div>"
      ],
      "text/plain": [
       "                user_id  first_date region   device\n",
       "25088  6202E7A556AC570E  2020-12-22   APAC  Android\n",
       "56193  D36724C5A3AFAF36  2020-12-20   APAC   iPhone\n",
       "2846   C7BA3ECD51FD5FBC  2020-12-07     EU  Android\n",
       "2047   CA0F4AA2019807B9  2020-12-07     EU   iPhone\n",
       "24220  BEA28F1E762B11F0  2020-12-22     EU       PC"
      ]
     },
     "execution_count": 5,
     "metadata": {},
     "output_type": "execute_result"
    }
   ],
   "source": [
    "# Examining a sample of the new_users data \n",
    "new_users.sample(5)"
   ]
  },
  {
   "cell_type": "code",
   "execution_count": 6,
   "metadata": {},
   "outputs": [
    {
     "name": "stdout",
     "output_type": "stream",
     "text": [
      "<class 'pandas.core.frame.DataFrame'>\n",
      "RangeIndex: 58703 entries, 0 to 58702\n",
      "Data columns (total 4 columns):\n",
      " #   Column      Non-Null Count  Dtype \n",
      "---  ------      --------------  ----- \n",
      " 0   user_id     58703 non-null  object\n",
      " 1   first_date  58703 non-null  object\n",
      " 2   region      58703 non-null  object\n",
      " 3   device      58703 non-null  object\n",
      "dtypes: object(4)\n",
      "memory usage: 1.8+ MB\n"
     ]
    }
   ],
   "source": [
    "# Checking the new_users data info\n",
    "new_users.info()"
   ]
  },
  {
   "cell_type": "markdown",
   "metadata": {},
   "source": [
    "- `first_date` is an object instead of a datetime type.\n",
    "- No missing values."
   ]
  },
  {
   "cell_type": "code",
   "execution_count": 7,
   "metadata": {},
   "outputs": [],
   "source": [
    "# Converting `first_date` column to a datetime type\n",
    "new_users.first_date = pd.to_datetime(new_users.first_date)"
   ]
  },
  {
   "cell_type": "code",
   "execution_count": 8,
   "metadata": {},
   "outputs": [
    {
     "data": {
      "text/html": [
       "<div>\n",
       "<style scoped>\n",
       "    .dataframe tbody tr th:only-of-type {\n",
       "        vertical-align: middle;\n",
       "    }\n",
       "\n",
       "    .dataframe tbody tr th {\n",
       "        vertical-align: top;\n",
       "    }\n",
       "\n",
       "    .dataframe thead th {\n",
       "        text-align: right;\n",
       "    }\n",
       "</style>\n",
       "<table border=\"1\" class=\"dataframe\">\n",
       "  <thead>\n",
       "    <tr style=\"text-align: right;\">\n",
       "      <th></th>\n",
       "      <th>count</th>\n",
       "      <th>unique</th>\n",
       "      <th>top</th>\n",
       "      <th>freq</th>\n",
       "      <th>mean</th>\n",
       "      <th>min</th>\n",
       "      <th>25%</th>\n",
       "      <th>50%</th>\n",
       "      <th>75%</th>\n",
       "      <th>max</th>\n",
       "    </tr>\n",
       "  </thead>\n",
       "  <tbody>\n",
       "    <tr>\n",
       "      <th>user_id</th>\n",
       "      <td>58703</td>\n",
       "      <td>58703</td>\n",
       "      <td>D72A72121175D8BE</td>\n",
       "      <td>1</td>\n",
       "      <td>NaT</td>\n",
       "      <td>NaT</td>\n",
       "      <td>NaT</td>\n",
       "      <td>NaT</td>\n",
       "      <td>NaT</td>\n",
       "      <td>NaT</td>\n",
       "    </tr>\n",
       "    <tr>\n",
       "      <th>first_date</th>\n",
       "      <td>58703</td>\n",
       "      <td>NaN</td>\n",
       "      <td>NaN</td>\n",
       "      <td>NaN</td>\n",
       "      <td>2020-12-15 01:59:36.573599488</td>\n",
       "      <td>2020-12-07</td>\n",
       "      <td>2020-12-11</td>\n",
       "      <td>2020-12-15</td>\n",
       "      <td>2020-12-20</td>\n",
       "      <td>2020-12-23</td>\n",
       "    </tr>\n",
       "    <tr>\n",
       "      <th>region</th>\n",
       "      <td>58703</td>\n",
       "      <td>4</td>\n",
       "      <td>EU</td>\n",
       "      <td>43396</td>\n",
       "      <td>NaT</td>\n",
       "      <td>NaT</td>\n",
       "      <td>NaT</td>\n",
       "      <td>NaT</td>\n",
       "      <td>NaT</td>\n",
       "      <td>NaT</td>\n",
       "    </tr>\n",
       "    <tr>\n",
       "      <th>device</th>\n",
       "      <td>58703</td>\n",
       "      <td>4</td>\n",
       "      <td>Android</td>\n",
       "      <td>26159</td>\n",
       "      <td>NaT</td>\n",
       "      <td>NaT</td>\n",
       "      <td>NaT</td>\n",
       "      <td>NaT</td>\n",
       "      <td>NaT</td>\n",
       "      <td>NaT</td>\n",
       "    </tr>\n",
       "  </tbody>\n",
       "</table>\n",
       "</div>"
      ],
      "text/plain": [
       "            count unique               top   freq  \\\n",
       "user_id     58703  58703  D72A72121175D8BE      1   \n",
       "first_date  58703    NaN               NaN    NaN   \n",
       "region      58703      4                EU  43396   \n",
       "device      58703      4           Android  26159   \n",
       "\n",
       "                                    mean        min        25%        50%  \\\n",
       "user_id                              NaT        NaT        NaT        NaT   \n",
       "first_date 2020-12-15 01:59:36.573599488 2020-12-07 2020-12-11 2020-12-15   \n",
       "region                               NaT        NaT        NaT        NaT   \n",
       "device                               NaT        NaT        NaT        NaT   \n",
       "\n",
       "                  75%        max  \n",
       "user_id           NaT        NaT  \n",
       "first_date 2020-12-20 2020-12-23  \n",
       "region            NaT        NaT  \n",
       "device            NaT        NaT  "
      ]
     },
     "execution_count": 8,
     "metadata": {},
     "output_type": "execute_result"
    }
   ],
   "source": [
    "# Examining the descriptive statistics of the new_users data \n",
    "new_users.describe(include='all', datetime_is_numeric=True).T"
   ]
  },
  {
   "cell_type": "markdown",
   "metadata": {},
   "source": [
    "- There are 58,703 new users.\n",
    "- Assigning new users for the test was supposed to be in the period of 7-21.12.2020, but the data ends two days later.\n",
    "- There are 4 users' regions, the top is EU.\n",
    "- There are 4 devices used to sign up, the top is Android."
   ]
  },
  {
   "cell_type": "code",
   "execution_count": 9,
   "metadata": {},
   "outputs": [
    {
     "data": {
      "text/plain": [
       "0"
      ]
     },
     "execution_count": 9,
     "metadata": {},
     "output_type": "execute_result"
    }
   ],
   "source": [
    "new_users.duplicated().sum()"
   ]
  },
  {
   "cell_type": "markdown",
   "metadata": {},
   "source": [
    "### Events data"
   ]
  },
  {
   "cell_type": "code",
   "execution_count": 10,
   "metadata": {},
   "outputs": [
    {
     "data": {
      "text/html": [
       "<div>\n",
       "<style scoped>\n",
       "    .dataframe tbody tr th:only-of-type {\n",
       "        vertical-align: middle;\n",
       "    }\n",
       "\n",
       "    .dataframe tbody tr th {\n",
       "        vertical-align: top;\n",
       "    }\n",
       "\n",
       "    .dataframe thead th {\n",
       "        text-align: right;\n",
       "    }\n",
       "</style>\n",
       "<table border=\"1\" class=\"dataframe\">\n",
       "  <thead>\n",
       "    <tr style=\"text-align: right;\">\n",
       "      <th></th>\n",
       "      <th>user_id</th>\n",
       "      <th>event_dt</th>\n",
       "      <th>event_name</th>\n",
       "      <th>details</th>\n",
       "    </tr>\n",
       "  </thead>\n",
       "  <tbody>\n",
       "    <tr>\n",
       "      <th>177902</th>\n",
       "      <td>5F30F5E0A679D5D1</td>\n",
       "      <td>2020-12-18 07:17:05</td>\n",
       "      <td>product_page</td>\n",
       "      <td>NaN</td>\n",
       "    </tr>\n",
       "    <tr>\n",
       "      <th>412535</th>\n",
       "      <td>0E31F3239E9589D8</td>\n",
       "      <td>2020-12-27 21:28:44</td>\n",
       "      <td>login</td>\n",
       "      <td>NaN</td>\n",
       "    </tr>\n",
       "    <tr>\n",
       "      <th>381593</th>\n",
       "      <td>8869E548C131599E</td>\n",
       "      <td>2020-12-22 19:06:17</td>\n",
       "      <td>login</td>\n",
       "      <td>NaN</td>\n",
       "    </tr>\n",
       "    <tr>\n",
       "      <th>45541</th>\n",
       "      <td>6FC81FA157DD45B6</td>\n",
       "      <td>2020-12-22 01:22:56</td>\n",
       "      <td>purchase</td>\n",
       "      <td>4.99</td>\n",
       "    </tr>\n",
       "    <tr>\n",
       "      <th>278264</th>\n",
       "      <td>5506264DF1DBE3A0</td>\n",
       "      <td>2020-12-13 21:34:05</td>\n",
       "      <td>login</td>\n",
       "      <td>NaN</td>\n",
       "    </tr>\n",
       "  </tbody>\n",
       "</table>\n",
       "</div>"
      ],
      "text/plain": [
       "                 user_id             event_dt    event_name  details\n",
       "177902  5F30F5E0A679D5D1  2020-12-18 07:17:05  product_page      NaN\n",
       "412535  0E31F3239E9589D8  2020-12-27 21:28:44         login      NaN\n",
       "381593  8869E548C131599E  2020-12-22 19:06:17         login      NaN\n",
       "45541   6FC81FA157DD45B6  2020-12-22 01:22:56      purchase     4.99\n",
       "278264  5506264DF1DBE3A0  2020-12-13 21:34:05         login      NaN"
      ]
     },
     "execution_count": 10,
     "metadata": {},
     "output_type": "execute_result"
    }
   ],
   "source": [
    "# Examining a sample of the events data \n",
    "events.sample(5)"
   ]
  },
  {
   "cell_type": "code",
   "execution_count": 11,
   "metadata": {
    "scrolled": true
   },
   "outputs": [
    {
     "name": "stdout",
     "output_type": "stream",
     "text": [
      "<class 'pandas.core.frame.DataFrame'>\n",
      "RangeIndex: 423761 entries, 0 to 423760\n",
      "Data columns (total 4 columns):\n",
      " #   Column      Non-Null Count   Dtype  \n",
      "---  ------      --------------   -----  \n",
      " 0   user_id     423761 non-null  object \n",
      " 1   event_dt    423761 non-null  object \n",
      " 2   event_name  423761 non-null  object \n",
      " 3   details     60314 non-null   float64\n",
      "dtypes: float64(1), object(3)\n",
      "memory usage: 12.9+ MB\n"
     ]
    }
   ],
   "source": [
    "# Checking the events data info\n",
    "events.info()"
   ]
  },
  {
   "cell_type": "markdown",
   "metadata": {},
   "source": [
    "- `event_dt` is an object instead of a datetime type.\n",
    "- It would be beneficial to have the date of the event seperately from the exact time.\n",
    "- Only a small part of the events have details. Perhaps only purchases have them?"
   ]
  },
  {
   "cell_type": "code",
   "execution_count": 12,
   "metadata": {},
   "outputs": [
    {
     "data": {
      "text/html": [
       "<div>\n",
       "<style scoped>\n",
       "    .dataframe tbody tr th:only-of-type {\n",
       "        vertical-align: middle;\n",
       "    }\n",
       "\n",
       "    .dataframe tbody tr th {\n",
       "        vertical-align: top;\n",
       "    }\n",
       "\n",
       "    .dataframe thead th {\n",
       "        text-align: right;\n",
       "    }\n",
       "</style>\n",
       "<table border=\"1\" class=\"dataframe\">\n",
       "  <thead>\n",
       "    <tr style=\"text-align: right;\">\n",
       "      <th></th>\n",
       "      <th>user_id</th>\n",
       "      <th>event_dt</th>\n",
       "      <th>event_name</th>\n",
       "      <th>details</th>\n",
       "      <th>session_date</th>\n",
       "    </tr>\n",
       "  </thead>\n",
       "  <tbody>\n",
       "    <tr>\n",
       "      <th>0</th>\n",
       "      <td>E1BDDCE0DAFA2679</td>\n",
       "      <td>2020-12-07 20:22:03</td>\n",
       "      <td>purchase</td>\n",
       "      <td>99.99</td>\n",
       "      <td>2020-12-07</td>\n",
       "    </tr>\n",
       "    <tr>\n",
       "      <th>1</th>\n",
       "      <td>7B6452F081F49504</td>\n",
       "      <td>2020-12-07 09:22:53</td>\n",
       "      <td>purchase</td>\n",
       "      <td>9.99</td>\n",
       "      <td>2020-12-07</td>\n",
       "    </tr>\n",
       "    <tr>\n",
       "      <th>2</th>\n",
       "      <td>9CD9F34546DF254C</td>\n",
       "      <td>2020-12-07 12:59:29</td>\n",
       "      <td>purchase</td>\n",
       "      <td>4.99</td>\n",
       "      <td>2020-12-07</td>\n",
       "    </tr>\n",
       "    <tr>\n",
       "      <th>3</th>\n",
       "      <td>96F27A054B191457</td>\n",
       "      <td>2020-12-07 04:02:40</td>\n",
       "      <td>purchase</td>\n",
       "      <td>4.99</td>\n",
       "      <td>2020-12-07</td>\n",
       "    </tr>\n",
       "    <tr>\n",
       "      <th>4</th>\n",
       "      <td>1FD7660FDF94CA1F</td>\n",
       "      <td>2020-12-07 10:15:09</td>\n",
       "      <td>purchase</td>\n",
       "      <td>4.99</td>\n",
       "      <td>2020-12-07</td>\n",
       "    </tr>\n",
       "  </tbody>\n",
       "</table>\n",
       "</div>"
      ],
      "text/plain": [
       "            user_id            event_dt event_name  details session_date\n",
       "0  E1BDDCE0DAFA2679 2020-12-07 20:22:03   purchase    99.99   2020-12-07\n",
       "1  7B6452F081F49504 2020-12-07 09:22:53   purchase     9.99   2020-12-07\n",
       "2  9CD9F34546DF254C 2020-12-07 12:59:29   purchase     4.99   2020-12-07\n",
       "3  96F27A054B191457 2020-12-07 04:02:40   purchase     4.99   2020-12-07\n",
       "4  1FD7660FDF94CA1F 2020-12-07 10:15:09   purchase     4.99   2020-12-07"
      ]
     },
     "execution_count": 12,
     "metadata": {},
     "output_type": "execute_result"
    }
   ],
   "source": [
    "# Converting `event_dt` column to a datetime type and extracting the date\n",
    "events.event_dt = pd.to_datetime(events.event_dt)\n",
    "events['session_date'] = events.event_dt.astype('datetime64[D]')\n",
    "events.head()"
   ]
  },
  {
   "cell_type": "code",
   "execution_count": 13,
   "metadata": {},
   "outputs": [
    {
     "data": {
      "text/plain": [
       "'Missing details:'"
      ]
     },
     "execution_count": 13,
     "metadata": {},
     "output_type": "execute_result"
    },
    {
     "data": {
      "text/plain": [
       "login           182465\n",
       "product_page    120862\n",
       "product_cart     60120\n",
       "Name: event_name, dtype: int64"
      ]
     },
     "execution_count": 13,
     "metadata": {},
     "output_type": "execute_result"
    },
    {
     "data": {
      "text/plain": [
       "'Non-missing details:'"
      ]
     },
     "execution_count": 13,
     "metadata": {},
     "output_type": "execute_result"
    },
    {
     "data": {
      "text/plain": [
       "purchase    60314\n",
       "Name: event_name, dtype: int64"
      ]
     },
     "execution_count": 13,
     "metadata": {},
     "output_type": "execute_result"
    }
   ],
   "source": [
    "# Checking whether the details coincide with the purchases (meaning the order total)\n",
    "\"Missing details:\"\n",
    "events[events['details'].isnull()]['event_name'].value_counts()\n",
    "\"Non-missing details:\"\n",
    "events[events['details'].notna()]['event_name'].value_counts()"
   ]
  },
  {
   "cell_type": "code",
   "execution_count": 14,
   "metadata": {},
   "outputs": [
    {
     "data": {
      "text/html": [
       "<div>\n",
       "<style scoped>\n",
       "    .dataframe tbody tr th:only-of-type {\n",
       "        vertical-align: middle;\n",
       "    }\n",
       "\n",
       "    .dataframe tbody tr th {\n",
       "        vertical-align: top;\n",
       "    }\n",
       "\n",
       "    .dataframe thead th {\n",
       "        text-align: right;\n",
       "    }\n",
       "</style>\n",
       "<table border=\"1\" class=\"dataframe\">\n",
       "  <thead>\n",
       "    <tr style=\"text-align: right;\">\n",
       "      <th></th>\n",
       "      <th>count</th>\n",
       "      <th>unique</th>\n",
       "      <th>top</th>\n",
       "      <th>freq</th>\n",
       "      <th>mean</th>\n",
       "      <th>min</th>\n",
       "      <th>25%</th>\n",
       "      <th>50%</th>\n",
       "      <th>75%</th>\n",
       "      <th>max</th>\n",
       "      <th>std</th>\n",
       "    </tr>\n",
       "  </thead>\n",
       "  <tbody>\n",
       "    <tr>\n",
       "      <th>user_id</th>\n",
       "      <td>423761</td>\n",
       "      <td>58703</td>\n",
       "      <td>A3917F81482141F2</td>\n",
       "      <td>36</td>\n",
       "      <td>NaN</td>\n",
       "      <td>NaN</td>\n",
       "      <td>NaN</td>\n",
       "      <td>NaN</td>\n",
       "      <td>NaN</td>\n",
       "      <td>NaN</td>\n",
       "      <td>NaN</td>\n",
       "    </tr>\n",
       "    <tr>\n",
       "      <th>event_dt</th>\n",
       "      <td>423761</td>\n",
       "      <td>NaN</td>\n",
       "      <td>NaN</td>\n",
       "      <td>NaN</td>\n",
       "      <td>2020-12-18 10:10:17.282395648</td>\n",
       "      <td>2020-12-07 00:00:33</td>\n",
       "      <td>2020-12-14 03:05:18</td>\n",
       "      <td>2020-12-18 17:40:52</td>\n",
       "      <td>2020-12-22 13:51:17</td>\n",
       "      <td>2020-12-30 23:36:33</td>\n",
       "      <td>NaN</td>\n",
       "    </tr>\n",
       "    <tr>\n",
       "      <th>event_name</th>\n",
       "      <td>423761</td>\n",
       "      <td>4</td>\n",
       "      <td>login</td>\n",
       "      <td>182465</td>\n",
       "      <td>NaN</td>\n",
       "      <td>NaN</td>\n",
       "      <td>NaN</td>\n",
       "      <td>NaN</td>\n",
       "      <td>NaN</td>\n",
       "      <td>NaN</td>\n",
       "      <td>NaN</td>\n",
       "    </tr>\n",
       "    <tr>\n",
       "      <th>details</th>\n",
       "      <td>60314.0</td>\n",
       "      <td>NaN</td>\n",
       "      <td>NaN</td>\n",
       "      <td>NaN</td>\n",
       "      <td>23.881219</td>\n",
       "      <td>4.99</td>\n",
       "      <td>4.99</td>\n",
       "      <td>4.99</td>\n",
       "      <td>9.99</td>\n",
       "      <td>499.99</td>\n",
       "      <td>72.228884</td>\n",
       "    </tr>\n",
       "    <tr>\n",
       "      <th>session_date</th>\n",
       "      <td>423761</td>\n",
       "      <td>NaN</td>\n",
       "      <td>NaN</td>\n",
       "      <td>NaN</td>\n",
       "      <td>2020-12-17 22:10:29.081014784</td>\n",
       "      <td>2020-12-07 00:00:00</td>\n",
       "      <td>2020-12-14 00:00:00</td>\n",
       "      <td>2020-12-18 00:00:00</td>\n",
       "      <td>2020-12-22 00:00:00</td>\n",
       "      <td>2020-12-30 00:00:00</td>\n",
       "      <td>NaN</td>\n",
       "    </tr>\n",
       "  </tbody>\n",
       "</table>\n",
       "</div>"
      ],
      "text/plain": [
       "                count unique               top    freq  \\\n",
       "user_id        423761  58703  A3917F81482141F2      36   \n",
       "event_dt       423761    NaN               NaN     NaN   \n",
       "event_name     423761      4             login  182465   \n",
       "details       60314.0    NaN               NaN     NaN   \n",
       "session_date   423761    NaN               NaN     NaN   \n",
       "\n",
       "                                       mean                  min  \\\n",
       "user_id                                 NaN                  NaN   \n",
       "event_dt      2020-12-18 10:10:17.282395648  2020-12-07 00:00:33   \n",
       "event_name                              NaN                  NaN   \n",
       "details                           23.881219                 4.99   \n",
       "session_date  2020-12-17 22:10:29.081014784  2020-12-07 00:00:00   \n",
       "\n",
       "                              25%                  50%                  75%  \\\n",
       "user_id                       NaN                  NaN                  NaN   \n",
       "event_dt      2020-12-14 03:05:18  2020-12-18 17:40:52  2020-12-22 13:51:17   \n",
       "event_name                    NaN                  NaN                  NaN   \n",
       "details                      4.99                 4.99                 9.99   \n",
       "session_date  2020-12-14 00:00:00  2020-12-18 00:00:00  2020-12-22 00:00:00   \n",
       "\n",
       "                              max        std  \n",
       "user_id                       NaN        NaN  \n",
       "event_dt      2020-12-30 23:36:33        NaN  \n",
       "event_name                    NaN        NaN  \n",
       "details                    499.99  72.228884  \n",
       "session_date  2020-12-30 00:00:00        NaN  "
      ]
     },
     "execution_count": 14,
     "metadata": {},
     "output_type": "execute_result"
    }
   ],
   "source": [
    "# Examining the descriptive statistics of the events data \n",
    "events.describe(include='all', datetime_is_numeric=True).T"
   ]
  },
  {
   "cell_type": "markdown",
   "metadata": {},
   "source": [
    "- There are 58,703 users - the same as in the new_users data.\n",
    "- Data was supposed to represent the events within the period 7.12.2020 - 1.1.2021, but in fact it doesn't include 1.1.2021 (end date is 30.12.2020).\n",
    "- There are 4 events or types of user actions. The top is login."
   ]
  },
  {
   "cell_type": "code",
   "execution_count": 15,
   "metadata": {},
   "outputs": [
    {
     "data": {
      "text/plain": [
       "0"
      ]
     },
     "execution_count": 15,
     "metadata": {},
     "output_type": "execute_result"
    }
   ],
   "source": [
    "events.duplicated().sum()"
   ]
  },
  {
   "cell_type": "markdown",
   "metadata": {},
   "source": [
    "### Participants data"
   ]
  },
  {
   "cell_type": "code",
   "execution_count": 16,
   "metadata": {},
   "outputs": [
    {
     "name": "stdout",
     "output_type": "stream",
     "text": [
      "<class 'pandas.core.frame.DataFrame'>\n",
      "RangeIndex: 14525 entries, 0 to 14524\n",
      "Data columns (total 3 columns):\n",
      " #   Column   Non-Null Count  Dtype \n",
      "---  ------   --------------  ----- \n",
      " 0   user_id  14525 non-null  object\n",
      " 1   group    14525 non-null  object\n",
      " 2   ab_test  14525 non-null  object\n",
      "dtypes: object(3)\n",
      "memory usage: 340.6+ KB\n"
     ]
    }
   ],
   "source": [
    "# Checking the participants data info\n",
    "participants.info()"
   ]
  },
  {
   "cell_type": "code",
   "execution_count": 17,
   "metadata": {},
   "outputs": [
    {
     "data": {
      "text/html": [
       "<div>\n",
       "<style scoped>\n",
       "    .dataframe tbody tr th:only-of-type {\n",
       "        vertical-align: middle;\n",
       "    }\n",
       "\n",
       "    .dataframe tbody tr th {\n",
       "        vertical-align: top;\n",
       "    }\n",
       "\n",
       "    .dataframe thead th {\n",
       "        text-align: right;\n",
       "    }\n",
       "</style>\n",
       "<table border=\"1\" class=\"dataframe\">\n",
       "  <thead>\n",
       "    <tr style=\"text-align: right;\">\n",
       "      <th></th>\n",
       "      <th>user_id</th>\n",
       "      <th>group</th>\n",
       "      <th>ab_test</th>\n",
       "    </tr>\n",
       "  </thead>\n",
       "  <tbody>\n",
       "    <tr>\n",
       "      <th>13749</th>\n",
       "      <td>D735D2EAC9C25BA1</td>\n",
       "      <td>A</td>\n",
       "      <td>interface_eu_test</td>\n",
       "    </tr>\n",
       "    <tr>\n",
       "      <th>11121</th>\n",
       "      <td>E8909F60D7833CFD</td>\n",
       "      <td>B</td>\n",
       "      <td>interface_eu_test</td>\n",
       "    </tr>\n",
       "    <tr>\n",
       "      <th>9265</th>\n",
       "      <td>15DAE225AF7DAC6B</td>\n",
       "      <td>B</td>\n",
       "      <td>interface_eu_test</td>\n",
       "    </tr>\n",
       "    <tr>\n",
       "      <th>10881</th>\n",
       "      <td>8D8BA554EEA66B9C</td>\n",
       "      <td>A</td>\n",
       "      <td>interface_eu_test</td>\n",
       "    </tr>\n",
       "    <tr>\n",
       "      <th>648</th>\n",
       "      <td>C729D0E3D2A3D492</td>\n",
       "      <td>A</td>\n",
       "      <td>recommender_system_test</td>\n",
       "    </tr>\n",
       "  </tbody>\n",
       "</table>\n",
       "</div>"
      ],
      "text/plain": [
       "                user_id group                  ab_test\n",
       "13749  D735D2EAC9C25BA1     A        interface_eu_test\n",
       "11121  E8909F60D7833CFD     B        interface_eu_test\n",
       "9265   15DAE225AF7DAC6B     B        interface_eu_test\n",
       "10881  8D8BA554EEA66B9C     A        interface_eu_test\n",
       "648    C729D0E3D2A3D492     A  recommender_system_test"
      ]
     },
     "execution_count": 17,
     "metadata": {},
     "output_type": "execute_result"
    }
   ],
   "source": [
    "# Examining a sample of the participants data \n",
    "participants.sample(5)"
   ]
  },
  {
   "cell_type": "code",
   "execution_count": 18,
   "metadata": {},
   "outputs": [
    {
     "data": {
      "text/html": [
       "<div>\n",
       "<style scoped>\n",
       "    .dataframe tbody tr th:only-of-type {\n",
       "        vertical-align: middle;\n",
       "    }\n",
       "\n",
       "    .dataframe tbody tr th {\n",
       "        vertical-align: top;\n",
       "    }\n",
       "\n",
       "    .dataframe thead th {\n",
       "        text-align: right;\n",
       "    }\n",
       "</style>\n",
       "<table border=\"1\" class=\"dataframe\">\n",
       "  <thead>\n",
       "    <tr style=\"text-align: right;\">\n",
       "      <th></th>\n",
       "      <th>count</th>\n",
       "      <th>unique</th>\n",
       "      <th>top</th>\n",
       "      <th>freq</th>\n",
       "    </tr>\n",
       "  </thead>\n",
       "  <tbody>\n",
       "    <tr>\n",
       "      <th>user_id</th>\n",
       "      <td>14525</td>\n",
       "      <td>13638</td>\n",
       "      <td>307C06C0E6F09B93</td>\n",
       "      <td>2</td>\n",
       "    </tr>\n",
       "    <tr>\n",
       "      <th>group</th>\n",
       "      <td>14525</td>\n",
       "      <td>2</td>\n",
       "      <td>A</td>\n",
       "      <td>8214</td>\n",
       "    </tr>\n",
       "    <tr>\n",
       "      <th>ab_test</th>\n",
       "      <td>14525</td>\n",
       "      <td>2</td>\n",
       "      <td>interface_eu_test</td>\n",
       "      <td>10850</td>\n",
       "    </tr>\n",
       "  </tbody>\n",
       "</table>\n",
       "</div>"
      ],
      "text/plain": [
       "         count unique                top   freq\n",
       "user_id  14525  13638   307C06C0E6F09B93      2\n",
       "group    14525      2                  A   8214\n",
       "ab_test  14525      2  interface_eu_test  10850"
      ]
     },
     "execution_count": 18,
     "metadata": {},
     "output_type": "execute_result"
    }
   ],
   "source": [
    "participants.describe(include='all').T"
   ]
  },
  {
   "cell_type": "markdown",
   "metadata": {},
   "source": [
    "- There are only 13,638 users who were assigned to an A/B test (in comparison to 58,703 new users in total).\n",
    "- There are two groups, top one is A.\n",
    "- There's no explicit A/A test.\n",
    "- There are two A/B tests, not just the one we're interested in. In fact most of the users participated in the second test (`interface_eu_test`)."
   ]
  },
  {
   "cell_type": "code",
   "execution_count": 19,
   "metadata": {},
   "outputs": [
    {
     "data": {
      "text/plain": [
       "'There are 887 users who were assigned to more than one test'"
      ]
     },
     "execution_count": 19,
     "metadata": {},
     "output_type": "execute_result"
    }
   ],
   "source": [
    "# Checking double assignments of users to tests\n",
    "double_tests = participants.groupby('user_id').agg({'ab_test':'count'}).query('ab_test >1').reset_index()\n",
    "f\"There are {len(double_tests)} users who were assigned to more than one test\""
   ]
  },
  {
   "cell_type": "markdown",
   "metadata": {},
   "source": [
    "- Users who were assigned to both of the tests simultaneously should be removed altogether, because it's impossible to isolate the effects of any of the tests. "
   ]
  },
  {
   "cell_type": "code",
   "execution_count": 20,
   "metadata": {},
   "outputs": [
    {
     "data": {
      "text/plain": [
       "887"
      ]
     },
     "execution_count": 20,
     "metadata": {},
     "output_type": "execute_result"
    }
   ],
   "source": [
    "# Another way to look at the \"double tests' users\"\n",
    "participants.duplicated(subset=['user_id']).sum()"
   ]
  },
  {
   "cell_type": "code",
   "execution_count": 21,
   "metadata": {},
   "outputs": [
    {
     "data": {
      "text/plain": [
       "'There are 12751 valid users'"
      ]
     },
     "execution_count": 21,
     "metadata": {},
     "output_type": "execute_result"
    }
   ],
   "source": [
    "# Excluding the \"double tests' users\"\n",
    "valid_participants = participants.drop_duplicates(subset=['user_id'], keep=False)\n",
    "f\"There are {valid_participants.user_id.nunique()} valid users\""
   ]
  },
  {
   "cell_type": "code",
   "execution_count": 22,
   "metadata": {},
   "outputs": [
    {
     "data": {
      "text/html": [
       "<div>\n",
       "<style scoped>\n",
       "    .dataframe tbody tr th:only-of-type {\n",
       "        vertical-align: middle;\n",
       "    }\n",
       "\n",
       "    .dataframe tbody tr th {\n",
       "        vertical-align: top;\n",
       "    }\n",
       "\n",
       "    .dataframe thead th {\n",
       "        text-align: right;\n",
       "    }\n",
       "</style>\n",
       "<table border=\"1\" class=\"dataframe\">\n",
       "  <thead>\n",
       "    <tr style=\"text-align: right;\">\n",
       "      <th></th>\n",
       "      <th>group</th>\n",
       "    </tr>\n",
       "    <tr>\n",
       "      <th>user_id</th>\n",
       "      <th></th>\n",
       "    </tr>\n",
       "  </thead>\n",
       "  <tbody>\n",
       "  </tbody>\n",
       "</table>\n",
       "</div>"
      ],
      "text/plain": [
       "Empty DataFrame\n",
       "Columns: [group]\n",
       "Index: []"
      ]
     },
     "execution_count": 22,
     "metadata": {},
     "output_type": "execute_result"
    }
   ],
   "source": [
    "# Making sure that there's no double assignment of users to groups\n",
    "valid_participants.groupby('user_id').agg({'group':'count'}).query('group >1')"
   ]
  },
  {
   "cell_type": "markdown",
   "metadata": {},
   "source": [
    "### Summary of preprocess"
   ]
  },
  {
   "cell_type": "markdown",
   "metadata": {},
   "source": [
    "- Converted relevant columns to datetime type.\n",
    "<br>\n",
    "- Found missing details about events - they appear only for purchases.\n",
    "<br>\n",
    "\n",
    "- Data about new users and their actions is for 58,703 users. Only 13,638 users were assigned to an A/B test. 887 of them were mistakenly assigned to two tests simultaneously, meaning there are 12,751 valid participants overall. However, they were assigned to two different A/B tests.\n",
    "<br>\n",
    "- There's no explicit A/A test.\n",
    "<br>\n",
    "- Assigning new users for the test was supposed to be in the period of 7-21.12.2020 according to the technical description, but the signing-up data ends two days later.\n",
    "<br>\n",
    "- Data about the events was supposed to be collected during 7.12.2020 - 1.1.2021, but in fact it doesn't include 1.1.2021 (end date is 30.12.2020).\n"
   ]
  },
  {
   "cell_type": "markdown",
   "metadata": {},
   "source": [
    "## Exploratory data analysis"
   ]
  },
  {
   "cell_type": "markdown",
   "metadata": {},
   "source": [
    "### Analysing dates"
   ]
  },
  {
   "cell_type": "code",
   "execution_count": 23,
   "metadata": {},
   "outputs": [
    {
     "data": {
      "text/html": [
       "<div>\n",
       "<style scoped>\n",
       "    .dataframe tbody tr th:only-of-type {\n",
       "        vertical-align: middle;\n",
       "    }\n",
       "\n",
       "    .dataframe tbody tr th {\n",
       "        vertical-align: top;\n",
       "    }\n",
       "\n",
       "    .dataframe thead th {\n",
       "        text-align: right;\n",
       "    }\n",
       "</style>\n",
       "<table border=\"1\" class=\"dataframe\">\n",
       "  <thead>\n",
       "    <tr style=\"text-align: right;\">\n",
       "      <th></th>\n",
       "      <th>name</th>\n",
       "      <th>regions</th>\n",
       "      <th>start_dt</th>\n",
       "      <th>finish_dt</th>\n",
       "    </tr>\n",
       "  </thead>\n",
       "  <tbody>\n",
       "    <tr>\n",
       "      <th>10</th>\n",
       "      <td>CIS New Year Gift Lottery</td>\n",
       "      <td>CIS</td>\n",
       "      <td>2020-12-30</td>\n",
       "      <td>2021-01-07</td>\n",
       "    </tr>\n",
       "    <tr>\n",
       "      <th>0</th>\n",
       "      <td>Christmas&amp;New Year Promo</td>\n",
       "      <td>EU, N.America</td>\n",
       "      <td>2020-12-25</td>\n",
       "      <td>2021-01-03</td>\n",
       "    </tr>\n",
       "    <tr>\n",
       "      <th>5</th>\n",
       "      <td>Black Friday Ads Campaign</td>\n",
       "      <td>EU, CIS, APAC, N.America</td>\n",
       "      <td>2020-11-26</td>\n",
       "      <td>2020-12-01</td>\n",
       "    </tr>\n",
       "    <tr>\n",
       "      <th>12</th>\n",
       "      <td>Single's Day Gift Promo</td>\n",
       "      <td>APAC</td>\n",
       "      <td>2020-11-11</td>\n",
       "      <td>2020-11-12</td>\n",
       "    </tr>\n",
       "    <tr>\n",
       "      <th>13</th>\n",
       "      <td>Chinese Moon Festival</td>\n",
       "      <td>APAC</td>\n",
       "      <td>2020-10-01</td>\n",
       "      <td>2020-10-07</td>\n",
       "    </tr>\n",
       "    <tr>\n",
       "      <th>4</th>\n",
       "      <td>4th of July Promo</td>\n",
       "      <td>N.America</td>\n",
       "      <td>2020-07-04</td>\n",
       "      <td>2020-07-11</td>\n",
       "    </tr>\n",
       "    <tr>\n",
       "      <th>11</th>\n",
       "      <td>Dragon Boat Festival Giveaway</td>\n",
       "      <td>APAC</td>\n",
       "      <td>2020-06-25</td>\n",
       "      <td>2020-07-01</td>\n",
       "    </tr>\n",
       "    <tr>\n",
       "      <th>9</th>\n",
       "      <td>Victory Day CIS (May 9th) Event</td>\n",
       "      <td>CIS</td>\n",
       "      <td>2020-05-09</td>\n",
       "      <td>2020-05-11</td>\n",
       "    </tr>\n",
       "    <tr>\n",
       "      <th>7</th>\n",
       "      <td>Labor day (May 1st) Ads Campaign</td>\n",
       "      <td>EU, CIS, APAC</td>\n",
       "      <td>2020-05-01</td>\n",
       "      <td>2020-05-03</td>\n",
       "    </tr>\n",
       "    <tr>\n",
       "      <th>3</th>\n",
       "      <td>Easter Promo</td>\n",
       "      <td>EU, CIS, APAC, N.America</td>\n",
       "      <td>2020-04-12</td>\n",
       "      <td>2020-04-19</td>\n",
       "    </tr>\n",
       "    <tr>\n",
       "      <th>2</th>\n",
       "      <td>St. Patric's Day Promo</td>\n",
       "      <td>EU, N.America</td>\n",
       "      <td>2020-03-17</td>\n",
       "      <td>2020-03-19</td>\n",
       "    </tr>\n",
       "    <tr>\n",
       "      <th>8</th>\n",
       "      <td>International Women's Day Promo</td>\n",
       "      <td>EU, CIS, APAC</td>\n",
       "      <td>2020-03-08</td>\n",
       "      <td>2020-03-10</td>\n",
       "    </tr>\n",
       "    <tr>\n",
       "      <th>1</th>\n",
       "      <td>St. Valentine's Day Giveaway</td>\n",
       "      <td>EU, CIS, APAC, N.America</td>\n",
       "      <td>2020-02-14</td>\n",
       "      <td>2020-02-16</td>\n",
       "    </tr>\n",
       "    <tr>\n",
       "      <th>6</th>\n",
       "      <td>Chinese New Year Promo</td>\n",
       "      <td>APAC</td>\n",
       "      <td>2020-01-25</td>\n",
       "      <td>2020-02-07</td>\n",
       "    </tr>\n",
       "  </tbody>\n",
       "</table>\n",
       "</div>"
      ],
      "text/plain": [
       "                                name                   regions    start_dt  \\\n",
       "10         CIS New Year Gift Lottery                       CIS  2020-12-30   \n",
       "0           Christmas&New Year Promo             EU, N.America  2020-12-25   \n",
       "5          Black Friday Ads Campaign  EU, CIS, APAC, N.America  2020-11-26   \n",
       "12           Single's Day Gift Promo                      APAC  2020-11-11   \n",
       "13             Chinese Moon Festival                      APAC  2020-10-01   \n",
       "4                  4th of July Promo                 N.America  2020-07-04   \n",
       "11     Dragon Boat Festival Giveaway                      APAC  2020-06-25   \n",
       "9    Victory Day CIS (May 9th) Event                       CIS  2020-05-09   \n",
       "7   Labor day (May 1st) Ads Campaign             EU, CIS, APAC  2020-05-01   \n",
       "3                       Easter Promo  EU, CIS, APAC, N.America  2020-04-12   \n",
       "2             St. Patric's Day Promo             EU, N.America  2020-03-17   \n",
       "8    International Women's Day Promo             EU, CIS, APAC  2020-03-08   \n",
       "1       St. Valentine's Day Giveaway  EU, CIS, APAC, N.America  2020-02-14   \n",
       "6             Chinese New Year Promo                      APAC  2020-01-25   \n",
       "\n",
       "     finish_dt  \n",
       "10  2021-01-07  \n",
       "0   2021-01-03  \n",
       "5   2020-12-01  \n",
       "12  2020-11-12  \n",
       "13  2020-10-07  \n",
       "4   2020-07-11  \n",
       "11  2020-07-01  \n",
       "9   2020-05-11  \n",
       "7   2020-05-03  \n",
       "3   2020-04-19  \n",
       "2   2020-03-19  \n",
       "8   2020-03-10  \n",
       "1   2020-02-16  \n",
       "6   2020-02-07  "
      ]
     },
     "execution_count": 23,
     "metadata": {},
     "output_type": "execute_result"
    }
   ],
   "source": [
    "# Sorting marketing events by date\n",
    "marketing_events = marketing_events.sort_values(by='start_dt',ascending=False)\n",
    "marketing_events"
   ]
  },
  {
   "cell_type": "code",
   "execution_count": 24,
   "metadata": {},
   "outputs": [
    {
     "data": {
      "image/png": "[encoded data removed]"
     },
     "metadata": {},
     "output_type": "display_data"
    }
   ],
   "source": [
    "# Visualizing marketing events\n",
    "fig = px.timeline(marketing_events, x_start=\"start_dt\", x_end=\"finish_dt\", y=\"name\",\n",
    "                  range_x=[marketing_events.start_dt.min(), marketing_events.finish_dt.max()],\n",
    "                  hover_data=['name', 'regions', 'start_dt', 'finish_dt'],\n",
    "                  labels={\n",
    "                     \"name\": \"Event\",\n",
    "                     \"regions\": \"Region\",\n",
    "                      \"start_dt\": \"Start\",\n",
    "                      \"finish_dt\": \"Finish\"},\n",
    "                  title=\"Calendar of marketing events for 2020\")\n",
    "fig.show(\"png\") "
   ]
  },
  {
   "cell_type": "markdown",
   "metadata": {},
   "source": [
    "- The campaign of 'Christmas & New Year Promo' took place in EU between 2020-12-25 and 2021-01-03, thus it was active during part of the time of the AB-test and might have affected its results.\n",
    "- Moreover the holiday itself (including the preparations for the holiday) might change both the service and the users' behavior and thus the AB-test results."
   ]
  },
  {
   "cell_type": "code",
   "execution_count": 25,
   "metadata": {},
   "outputs": [],
   "source": [
    "InteractiveShell.ast_node_interactivity = \"last\""
   ]
  },
  {
   "cell_type": "code",
   "execution_count": 26,
   "metadata": {},
   "outputs": [
    {
     "data": {
      "image/png": "[encoded data removed]"
     },
     "metadata": {},
     "output_type": "display_data"
    }
   ],
   "source": [
    "# Plotting sign-ups per date\n",
    "fig = px.histogram(new_users, x='first_date')\n",
    "fig.update_layout(\n",
    "    title=\"Distribution of sign-up dates for all new users\",\n",
    "    xaxis_title=\"Date\",\n",
    "    yaxis_title=\"Number of sign-ups\")\n",
    "fig.show(\"png\") "
   ]
  },
  {
   "cell_type": "markdown",
   "metadata": {},
   "source": [
    "- On Mondays, the number of registered users increases: it peaked on December 21st (with 6,077 users signing-up), and there were peaks on the 7th and 14th as well."
   ]
  },
  {
   "cell_type": "code",
   "execution_count": 27,
   "metadata": {},
   "outputs": [],
   "source": [
    "# Merging valid_participants and new_users data\n",
    "participants_new_users = valid_participants.merge(new_users, how=\"left\", on='user_id')"
   ]
  },
  {
   "cell_type": "code",
   "execution_count": 28,
   "metadata": {},
   "outputs": [
    {
     "data": {
      "image/png": "[encoded data removed]"
     },
     "metadata": {},
     "output_type": "display_data"
    }
   ],
   "source": [
    "# Plotting sign-ups per date for each of the tests\n",
    "fig = px.histogram(participants_new_users, x='first_date', color='ab_test',\n",
    "                  labels={\n",
    "                     \"first_date\": \"Date\",\n",
    "                     \"ab_test\": \"A/B test\"\n",
    "                 },\n",
    "                  title=\"Distribution of sign-up dates for new users, by A/B test\")\n",
    "fig.update_layout(\n",
    "    yaxis_title=\"Number of sign-ups\")\n",
    "fig.show(\"png\") "
   ]
  },
  {
   "cell_type": "markdown",
   "metadata": {},
   "source": [
    "- Now we can see that in fact the signing-up data for the `recommender_system_test` does end on December 21st as written in the technical description, while it is the `interface_eu_test` assigning that ends two days later.\n",
    "- Both of the tests show the three peaks: 7, 14 and 21.12.2020.\n",
    "- Otherwise the dynamics is a bit different, for example in the `recommender_system_test` 13.12 was the lowest and in the `interface_eu_test` it was pretty high."
   ]
  },
  {
   "cell_type": "code",
   "execution_count": 29,
   "metadata": {},
   "outputs": [
    {
     "data": {
      "image/png": "[encoded data removed]"
     },
     "metadata": {},
     "output_type": "display_data"
    }
   ],
   "source": [
    "# Plotting sessions per date\n",
    "fig = px.histogram(events, x='session_date',\n",
    "                  range_x=[events.session_date.min(), events.session_date.max()])\n",
    "fig.update_layout(\n",
    "    title=\"Distribution of sessions per date\",\n",
    "    xaxis_title=\"Date\",\n",
    "    yaxis_title=\"Number of sessions\")\n",
    "fig.show(\"png\") "
   ]
  },
  {
   "cell_type": "markdown",
   "metadata": {},
   "source": [
    "- The number of sessions also peaked at December 21st (like the number of sign-ups). There's a peak on the 14th as well.\n",
    "- The data is missing for December 25th, which was Christmas.\n",
    "- The period that preceded the holiday (till the 21st) is charachtarized by a rise in sessions.\n",
    "- After the holiday there was a drastic decrease in sessions.\n",
    "- On December 30th sessions dropped to almost zero.\n",
    "- I will consider 7-29.12 as valid dates, though there are many problems with the remaining dates to keep in mind (meaning the effect that the holiday and the campaign of 'Christmas & New Year Promo' might had on the AB-test results."
   ]
  },
  {
   "cell_type": "code",
   "execution_count": 30,
   "metadata": {},
   "outputs": [],
   "source": [
    "# Excluding December 30th\n",
    "events = events.query('event_dt<\"2020-12-30\"')"
   ]
  },
  {
   "cell_type": "markdown",
   "metadata": {},
   "source": [
    "### Analysing users"
   ]
  },
  {
   "cell_type": "code",
   "execution_count": 31,
   "metadata": {},
   "outputs": [
    {
     "data": {
      "text/html": [
       "<div>\n",
       "<style scoped>\n",
       "    .dataframe tbody tr th:only-of-type {\n",
       "        vertical-align: middle;\n",
       "    }\n",
       "\n",
       "    .dataframe tbody tr th {\n",
       "        vertical-align: top;\n",
       "    }\n",
       "\n",
       "    .dataframe thead th {\n",
       "        text-align: right;\n",
       "    }\n",
       "</style>\n",
       "<table border=\"1\" class=\"dataframe\">\n",
       "  <thead>\n",
       "    <tr style=\"text-align: right;\">\n",
       "      <th>group</th>\n",
       "      <th>ab_test</th>\n",
       "      <th>A</th>\n",
       "      <th>B</th>\n",
       "      <th>Total</th>\n",
       "    </tr>\n",
       "  </thead>\n",
       "  <tbody>\n",
       "    <tr>\n",
       "      <th>0</th>\n",
       "      <td>interface_eu_test</td>\n",
       "      <td>5011</td>\n",
       "      <td>4952</td>\n",
       "      <td>9963</td>\n",
       "    </tr>\n",
       "    <tr>\n",
       "      <th>1</th>\n",
       "      <td>recommender_system_test</td>\n",
       "      <td>2082</td>\n",
       "      <td>706</td>\n",
       "      <td>2788</td>\n",
       "    </tr>\n",
       "  </tbody>\n",
       "</table>\n",
       "</div>"
      ],
      "text/plain": [
       "group                  ab_test     A     B  Total\n",
       "0            interface_eu_test  5011  4952   9963\n",
       "1      recommender_system_test  2082   706   2788"
      ]
     },
     "execution_count": 31,
     "metadata": {},
     "output_type": "execute_result"
    }
   ],
   "source": [
    "# Examining the distribution of tests and groups\n",
    "tests_groups = valid_participants.pivot_table(index='ab_test', columns='group', values='user_id', aggfunc='nunique').reset_index()\n",
    "tests_groups['Total']= tests_groups.A+tests_groups.B\n",
    "tests_groups"
   ]
  },
  {
   "cell_type": "markdown",
   "metadata": {},
   "source": [
    "- `recommender_system_test` consists only of 2,788 users, and only 706 of them are in the test (B) group. While expected number of test participants was 6,000.\n",
    "- `interface_eu_test` consists of 9,963 users, quite evenely split between the A/B groups."
   ]
  },
  {
   "cell_type": "markdown",
   "metadata": {},
   "source": [
    "**Treating regions**"
   ]
  },
  {
   "cell_type": "code",
   "execution_count": 32,
   "metadata": {},
   "outputs": [
    {
     "data": {
      "text/plain": [
       "6509.4"
      ]
     },
     "execution_count": 32,
     "metadata": {},
     "output_type": "execute_result"
    }
   ],
   "source": [
    "# Audience is supposed to be 15% of the new users from the EU region\n",
    "new_users.query('region==\"EU\"')['user_id'].nunique()*0.15"
   ]
  },
  {
   "cell_type": "markdown",
   "metadata": {},
   "source": [
    "Audience is supposed to be 15% of the new users from the EU region => 6,509 users. We can already see that the number of users in the `recommender_system_test` is lower. The number of users in the  `interface_eu_test` on the other hand is higher. Next I will check the distribution of regions for both tests."
   ]
  },
  {
   "cell_type": "code",
   "execution_count": 33,
   "metadata": {},
   "outputs": [],
   "source": [
    "# Seperating the A/B tests\n",
    "recommender_participants_users = participants_new_users.query('ab_test==\"recommender_system_test\"').drop(columns='ab_test')\n",
    "interface_participants_users = participants_new_users.query('ab_test==\"interface_eu_test\"').drop(columns='ab_test')"
   ]
  },
  {
   "cell_type": "code",
   "execution_count": 34,
   "metadata": {},
   "outputs": [
    {
     "data": {
      "text/html": [
       "<style type=\"text/css\">\n",
       "</style>\n",
       "<table id=\"T_08c56_\">\n",
       "  <thead>\n",
       "    <tr>\n",
       "      <th class=\"blank level0\" >&nbsp;</th>\n",
       "      <th class=\"col_heading level0 col0\" >region</th>\n",
       "      <th class=\"col_heading level0 col1\" >count</th>\n",
       "      <th class=\"col_heading level0 col2\" >percent</th>\n",
       "      <th class=\"col_heading level0 col3\" >cumulative_count</th>\n",
       "      <th class=\"col_heading level0 col4\" >cumulative_percent</th>\n",
       "    </tr>\n",
       "  </thead>\n",
       "  <tbody>\n",
       "    <tr>\n",
       "      <th id=\"T_08c56_level0_row0\" class=\"row_heading level0 row0\" >0</th>\n",
       "      <td id=\"T_08c56_row0_col0\" class=\"data row0 col0\" >EU</td>\n",
       "      <td id=\"T_08c56_row0_col1\" class=\"data row0 col1\" >2,594</td>\n",
       "      <td id=\"T_08c56_row0_col2\" class=\"data row0 col2\" >93.04%</td>\n",
       "      <td id=\"T_08c56_row0_col3\" class=\"data row0 col3\" >2,594</td>\n",
       "      <td id=\"T_08c56_row0_col4\" class=\"data row0 col4\" >93.04%</td>\n",
       "    </tr>\n",
       "    <tr>\n",
       "      <th id=\"T_08c56_level0_row1\" class=\"row_heading level0 row1\" >1</th>\n",
       "      <td id=\"T_08c56_row1_col0\" class=\"data row1 col0\" >N.America</td>\n",
       "      <td id=\"T_08c56_row1_col1\" class=\"data row1 col1\" >119</td>\n",
       "      <td id=\"T_08c56_row1_col2\" class=\"data row1 col2\" >4.27%</td>\n",
       "      <td id=\"T_08c56_row1_col3\" class=\"data row1 col3\" >2,713</td>\n",
       "      <td id=\"T_08c56_row1_col4\" class=\"data row1 col4\" >97.31%</td>\n",
       "    </tr>\n",
       "    <tr>\n",
       "      <th id=\"T_08c56_level0_row2\" class=\"row_heading level0 row2\" >2</th>\n",
       "      <td id=\"T_08c56_row2_col0\" class=\"data row2 col0\" >APAC</td>\n",
       "      <td id=\"T_08c56_row2_col1\" class=\"data row2 col1\" >45</td>\n",
       "      <td id=\"T_08c56_row2_col2\" class=\"data row2 col2\" >1.61%</td>\n",
       "      <td id=\"T_08c56_row2_col3\" class=\"data row2 col3\" >2,758</td>\n",
       "      <td id=\"T_08c56_row2_col4\" class=\"data row2 col4\" >98.92%</td>\n",
       "    </tr>\n",
       "    <tr>\n",
       "      <th id=\"T_08c56_level0_row3\" class=\"row_heading level0 row3\" >3</th>\n",
       "      <td id=\"T_08c56_row3_col0\" class=\"data row3 col0\" >CIS</td>\n",
       "      <td id=\"T_08c56_row3_col1\" class=\"data row3 col1\" >30</td>\n",
       "      <td id=\"T_08c56_row3_col2\" class=\"data row3 col2\" >1.08%</td>\n",
       "      <td id=\"T_08c56_row3_col3\" class=\"data row3 col3\" >2,788</td>\n",
       "      <td id=\"T_08c56_row3_col4\" class=\"data row3 col4\" >100.00%</td>\n",
       "    </tr>\n",
       "  </tbody>\n",
       "</table>\n"
      ],
      "text/plain": [
       "<pandas.io.formats.style.Styler at 0x1bb23635610>"
      ]
     },
     "execution_count": 34,
     "metadata": {},
     "output_type": "execute_result"
    }
   ],
   "source": [
    "# Checking the distribution of regions among the recommender_system_test users\n",
    "recommender_participants_users.stb.freq(['region'], style=True)"
   ]
  },
  {
   "cell_type": "markdown",
   "metadata": {},
   "source": [
    "- Audience of `recommender_system_test` is supposed to be users from the EU region, but there are other regions too (7% of the users)."
   ]
  },
  {
   "cell_type": "code",
   "execution_count": 35,
   "metadata": {},
   "outputs": [
    {
     "name": "stdout",
     "output_type": "stream",
     "text": [
      "Percentage of EU among group A: 93.13%\n"
     ]
    },
    {
     "data": {
      "text/plain": [
       "'Percentage of EU among group B: 92.78%'"
      ]
     },
     "execution_count": 35,
     "metadata": {},
     "output_type": "execute_result"
    }
   ],
   "source": [
    "# Checking the percentage of EU among the users of group A vs. group B \n",
    "print(\"Percentage of EU among group A: {:.2%}\".format(len(recommender_participants_users.query('group==\"A\" & region==\"EU\"'))/len(recommender_participants_users.query('group==\"A\"'))))\n",
    "\"Percentage of EU among group B: {:.2%}\".format(len(recommender_participants_users.query('group==\"B\" & region==\"EU\"'))/len(recommender_participants_users.query('group==\"B\"')))"
   ]
  },
  {
   "cell_type": "markdown",
   "metadata": {},
   "source": [
    "- The percentage of EU is similar in both of the groups of `recommender_system_test`."
   ]
  },
  {
   "cell_type": "code",
   "execution_count": 36,
   "metadata": {},
   "outputs": [
    {
     "data": {
      "text/html": [
       "<style type=\"text/css\">\n",
       "</style>\n",
       "<table id=\"T_6fc3a_\">\n",
       "  <thead>\n",
       "    <tr>\n",
       "      <th class=\"blank level0\" >&nbsp;</th>\n",
       "      <th class=\"col_heading level0 col0\" >region</th>\n",
       "      <th class=\"col_heading level0 col1\" >count</th>\n",
       "      <th class=\"col_heading level0 col2\" >percent</th>\n",
       "      <th class=\"col_heading level0 col3\" >cumulative_count</th>\n",
       "      <th class=\"col_heading level0 col4\" >cumulative_percent</th>\n",
       "    </tr>\n",
       "  </thead>\n",
       "  <tbody>\n",
       "    <tr>\n",
       "      <th id=\"T_6fc3a_level0_row0\" class=\"row_heading level0 row0\" >0</th>\n",
       "      <td id=\"T_6fc3a_row0_col0\" class=\"data row0 col0\" >EU</td>\n",
       "      <td id=\"T_6fc3a_row0_col1\" class=\"data row0 col1\" >9,963</td>\n",
       "      <td id=\"T_6fc3a_row0_col2\" class=\"data row0 col2\" >100.00%</td>\n",
       "      <td id=\"T_6fc3a_row0_col3\" class=\"data row0 col3\" >9,963</td>\n",
       "      <td id=\"T_6fc3a_row0_col4\" class=\"data row0 col4\" >100.00%</td>\n",
       "    </tr>\n",
       "  </tbody>\n",
       "</table>\n"
      ],
      "text/plain": [
       "<pandas.io.formats.style.Styler at 0x1bb2ac60430>"
      ]
     },
     "execution_count": 36,
     "metadata": {},
     "output_type": "execute_result"
    }
   ],
   "source": [
    "# Checking the distribution of regions among the interface_eu_test users\n",
    "interface_participants_users.stb.freq(['region'], style=True)"
   ]
  },
  {
   "cell_type": "markdown",
   "metadata": {},
   "source": [
    "- All the `interface_eu_test` users are from EU."
   ]
  },
  {
   "cell_type": "code",
   "execution_count": 37,
   "metadata": {},
   "outputs": [],
   "source": [
    "interface_participants_users = interface_participants_users.drop(columns='region')"
   ]
  },
  {
   "cell_type": "code",
   "execution_count": 38,
   "metadata": {},
   "outputs": [
    {
     "data": {
      "text/html": [
       "<style type=\"text/css\">\n",
       "</style>\n",
       "<table id=\"T_4e65e_\">\n",
       "  <thead>\n",
       "    <tr>\n",
       "      <th class=\"blank level0\" >&nbsp;</th>\n",
       "      <th class=\"col_heading level0 col0\" >region</th>\n",
       "      <th class=\"col_heading level0 col1\" >count</th>\n",
       "      <th class=\"col_heading level0 col2\" >percent</th>\n",
       "      <th class=\"col_heading level0 col3\" >cumulative_count</th>\n",
       "      <th class=\"col_heading level0 col4\" >cumulative_percent</th>\n",
       "    </tr>\n",
       "  </thead>\n",
       "  <tbody>\n",
       "    <tr>\n",
       "      <th id=\"T_4e65e_level0_row0\" class=\"row_heading level0 row0\" >0</th>\n",
       "      <td id=\"T_4e65e_row0_col0\" class=\"data row0 col0\" >EU</td>\n",
       "      <td id=\"T_4e65e_row0_col1\" class=\"data row0 col1\" >43,396</td>\n",
       "      <td id=\"T_4e65e_row0_col2\" class=\"data row0 col2\" >73.92%</td>\n",
       "      <td id=\"T_4e65e_row0_col3\" class=\"data row0 col3\" >43,396</td>\n",
       "      <td id=\"T_4e65e_row0_col4\" class=\"data row0 col4\" >73.92%</td>\n",
       "    </tr>\n",
       "    <tr>\n",
       "      <th id=\"T_4e65e_level0_row1\" class=\"row_heading level0 row1\" >1</th>\n",
       "      <td id=\"T_4e65e_row1_col0\" class=\"data row1 col0\" >N.America</td>\n",
       "      <td id=\"T_4e65e_row1_col1\" class=\"data row1 col1\" >9,051</td>\n",
       "      <td id=\"T_4e65e_row1_col2\" class=\"data row1 col2\" >15.42%</td>\n",
       "      <td id=\"T_4e65e_row1_col3\" class=\"data row1 col3\" >52,447</td>\n",
       "      <td id=\"T_4e65e_row1_col4\" class=\"data row1 col4\" >89.34%</td>\n",
       "    </tr>\n",
       "    <tr>\n",
       "      <th id=\"T_4e65e_level0_row2\" class=\"row_heading level0 row2\" >2</th>\n",
       "      <td id=\"T_4e65e_row2_col0\" class=\"data row2 col0\" >CIS</td>\n",
       "      <td id=\"T_4e65e_row2_col1\" class=\"data row2 col1\" >3,130</td>\n",
       "      <td id=\"T_4e65e_row2_col2\" class=\"data row2 col2\" >5.33%</td>\n",
       "      <td id=\"T_4e65e_row2_col3\" class=\"data row2 col3\" >55,577</td>\n",
       "      <td id=\"T_4e65e_row2_col4\" class=\"data row2 col4\" >94.67%</td>\n",
       "    </tr>\n",
       "    <tr>\n",
       "      <th id=\"T_4e65e_level0_row3\" class=\"row_heading level0 row3\" >3</th>\n",
       "      <td id=\"T_4e65e_row3_col0\" class=\"data row3 col0\" >APAC</td>\n",
       "      <td id=\"T_4e65e_row3_col1\" class=\"data row3 col1\" >3,126</td>\n",
       "      <td id=\"T_4e65e_row3_col2\" class=\"data row3 col2\" >5.33%</td>\n",
       "      <td id=\"T_4e65e_row3_col3\" class=\"data row3 col3\" >58,703</td>\n",
       "      <td id=\"T_4e65e_row3_col4\" class=\"data row3 col4\" >100.00%</td>\n",
       "    </tr>\n",
       "  </tbody>\n",
       "</table>\n"
      ],
      "text/plain": [
       "<pandas.io.formats.style.Styler at 0x1bb33871b20>"
      ]
     },
     "execution_count": 38,
     "metadata": {},
     "output_type": "execute_result"
    }
   ],
   "source": [
    "# Checking the distribution of regions among all the new users\n",
    "new_users.stb.freq(['region'], style=True)"
   ]
  },
  {
   "cell_type": "markdown",
   "metadata": {},
   "source": [
    "- The percentage of EU among all the new users is lower than in the `recommender_system_test` - 74% vs. 93%.\n",
    "- I believe that other regions were included in the `recommender_system_test` by mistake => I will remove them."
   ]
  },
  {
   "cell_type": "code",
   "execution_count": 39,
   "metadata": {},
   "outputs": [
    {
     "data": {
      "text/html": [
       "<div>\n",
       "<style scoped>\n",
       "    .dataframe tbody tr th:only-of-type {\n",
       "        vertical-align: middle;\n",
       "    }\n",
       "\n",
       "    .dataframe tbody tr th {\n",
       "        vertical-align: top;\n",
       "    }\n",
       "\n",
       "    .dataframe thead th {\n",
       "        text-align: right;\n",
       "    }\n",
       "</style>\n",
       "<table border=\"1\" class=\"dataframe\">\n",
       "  <thead>\n",
       "    <tr style=\"text-align: right;\">\n",
       "      <th></th>\n",
       "      <th>user_id</th>\n",
       "      <th>group</th>\n",
       "      <th>first_date</th>\n",
       "      <th>device</th>\n",
       "    </tr>\n",
       "  </thead>\n",
       "  <tbody>\n",
       "    <tr>\n",
       "      <th>0</th>\n",
       "      <td>D1ABA3E2887B6A73</td>\n",
       "      <td>A</td>\n",
       "      <td>2020-12-07</td>\n",
       "      <td>PC</td>\n",
       "    </tr>\n",
       "    <tr>\n",
       "      <th>1</th>\n",
       "      <td>A7A3664BD6242119</td>\n",
       "      <td>A</td>\n",
       "      <td>2020-12-20</td>\n",
       "      <td>iPhone</td>\n",
       "    </tr>\n",
       "    <tr>\n",
       "      <th>2</th>\n",
       "      <td>4FF2998A348C484F</td>\n",
       "      <td>A</td>\n",
       "      <td>2020-12-20</td>\n",
       "      <td>Mac</td>\n",
       "    </tr>\n",
       "    <tr>\n",
       "      <th>3</th>\n",
       "      <td>7473E0943673C09E</td>\n",
       "      <td>A</td>\n",
       "      <td>2020-12-16</td>\n",
       "      <td>iPhone</td>\n",
       "    </tr>\n",
       "    <tr>\n",
       "      <th>4</th>\n",
       "      <td>C46FE336D240A054</td>\n",
       "      <td>A</td>\n",
       "      <td>2020-12-17</td>\n",
       "      <td>iPhone</td>\n",
       "    </tr>\n",
       "    <tr>\n",
       "      <th>...</th>\n",
       "      <td>...</td>\n",
       "      <td>...</td>\n",
       "      <td>...</td>\n",
       "      <td>...</td>\n",
       "    </tr>\n",
       "    <tr>\n",
       "      <th>2589</th>\n",
       "      <td>700E7D23A9A81AE3</td>\n",
       "      <td>B</td>\n",
       "      <td>2020-12-16</td>\n",
       "      <td>Android</td>\n",
       "    </tr>\n",
       "    <tr>\n",
       "      <th>2590</th>\n",
       "      <td>7C5C12FA1B5AB710</td>\n",
       "      <td>A</td>\n",
       "      <td>2020-12-21</td>\n",
       "      <td>Android</td>\n",
       "    </tr>\n",
       "    <tr>\n",
       "      <th>2591</th>\n",
       "      <td>91C3969B8A72B908</td>\n",
       "      <td>B</td>\n",
       "      <td>2020-12-09</td>\n",
       "      <td>Android</td>\n",
       "    </tr>\n",
       "    <tr>\n",
       "      <th>2592</th>\n",
       "      <td>E26F13A65CEAC6EA</td>\n",
       "      <td>A</td>\n",
       "      <td>2020-12-17</td>\n",
       "      <td>Mac</td>\n",
       "    </tr>\n",
       "    <tr>\n",
       "      <th>2593</th>\n",
       "      <td>80712ED4EA1B52A5</td>\n",
       "      <td>A</td>\n",
       "      <td>2020-12-14</td>\n",
       "      <td>Android</td>\n",
       "    </tr>\n",
       "  </tbody>\n",
       "</table>\n",
       "<p>2594 rows × 4 columns</p>\n",
       "</div>"
      ],
      "text/plain": [
       "               user_id group first_date   device\n",
       "0     D1ABA3E2887B6A73     A 2020-12-07       PC\n",
       "1     A7A3664BD6242119     A 2020-12-20   iPhone\n",
       "2     4FF2998A348C484F     A 2020-12-20      Mac\n",
       "3     7473E0943673C09E     A 2020-12-16   iPhone\n",
       "4     C46FE336D240A054     A 2020-12-17   iPhone\n",
       "...                ...   ...        ...      ...\n",
       "2589  700E7D23A9A81AE3     B 2020-12-16  Android\n",
       "2590  7C5C12FA1B5AB710     A 2020-12-21  Android\n",
       "2591  91C3969B8A72B908     B 2020-12-09  Android\n",
       "2592  E26F13A65CEAC6EA     A 2020-12-17      Mac\n",
       "2593  80712ED4EA1B52A5     A 2020-12-14  Android\n",
       "\n",
       "[2594 rows x 4 columns]"
      ]
     },
     "execution_count": 39,
     "metadata": {},
     "output_type": "execute_result"
    }
   ],
   "source": [
    "# Selecting only EU users\n",
    "recommender_participants_users = recommender_participants_users.query('region==\"EU\"').drop(columns='region')\n",
    "recommender_participants_users"
   ]
  },
  {
   "cell_type": "code",
   "execution_count": 40,
   "metadata": {},
   "outputs": [
    {
     "data": {
      "text/plain": [
       "'Audience of the `recommender_system_test` is 6% of the new users from the EU region (2594 users)'"
      ]
     },
     "execution_count": 40,
     "metadata": {},
     "output_type": "execute_result"
    }
   ],
   "source": [
    "\"Audience of the `recommender_system_test` is {:.0%} of the new users from the EU region ({} users)\".format(len(recommender_participants_users)/new_users.query('region==\"EU\"')['user_id'].nunique(),len(recommender_participants_users) )"
   ]
  },
  {
   "cell_type": "code",
   "execution_count": 41,
   "metadata": {},
   "outputs": [
    {
     "data": {
      "text/plain": [
       "'Audience of the `interface_eu_test` is 23% of the new users from the EU region (9963 users)'"
      ]
     },
     "execution_count": 41,
     "metadata": {},
     "output_type": "execute_result"
    }
   ],
   "source": [
    "\"Audience of the `interface_eu_test` is {:.0%} of the new users from the EU region ({} users)\".format(len(interface_participants_users)/new_users.query('region==\"EU\"')['user_id'].nunique(),len(interface_participants_users))"
   ]
  },
  {
   "cell_type": "markdown",
   "metadata": {},
   "source": [
    "**Treating devices**"
   ]
  },
  {
   "cell_type": "code",
   "execution_count": 42,
   "metadata": {},
   "outputs": [],
   "source": [
    "def device_group (df, group):\n",
    "    \"\"\"\n",
    "    Checks the distribution of devices for each group of each test\n",
    "    df: data of each test\n",
    "    group: instances of `group` column\n",
    "    return: frequency table\n",
    "    \"\"\"\n",
    "    return df[df['group']==group].stb.freq(['device'], style=True)"
   ]
  },
  {
   "cell_type": "code",
   "execution_count": 43,
   "metadata": {},
   "outputs": [
    {
     "data": {
      "text/html": [
       "<style type=\"text/css\">\n",
       "</style>\n",
       "<table id=\"T_b2d3f_\">\n",
       "  <thead>\n",
       "    <tr>\n",
       "      <th class=\"blank level0\" >&nbsp;</th>\n",
       "      <th class=\"col_heading level0 col0\" >device</th>\n",
       "      <th class=\"col_heading level0 col1\" >count</th>\n",
       "      <th class=\"col_heading level0 col2\" >percent</th>\n",
       "      <th class=\"col_heading level0 col3\" >cumulative_count</th>\n",
       "      <th class=\"col_heading level0 col4\" >cumulative_percent</th>\n",
       "    </tr>\n",
       "  </thead>\n",
       "  <tbody>\n",
       "    <tr>\n",
       "      <th id=\"T_b2d3f_level0_row0\" class=\"row_heading level0 row0\" >0</th>\n",
       "      <td id=\"T_b2d3f_row0_col0\" class=\"data row0 col0\" >Android</td>\n",
       "      <td id=\"T_b2d3f_row0_col1\" class=\"data row0 col1\" >858</td>\n",
       "      <td id=\"T_b2d3f_row0_col2\" class=\"data row0 col2\" >44.25%</td>\n",
       "      <td id=\"T_b2d3f_row0_col3\" class=\"data row0 col3\" >858</td>\n",
       "      <td id=\"T_b2d3f_row0_col4\" class=\"data row0 col4\" >44.25%</td>\n",
       "    </tr>\n",
       "    <tr>\n",
       "      <th id=\"T_b2d3f_level0_row1\" class=\"row_heading level0 row1\" >1</th>\n",
       "      <td id=\"T_b2d3f_row1_col0\" class=\"data row1 col0\" >PC</td>\n",
       "      <td id=\"T_b2d3f_row1_col1\" class=\"data row1 col1\" >504</td>\n",
       "      <td id=\"T_b2d3f_row1_col2\" class=\"data row1 col2\" >25.99%</td>\n",
       "      <td id=\"T_b2d3f_row1_col3\" class=\"data row1 col3\" >1,362</td>\n",
       "      <td id=\"T_b2d3f_row1_col4\" class=\"data row1 col4\" >70.24%</td>\n",
       "    </tr>\n",
       "    <tr>\n",
       "      <th id=\"T_b2d3f_level0_row2\" class=\"row_heading level0 row2\" >2</th>\n",
       "      <td id=\"T_b2d3f_row2_col0\" class=\"data row2 col0\" >iPhone</td>\n",
       "      <td id=\"T_b2d3f_row2_col1\" class=\"data row2 col1\" >400</td>\n",
       "      <td id=\"T_b2d3f_row2_col2\" class=\"data row2 col2\" >20.63%</td>\n",
       "      <td id=\"T_b2d3f_row2_col3\" class=\"data row2 col3\" >1,762</td>\n",
       "      <td id=\"T_b2d3f_row2_col4\" class=\"data row2 col4\" >90.87%</td>\n",
       "    </tr>\n",
       "    <tr>\n",
       "      <th id=\"T_b2d3f_level0_row3\" class=\"row_heading level0 row3\" >3</th>\n",
       "      <td id=\"T_b2d3f_row3_col0\" class=\"data row3 col0\" >Mac</td>\n",
       "      <td id=\"T_b2d3f_row3_col1\" class=\"data row3 col1\" >177</td>\n",
       "      <td id=\"T_b2d3f_row3_col2\" class=\"data row3 col2\" >9.13%</td>\n",
       "      <td id=\"T_b2d3f_row3_col3\" class=\"data row3 col3\" >1,939</td>\n",
       "      <td id=\"T_b2d3f_row3_col4\" class=\"data row3 col4\" >100.00%</td>\n",
       "    </tr>\n",
       "  </tbody>\n",
       "</table>\n"
      ],
      "text/plain": [
       "<pandas.io.formats.style.Styler at 0x1bb33883dc0>"
      ]
     },
     "execution_count": 43,
     "metadata": {},
     "output_type": "execute_result"
    }
   ],
   "source": [
    "device_group(recommender_participants_users, 'A')"
   ]
  },
  {
   "cell_type": "code",
   "execution_count": 44,
   "metadata": {},
   "outputs": [
    {
     "data": {
      "text/html": [
       "<style type=\"text/css\">\n",
       "</style>\n",
       "<table id=\"T_8a124_\">\n",
       "  <thead>\n",
       "    <tr>\n",
       "      <th class=\"blank level0\" >&nbsp;</th>\n",
       "      <th class=\"col_heading level0 col0\" >device</th>\n",
       "      <th class=\"col_heading level0 col1\" >count</th>\n",
       "      <th class=\"col_heading level0 col2\" >percent</th>\n",
       "      <th class=\"col_heading level0 col3\" >cumulative_count</th>\n",
       "      <th class=\"col_heading level0 col4\" >cumulative_percent</th>\n",
       "    </tr>\n",
       "  </thead>\n",
       "  <tbody>\n",
       "    <tr>\n",
       "      <th id=\"T_8a124_level0_row0\" class=\"row_heading level0 row0\" >0</th>\n",
       "      <td id=\"T_8a124_row0_col0\" class=\"data row0 col0\" >Android</td>\n",
       "      <td id=\"T_8a124_row0_col1\" class=\"data row0 col1\" >309</td>\n",
       "      <td id=\"T_8a124_row0_col2\" class=\"data row0 col2\" >47.18%</td>\n",
       "      <td id=\"T_8a124_row0_col3\" class=\"data row0 col3\" >309</td>\n",
       "      <td id=\"T_8a124_row0_col4\" class=\"data row0 col4\" >47.18%</td>\n",
       "    </tr>\n",
       "    <tr>\n",
       "      <th id=\"T_8a124_level0_row1\" class=\"row_heading level0 row1\" >1</th>\n",
       "      <td id=\"T_8a124_row1_col0\" class=\"data row1 col0\" >PC</td>\n",
       "      <td id=\"T_8a124_row1_col1\" class=\"data row1 col1\" >158</td>\n",
       "      <td id=\"T_8a124_row1_col2\" class=\"data row1 col2\" >24.12%</td>\n",
       "      <td id=\"T_8a124_row1_col3\" class=\"data row1 col3\" >467</td>\n",
       "      <td id=\"T_8a124_row1_col4\" class=\"data row1 col4\" >71.30%</td>\n",
       "    </tr>\n",
       "    <tr>\n",
       "      <th id=\"T_8a124_level0_row2\" class=\"row_heading level0 row2\" >2</th>\n",
       "      <td id=\"T_8a124_row2_col0\" class=\"data row2 col0\" >iPhone</td>\n",
       "      <td id=\"T_8a124_row2_col1\" class=\"data row2 col1\" >130</td>\n",
       "      <td id=\"T_8a124_row2_col2\" class=\"data row2 col2\" >19.85%</td>\n",
       "      <td id=\"T_8a124_row2_col3\" class=\"data row2 col3\" >597</td>\n",
       "      <td id=\"T_8a124_row2_col4\" class=\"data row2 col4\" >91.15%</td>\n",
       "    </tr>\n",
       "    <tr>\n",
       "      <th id=\"T_8a124_level0_row3\" class=\"row_heading level0 row3\" >3</th>\n",
       "      <td id=\"T_8a124_row3_col0\" class=\"data row3 col0\" >Mac</td>\n",
       "      <td id=\"T_8a124_row3_col1\" class=\"data row3 col1\" >58</td>\n",
       "      <td id=\"T_8a124_row3_col2\" class=\"data row3 col2\" >8.85%</td>\n",
       "      <td id=\"T_8a124_row3_col3\" class=\"data row3 col3\" >655</td>\n",
       "      <td id=\"T_8a124_row3_col4\" class=\"data row3 col4\" >100.00%</td>\n",
       "    </tr>\n",
       "  </tbody>\n",
       "</table>\n"
      ],
      "text/plain": [
       "<pandas.io.formats.style.Styler at 0x1bb338671c0>"
      ]
     },
     "execution_count": 44,
     "metadata": {},
     "output_type": "execute_result"
    }
   ],
   "source": [
    "device_group(recommender_participants_users, 'B')"
   ]
  },
  {
   "cell_type": "markdown",
   "metadata": {},
   "source": [
    "- Group B of the `recommender_system_test` used Android a little more (47% vs. 44%), and PC a little less (24% vs. 26%), but the differences seem relatively small."
   ]
  },
  {
   "cell_type": "code",
   "execution_count": 45,
   "metadata": {},
   "outputs": [
    {
     "data": {
      "text/html": [
       "<style type=\"text/css\">\n",
       "</style>\n",
       "<table id=\"T_05f1f_\">\n",
       "  <thead>\n",
       "    <tr>\n",
       "      <th class=\"blank level0\" >&nbsp;</th>\n",
       "      <th class=\"col_heading level0 col0\" >device</th>\n",
       "      <th class=\"col_heading level0 col1\" >count</th>\n",
       "      <th class=\"col_heading level0 col2\" >percent</th>\n",
       "      <th class=\"col_heading level0 col3\" >cumulative_count</th>\n",
       "      <th class=\"col_heading level0 col4\" >cumulative_percent</th>\n",
       "    </tr>\n",
       "  </thead>\n",
       "  <tbody>\n",
       "    <tr>\n",
       "      <th id=\"T_05f1f_level0_row0\" class=\"row_heading level0 row0\" >0</th>\n",
       "      <td id=\"T_05f1f_row0_col0\" class=\"data row0 col0\" >Android</td>\n",
       "      <td id=\"T_05f1f_row0_col1\" class=\"data row0 col1\" >2,218</td>\n",
       "      <td id=\"T_05f1f_row0_col2\" class=\"data row0 col2\" >44.26%</td>\n",
       "      <td id=\"T_05f1f_row0_col3\" class=\"data row0 col3\" >2,218</td>\n",
       "      <td id=\"T_05f1f_row0_col4\" class=\"data row0 col4\" >44.26%</td>\n",
       "    </tr>\n",
       "    <tr>\n",
       "      <th id=\"T_05f1f_level0_row1\" class=\"row_heading level0 row1\" >1</th>\n",
       "      <td id=\"T_05f1f_row1_col0\" class=\"data row1 col0\" >PC</td>\n",
       "      <td id=\"T_05f1f_row1_col1\" class=\"data row1 col1\" >1,302</td>\n",
       "      <td id=\"T_05f1f_row1_col2\" class=\"data row1 col2\" >25.98%</td>\n",
       "      <td id=\"T_05f1f_row1_col3\" class=\"data row1 col3\" >3,520</td>\n",
       "      <td id=\"T_05f1f_row1_col4\" class=\"data row1 col4\" >70.25%</td>\n",
       "    </tr>\n",
       "    <tr>\n",
       "      <th id=\"T_05f1f_level0_row2\" class=\"row_heading level0 row2\" >2</th>\n",
       "      <td id=\"T_05f1f_row2_col0\" class=\"data row2 col0\" >iPhone</td>\n",
       "      <td id=\"T_05f1f_row2_col1\" class=\"data row2 col1\" >980</td>\n",
       "      <td id=\"T_05f1f_row2_col2\" class=\"data row2 col2\" >19.56%</td>\n",
       "      <td id=\"T_05f1f_row2_col3\" class=\"data row2 col3\" >4,500</td>\n",
       "      <td id=\"T_05f1f_row2_col4\" class=\"data row2 col4\" >89.80%</td>\n",
       "    </tr>\n",
       "    <tr>\n",
       "      <th id=\"T_05f1f_level0_row3\" class=\"row_heading level0 row3\" >3</th>\n",
       "      <td id=\"T_05f1f_row3_col0\" class=\"data row3 col0\" >Mac</td>\n",
       "      <td id=\"T_05f1f_row3_col1\" class=\"data row3 col1\" >511</td>\n",
       "      <td id=\"T_05f1f_row3_col2\" class=\"data row3 col2\" >10.20%</td>\n",
       "      <td id=\"T_05f1f_row3_col3\" class=\"data row3 col3\" >5,011</td>\n",
       "      <td id=\"T_05f1f_row3_col4\" class=\"data row3 col4\" >100.00%</td>\n",
       "    </tr>\n",
       "  </tbody>\n",
       "</table>\n"
      ],
      "text/plain": [
       "<pandas.io.formats.style.Styler at 0x1bb33871400>"
      ]
     },
     "execution_count": 45,
     "metadata": {},
     "output_type": "execute_result"
    }
   ],
   "source": [
    "device_group(interface_participants_users, 'A')"
   ]
  },
  {
   "cell_type": "code",
   "execution_count": 46,
   "metadata": {},
   "outputs": [
    {
     "data": {
      "text/html": [
       "<style type=\"text/css\">\n",
       "</style>\n",
       "<table id=\"T_3d34d_\">\n",
       "  <thead>\n",
       "    <tr>\n",
       "      <th class=\"blank level0\" >&nbsp;</th>\n",
       "      <th class=\"col_heading level0 col0\" >device</th>\n",
       "      <th class=\"col_heading level0 col1\" >count</th>\n",
       "      <th class=\"col_heading level0 col2\" >percent</th>\n",
       "      <th class=\"col_heading level0 col3\" >cumulative_count</th>\n",
       "      <th class=\"col_heading level0 col4\" >cumulative_percent</th>\n",
       "    </tr>\n",
       "  </thead>\n",
       "  <tbody>\n",
       "    <tr>\n",
       "      <th id=\"T_3d34d_level0_row0\" class=\"row_heading level0 row0\" >0</th>\n",
       "      <td id=\"T_3d34d_row0_col0\" class=\"data row0 col0\" >Android</td>\n",
       "      <td id=\"T_3d34d_row0_col1\" class=\"data row0 col1\" >2,264</td>\n",
       "      <td id=\"T_3d34d_row0_col2\" class=\"data row0 col2\" >45.72%</td>\n",
       "      <td id=\"T_3d34d_row0_col3\" class=\"data row0 col3\" >2,264</td>\n",
       "      <td id=\"T_3d34d_row0_col4\" class=\"data row0 col4\" >45.72%</td>\n",
       "    </tr>\n",
       "    <tr>\n",
       "      <th id=\"T_3d34d_level0_row1\" class=\"row_heading level0 row1\" >1</th>\n",
       "      <td id=\"T_3d34d_row1_col0\" class=\"data row1 col0\" >PC</td>\n",
       "      <td id=\"T_3d34d_row1_col1\" class=\"data row1 col1\" >1,223</td>\n",
       "      <td id=\"T_3d34d_row1_col2\" class=\"data row1 col2\" >24.70%</td>\n",
       "      <td id=\"T_3d34d_row1_col3\" class=\"data row1 col3\" >3,487</td>\n",
       "      <td id=\"T_3d34d_row1_col4\" class=\"data row1 col4\" >70.42%</td>\n",
       "    </tr>\n",
       "    <tr>\n",
       "      <th id=\"T_3d34d_level0_row2\" class=\"row_heading level0 row2\" >2</th>\n",
       "      <td id=\"T_3d34d_row2_col0\" class=\"data row2 col0\" >iPhone</td>\n",
       "      <td id=\"T_3d34d_row2_col1\" class=\"data row2 col1\" >950</td>\n",
       "      <td id=\"T_3d34d_row2_col2\" class=\"data row2 col2\" >19.18%</td>\n",
       "      <td id=\"T_3d34d_row2_col3\" class=\"data row2 col3\" >4,437</td>\n",
       "      <td id=\"T_3d34d_row2_col4\" class=\"data row2 col4\" >89.60%</td>\n",
       "    </tr>\n",
       "    <tr>\n",
       "      <th id=\"T_3d34d_level0_row3\" class=\"row_heading level0 row3\" >3</th>\n",
       "      <td id=\"T_3d34d_row3_col0\" class=\"data row3 col0\" >Mac</td>\n",
       "      <td id=\"T_3d34d_row3_col1\" class=\"data row3 col1\" >515</td>\n",
       "      <td id=\"T_3d34d_row3_col2\" class=\"data row3 col2\" >10.40%</td>\n",
       "      <td id=\"T_3d34d_row3_col3\" class=\"data row3 col3\" >4,952</td>\n",
       "      <td id=\"T_3d34d_row3_col4\" class=\"data row3 col4\" >100.00%</td>\n",
       "    </tr>\n",
       "  </tbody>\n",
       "</table>\n"
      ],
      "text/plain": [
       "<pandas.io.formats.style.Styler at 0x1bb33883a90>"
      ]
     },
     "execution_count": 46,
     "metadata": {},
     "output_type": "execute_result"
    }
   ],
   "source": [
    "device_group(interface_participants_users, 'B')"
   ]
  },
  {
   "cell_type": "markdown",
   "metadata": {},
   "source": [
    "- The distribution of devices for group A vs. B of `interface_eu_test` seems similar enough."
   ]
  },
  {
   "cell_type": "markdown",
   "metadata": {},
   "source": [
    "### Analysing events"
   ]
  },
  {
   "cell_type": "markdown",
   "metadata": {},
   "source": [
    "#### In general"
   ]
  },
  {
   "cell_type": "code",
   "execution_count": 47,
   "metadata": {},
   "outputs": [
    {
     "data": {
      "text/plain": [
       "'The average number of actions per user is 7.22'"
      ]
     },
     "execution_count": 47,
     "metadata": {},
     "output_type": "execute_result"
    }
   ],
   "source": [
    "# Calculating the number of actions per user\n",
    "event_user_count = events.groupby('user_id').agg({'event_name':'count'}).reset_index()\n",
    "f\"The average number of actions per user is {round(event_user_count.event_name.mean(),2)}\""
   ]
  },
  {
   "cell_type": "code",
   "execution_count": 48,
   "metadata": {},
   "outputs": [
    {
     "data": {
      "text/plain": [
       "count    58703.000000\n",
       "mean         7.217212\n",
       "std          4.121021\n",
       "min          1.000000\n",
       "25%          4.000000\n",
       "50%          6.000000\n",
       "75%          9.000000\n",
       "max         36.000000\n",
       "Name: event_name, dtype: float64"
      ]
     },
     "execution_count": 48,
     "metadata": {},
     "output_type": "execute_result"
    }
   ],
   "source": [
    "# Examining the descriptive statistics of the number of actions per user\n",
    "event_user_count.event_name.describe()"
   ]
  },
  {
   "cell_type": "code",
   "execution_count": 49,
   "metadata": {},
   "outputs": [
    {
     "data": {
      "image/png": "[encoded data removed]"
     },
     "metadata": {},
     "output_type": "display_data"
    }
   ],
   "source": [
    "# Plotting the number of actions per user\n",
    "fig = px.histogram(event_user_count, x=\"event_name\", \n",
    "                   title=\"Distribution of the number of actions per user\",\n",
    "                  labels={\"event_name\":\"Number of actions\"})\n",
    "fig.show(\"png\") "
   ]
  },
  {
   "cell_type": "markdown",
   "metadata": {},
   "source": [
    "- When looking at the total actions per user (including repetitions of events), we see that the distribution is positively skewed with an average of 7 actions and a median of 6.\n",
    "- Most of the users perform 1-9 actions."
   ]
  },
  {
   "cell_type": "code",
   "execution_count": 50,
   "metadata": {},
   "outputs": [
    {
     "data": {
      "text/plain": [
       "login           182429\n",
       "product_page    120840\n",
       "purchase         60299\n",
       "product_cart     60104\n",
       "Name: event_name, dtype: int64"
      ]
     },
     "execution_count": 50,
     "metadata": {},
     "output_type": "execute_result"
    }
   ],
   "source": [
    "# Looking at the different events and their frequency \n",
    "events['event_name'].value_counts()"
   ]
  },
  {
   "cell_type": "code",
   "execution_count": 51,
   "metadata": {},
   "outputs": [
    {
     "data": {
      "text/html": [
       "<div>\n",
       "<style scoped>\n",
       "    .dataframe tbody tr th:only-of-type {\n",
       "        vertical-align: middle;\n",
       "    }\n",
       "\n",
       "    .dataframe tbody tr th {\n",
       "        vertical-align: top;\n",
       "    }\n",
       "\n",
       "    .dataframe thead th {\n",
       "        text-align: right;\n",
       "    }\n",
       "</style>\n",
       "<table border=\"1\" class=\"dataframe\">\n",
       "  <thead>\n",
       "    <tr style=\"text-align: right;\">\n",
       "      <th></th>\n",
       "      <th>event_name</th>\n",
       "      <th>num_users</th>\n",
       "    </tr>\n",
       "  </thead>\n",
       "  <tbody>\n",
       "    <tr>\n",
       "      <th>0</th>\n",
       "      <td>login</td>\n",
       "      <td>58696</td>\n",
       "    </tr>\n",
       "    <tr>\n",
       "      <th>1</th>\n",
       "      <td>product_page</td>\n",
       "      <td>38929</td>\n",
       "    </tr>\n",
       "    <tr>\n",
       "      <th>2</th>\n",
       "      <td>purchase</td>\n",
       "      <td>19568</td>\n",
       "    </tr>\n",
       "    <tr>\n",
       "      <th>3</th>\n",
       "      <td>product_cart</td>\n",
       "      <td>19284</td>\n",
       "    </tr>\n",
       "  </tbody>\n",
       "</table>\n",
       "</div>"
      ],
      "text/plain": [
       "     event_name  num_users\n",
       "0         login      58696\n",
       "1  product_page      38929\n",
       "2      purchase      19568\n",
       "3  product_cart      19284"
      ]
     },
     "execution_count": 51,
     "metadata": {},
     "output_type": "execute_result"
    }
   ],
   "source": [
    "# Calculating the number of users who performed each of the actions\n",
    "event_funnel = events.groupby('event_name')['user_id'].nunique().sort_values(ascending=False).reset_index()\n",
    "event_funnel= event_funnel.rename(columns={\"user_id\": \"num_users\"})\n",
    "event_funnel"
   ]
  },
  {
   "cell_type": "code",
   "execution_count": 52,
   "metadata": {},
   "outputs": [
    {
     "data": {
      "image/png": "[encoded data removed]"
     },
     "metadata": {},
     "output_type": "display_data"
    }
   ],
   "source": [
    "# Plotting the event funnel (according to the order: login → product_page → product_cart → purchase)\n",
    "fig = go.Figure(layout=go.Layout(\n",
    "        title=go.layout.Title(text=\"Event funnel (number of users performing each action)\"),\n",
    "    yaxis_title=\"Event\"))\n",
    "fig.add_trace(go.Funnel(y=event_funnel.loc[[0,1,3,2], 'event_name'],\n",
    "                        x=event_funnel.loc[[0,1,3,2], 'num_users'],\n",
    "                        textposition= \"inside\",\n",
    "                        textinfo=\"value+percent initial+percent previous\"))\n",
    "fig.show(\"png\") "
   ]
  },
  {
   "cell_type": "markdown",
   "metadata": {},
   "source": [
    "- We lose the most users at the product_cart stage.\n",
    "- Only a third of the users make it to the purchase."
   ]
  },
  {
   "cell_type": "markdown",
   "metadata": {},
   "source": [
    "#### For each test"
   ]
  },
  {
   "cell_type": "code",
   "execution_count": 53,
   "metadata": {},
   "outputs": [],
   "source": [
    "# Getting the events of each test\n",
    "recommender_events = recommender_participants_users.merge(events, on='user_id')\n",
    "interface_events = interface_participants_users.merge(events, on='user_id')"
   ]
  },
  {
   "cell_type": "markdown",
   "metadata": {},
   "source": [
    "According to the technical description of the Recommender test, we need to study the data on events that were provided in the first 14 days after registration, becuase we're supposed to get the expected result until then. Therefore for this test I will filter out events that occured more than 14 days after registration."
   ]
  },
  {
   "cell_type": "code",
   "execution_count": 54,
   "metadata": {},
   "outputs": [
    {
     "name": "stdout",
     "output_type": "stream",
     "text": [
      "                user_id group first_date   device            event_dt  \\\n",
      "0      D1ABA3E2887B6A73     A 2020-12-07       PC 2020-12-07 14:43:27   \n",
      "1      D1ABA3E2887B6A73     A 2020-12-07       PC 2020-12-07 14:43:29   \n",
      "2      D1ABA3E2887B6A73     A 2020-12-07       PC 2020-12-07 14:43:27   \n",
      "3      D1ABA3E2887B6A73     A 2020-12-07       PC 2020-12-07 14:43:27   \n",
      "4      A7A3664BD6242119     A 2020-12-20   iPhone 2020-12-20 15:46:06   \n",
      "...                 ...   ...        ...      ...                 ...   \n",
      "16952  80712ED4EA1B52A5     A 2020-12-14  Android 2020-12-15 20:10:06   \n",
      "16953  80712ED4EA1B52A5     A 2020-12-14  Android 2020-12-20 20:01:34   \n",
      "16954  80712ED4EA1B52A5     A 2020-12-14  Android 2020-12-14 05:48:50   \n",
      "16955  80712ED4EA1B52A5     A 2020-12-14  Android 2020-12-15 20:10:03   \n",
      "16956  80712ED4EA1B52A5     A 2020-12-14  Android 2020-12-20 20:01:32   \n",
      "\n",
      "         event_name  details session_date  \n",
      "0          purchase    99.99   2020-12-07  \n",
      "1      product_cart      NaN   2020-12-07  \n",
      "2      product_page      NaN   2020-12-07  \n",
      "3             login      NaN   2020-12-07  \n",
      "4      product_page      NaN   2020-12-20  \n",
      "...             ...      ...          ...  \n",
      "16952  product_page      NaN   2020-12-15  \n",
      "16953  product_page      NaN   2020-12-20  \n",
      "16954         login      NaN   2020-12-14  \n",
      "16955         login      NaN   2020-12-15  \n",
      "16956         login      NaN   2020-12-20  \n",
      "\n",
      "[16581 rows x 8 columns]\n"
     ]
    },
    {
     "data": {
      "text/plain": [
       "2594"
      ]
     },
     "execution_count": 54,
     "metadata": {},
     "output_type": "execute_result"
    }
   ],
   "source": [
    "# Selecting only events that occured 14 days or less after registration\n",
    "recommender_events = recommender_events[((recommender_events.session_date-recommender_events.first_date).astype('timedelta64[D]'))<=14]\n",
    "print(recommender_events)\n",
    "# Making sure that I didn't lose any users\n",
    "recommender_events.user_id.nunique()"
   ]
  },
  {
   "cell_type": "code",
   "execution_count": 55,
   "metadata": {},
   "outputs": [
    {
     "data": {
      "image/png": "[encoded data removed]"
     },
     "metadata": {},
     "output_type": "display_data"
    }
   ],
   "source": [
    "# Plotting sessions per date, by A/B test\n",
    "fig = go.Figure(layout=go.Layout(\n",
    "        title=go.layout.Title(text=\"Distribution of sessions per date, by A/B test\"),\n",
    "    xaxis_title= \"Date\", yaxis_title=\"Number of sessions\", barmode='overlay'))\n",
    "fig.add_trace(go.Histogram(name='Interface test' , x=interface_events.session_date))\n",
    "fig.add_trace(go.Histogram(name='Recommender test' , x=recommender_events.session_date))\n",
    "fig.show(\"png\") "
   ]
  },
  {
   "cell_type": "markdown",
   "metadata": {},
   "source": [
    "- The number of sessions peaked at December 21st for both of the tests. The peak that we saw on the 14th belongs to the `interface_eu_test`.\n",
    "- Both tests show a rise in sessions before the 21st and a drastic decrease after the holiday.\n",
    "- In the `recommender_system_test` the 13th was the lowest and in the `interface_eu_test` it was pretty high (like we saw with the number of sign-ups)."
   ]
  },
  {
   "cell_type": "code",
   "execution_count": 56,
   "metadata": {},
   "outputs": [],
   "source": [
    "def plot_sessions(df, df_name):\n",
    "    \"\"\"\n",
    "    Plots a sessions per date histogram for each test, by group\n",
    "    df: data of each test\n",
    "    df_name: name of each test\n",
    "    \"\"\"\n",
    "    fig = px.histogram(df, x='session_date', color='group',\n",
    "                       barmode='overlay',\n",
    "                  labels={\n",
    "                     \"session_date\": \"Date\",\n",
    "                     \"group\": \"Group\"\n",
    "                 },\n",
    "                  title=f\"{df_name}- Distribution of sessions per date, by group\")\n",
    "    fig.update_layout(\n",
    "        yaxis_title=\"Number of sessions\")\n",
    "    fig.show(\"png\") "
   ]
  },
  {
   "cell_type": "code",
   "execution_count": 57,
   "metadata": {},
   "outputs": [
    {
     "data": {
      "image/png": "[encoded data removed]"
     },
     "metadata": {},
     "output_type": "display_data"
    }
   ],
   "source": [
    "plot_sessions(recommender_events, \"Recommender test\")"
   ]
  },
  {
   "cell_type": "markdown",
   "metadata": {},
   "source": [
    "- In `recommender_system_test`, the number of sessions of group A is consistently higher in comparison to group B, except for December 7th.\n",
    "- Group A's numbers sharply jumped on the 14th and the effect of the holiday (including the peak on the 21st) mainly belongs to this group."
   ]
  },
  {
   "cell_type": "code",
   "execution_count": 58,
   "metadata": {},
   "outputs": [
    {
     "data": {
      "image/png": "[encoded data removed]"
     },
     "metadata": {},
     "output_type": "display_data"
    }
   ],
   "source": [
    "plot_sessions(interface_events, \"Interface test\")"
   ]
  },
  {
   "cell_type": "markdown",
   "metadata": {},
   "source": [
    "- In the `interface_eu_test`, the number of sessions of the two groups is quite similar during the whole period.\n",
    "- On December 12-20 group A's numbers somewhat exceeded those of group B."
   ]
  },
  {
   "cell_type": "code",
   "execution_count": 59,
   "metadata": {},
   "outputs": [],
   "source": [
    "# Calculating the number of actions per user for each of the tests \n",
    "recommender_events_count = recommender_events.groupby('user_id').agg({'event_name':'count','group':'max'}).reset_index()\n",
    "interface_events_count = interface_events.groupby('user_id').agg({'event_name':'count','group':'max'}).reset_index()"
   ]
  },
  {
   "cell_type": "code",
   "execution_count": 60,
   "metadata": {},
   "outputs": [],
   "source": [
    "def number_actions(df_name, df):\n",
    "    \"\"\"\n",
    "    Prints the average number of actions per user for each test & group and shows a boxplot\n",
    "    df: data of each test\n",
    "    df_name: name of each test\n",
    "    \"\"\"\n",
    "    print(f\"The average number of actions per user in {df_name} in general is {round(df.event_name.mean(),2)}\")\n",
    "    print(f\"The average number of actions per user in group A is {round(df[df['group']=='A'].event_name.mean(),2)}\")\n",
    "    print(f\"The average number of actions per user in group B is {round(df[df['group']=='B'].event_name.mean(),2)}\")\n",
    "    fig = px.box(df, x=\"group\", y=\"event_name\",\n",
    "             title=f\"{df_name}, A vs. B - Distribution of the number of actions per user\",\n",
    "                  labels={\"event_name\":\"Number of actions per user\"})\n",
    "    fig.show(\"png\") "
   ]
  },
  {
   "cell_type": "code",
   "execution_count": 61,
   "metadata": {},
   "outputs": [
    {
     "name": "stdout",
     "output_type": "stream",
     "text": [
      "The average number of actions per user in recommender_system_test in general is 6.39\n",
      "The average number of actions per user in group A is 6.73\n",
      "The average number of actions per user in group B is 5.4\n"
     ]
    },
    {
     "data": {
      "image/png": "[encoded data removed]"
     },
     "metadata": {},
     "output_type": "display_data"
    }
   ],
   "source": [
    "number_actions('recommender_system_test',recommender_events_count)"
   ]
  },
  {
   "cell_type": "markdown",
   "metadata": {},
   "source": [
    "- It seems that in `recommender_system_test`, group A's users made more actions in comparison to group B (their mean, median, Q3 and upper fence are higher). It's hard to tell whether the difference is due to the changes we are testing or it is due to a mistake in assigning the groups in the first place."
   ]
  },
  {
   "cell_type": "code",
   "execution_count": 62,
   "metadata": {},
   "outputs": [
    {
     "name": "stdout",
     "output_type": "stream",
     "text": [
      "The average number of actions per user in interface_eu_test in general is 7.35\n",
      "The average number of actions per user in group A is 7.41\n",
      "The average number of actions per user in group B is 7.29\n"
     ]
    },
    {
     "data": {
      "image/png": "[encoded data removed]"
     },
     "metadata": {},
     "output_type": "display_data"
    }
   ],
   "source": [
    "number_actions('interface_eu_test',interface_events_count)"
   ]
  },
  {
   "cell_type": "markdown",
   "metadata": {},
   "source": [
    "- It seems that in `interface_eu_test`, the two groups' users made a similar number of actions (their mean is relatively similar, and their median, Q3 and upper fence are the same)."
   ]
  },
  {
   "cell_type": "code",
   "execution_count": 63,
   "metadata": {},
   "outputs": [
    {
     "data": {
      "text/html": [
       "<div>\n",
       "<style scoped>\n",
       "    .dataframe tbody tr th:only-of-type {\n",
       "        vertical-align: middle;\n",
       "    }\n",
       "\n",
       "    .dataframe tbody tr th {\n",
       "        vertical-align: top;\n",
       "    }\n",
       "\n",
       "    .dataframe thead th {\n",
       "        text-align: right;\n",
       "    }\n",
       "</style>\n",
       "<table border=\"1\" class=\"dataframe\">\n",
       "  <thead>\n",
       "    <tr style=\"text-align: right;\">\n",
       "      <th></th>\n",
       "      <th>group</th>\n",
       "      <th>event_name</th>\n",
       "      <th>num_users</th>\n",
       "    </tr>\n",
       "  </thead>\n",
       "  <tbody>\n",
       "    <tr>\n",
       "      <th>4</th>\n",
       "      <td>B</td>\n",
       "      <td>login</td>\n",
       "      <td>654</td>\n",
       "    </tr>\n",
       "    <tr>\n",
       "      <th>6</th>\n",
       "      <td>B</td>\n",
       "      <td>product_page</td>\n",
       "      <td>367</td>\n",
       "    </tr>\n",
       "    <tr>\n",
       "      <th>7</th>\n",
       "      <td>B</td>\n",
       "      <td>purchase</td>\n",
       "      <td>191</td>\n",
       "    </tr>\n",
       "    <tr>\n",
       "      <th>5</th>\n",
       "      <td>B</td>\n",
       "      <td>product_cart</td>\n",
       "      <td>184</td>\n",
       "    </tr>\n",
       "    <tr>\n",
       "      <th>0</th>\n",
       "      <td>A</td>\n",
       "      <td>login</td>\n",
       "      <td>1939</td>\n",
       "    </tr>\n",
       "    <tr>\n",
       "      <th>2</th>\n",
       "      <td>A</td>\n",
       "      <td>product_page</td>\n",
       "      <td>1265</td>\n",
       "    </tr>\n",
       "    <tr>\n",
       "      <th>3</th>\n",
       "      <td>A</td>\n",
       "      <td>purchase</td>\n",
       "      <td>613</td>\n",
       "    </tr>\n",
       "    <tr>\n",
       "      <th>1</th>\n",
       "      <td>A</td>\n",
       "      <td>product_cart</td>\n",
       "      <td>589</td>\n",
       "    </tr>\n",
       "  </tbody>\n",
       "</table>\n",
       "</div>"
      ],
      "text/plain": [
       "  group    event_name  num_users\n",
       "4     B         login        654\n",
       "6     B  product_page        367\n",
       "7     B      purchase        191\n",
       "5     B  product_cart        184\n",
       "0     A         login       1939\n",
       "2     A  product_page       1265\n",
       "3     A      purchase        613\n",
       "1     A  product_cart        589"
      ]
     },
     "execution_count": 63,
     "metadata": {},
     "output_type": "execute_result"
    }
   ],
   "source": [
    "# Calculating the number of `recommender_system_test` users who performed each action, in each of the groups\n",
    "recommender_events_users = recommender_events.groupby(['group','event_name'])['user_id'].nunique().reset_index().sort_values(by=['group','user_id'], ascending=False)\n",
    "recommender_events_users= recommender_events_users.rename(columns={\"user_id\": \"num_users\"})\n",
    "recommender_events_users"
   ]
  },
  {
   "cell_type": "code",
   "execution_count": 64,
   "metadata": {},
   "outputs": [
    {
     "data": {
      "text/html": [
       "<div>\n",
       "<style scoped>\n",
       "    .dataframe tbody tr th:only-of-type {\n",
       "        vertical-align: middle;\n",
       "    }\n",
       "\n",
       "    .dataframe tbody tr th {\n",
       "        vertical-align: top;\n",
       "    }\n",
       "\n",
       "    .dataframe thead th {\n",
       "        text-align: right;\n",
       "    }\n",
       "</style>\n",
       "<table border=\"1\" class=\"dataframe\">\n",
       "  <thead>\n",
       "    <tr style=\"text-align: right;\">\n",
       "      <th></th>\n",
       "      <th>group</th>\n",
       "      <th>event_name</th>\n",
       "      <th>num_users</th>\n",
       "    </tr>\n",
       "  </thead>\n",
       "  <tbody>\n",
       "    <tr>\n",
       "      <th>4</th>\n",
       "      <td>B</td>\n",
       "      <td>login</td>\n",
       "      <td>4952</td>\n",
       "    </tr>\n",
       "    <tr>\n",
       "      <th>6</th>\n",
       "      <td>B</td>\n",
       "      <td>product_page</td>\n",
       "      <td>3254</td>\n",
       "    </tr>\n",
       "    <tr>\n",
       "      <th>5</th>\n",
       "      <td>B</td>\n",
       "      <td>product_cart</td>\n",
       "      <td>1686</td>\n",
       "    </tr>\n",
       "    <tr>\n",
       "      <th>7</th>\n",
       "      <td>B</td>\n",
       "      <td>purchase</td>\n",
       "      <td>1653</td>\n",
       "    </tr>\n",
       "    <tr>\n",
       "      <th>0</th>\n",
       "      <td>A</td>\n",
       "      <td>login</td>\n",
       "      <td>5010</td>\n",
       "    </tr>\n",
       "    <tr>\n",
       "      <th>2</th>\n",
       "      <td>A</td>\n",
       "      <td>product_page</td>\n",
       "      <td>3366</td>\n",
       "    </tr>\n",
       "    <tr>\n",
       "      <th>3</th>\n",
       "      <td>A</td>\n",
       "      <td>purchase</td>\n",
       "      <td>1782</td>\n",
       "    </tr>\n",
       "    <tr>\n",
       "      <th>1</th>\n",
       "      <td>A</td>\n",
       "      <td>product_cart</td>\n",
       "      <td>1629</td>\n",
       "    </tr>\n",
       "  </tbody>\n",
       "</table>\n",
       "</div>"
      ],
      "text/plain": [
       "  group    event_name  num_users\n",
       "4     B         login       4952\n",
       "6     B  product_page       3254\n",
       "5     B  product_cart       1686\n",
       "7     B      purchase       1653\n",
       "0     A         login       5010\n",
       "2     A  product_page       3366\n",
       "3     A      purchase       1782\n",
       "1     A  product_cart       1629"
      ]
     },
     "execution_count": 64,
     "metadata": {},
     "output_type": "execute_result"
    }
   ],
   "source": [
    "# Calculating the number of `interface_eu_test` users who performed each action, in each of the groups\n",
    "interface_events_users = interface_events.groupby(['group','event_name'])['user_id'].nunique().reset_index().sort_values(by=['group','user_id'], ascending=False)\n",
    "interface_events_users= interface_events_users.rename(columns={\"user_id\": \"num_users\"})\n",
    "interface_events_users"
   ]
  },
  {
   "cell_type": "code",
   "execution_count": 65,
   "metadata": {},
   "outputs": [],
   "source": [
    "def plot_funnel(df_name, df):\n",
    "    \"\"\"\n",
    "    Plots a funnel for each test, by group\n",
    "    df: data of each test\n",
    "    df_name: name of each test\n",
    "    \"\"\"\n",
    "    fig = go.Figure(layout=go.Layout(\n",
    "        title=go.layout.Title(text=f\"{df_name} - Event funnel by group\"),\n",
    "        yaxis_title=\"Event\"))\n",
    "    fig.add_trace(go.Funnel(name= 'group A',\n",
    "                        y=df.loc[[0,2,1,3], 'event_name'],\n",
    "                        x=df.loc[[0,2,1,3], 'num_users'],\n",
    "                        textposition= \"inside\",\n",
    "                        textinfo=\"value+percent initial+percent previous\"))\n",
    "    fig.add_trace(go.Funnel(name= 'group B',\n",
    "                        y=df.loc[[4,6,5,7], 'event_name'],\n",
    "                        x=df.loc[[4,6,5,7], 'num_users'],\n",
    "                        textposition= \"auto\",\n",
    "                        textinfo=\"value+percent initial+percent previous\"))\n",
    "    fig.show(\"png\") "
   ]
  },
  {
   "cell_type": "code",
   "execution_count": 66,
   "metadata": {},
   "outputs": [
    {
     "data": {
      "image/png": "[encoded data removed]"
     },
     "metadata": {},
     "output_type": "display_data"
    }
   ],
   "source": [
    "plot_funnel('recommender_system_test',recommender_events_users)"
   ]
  },
  {
   "cell_type": "code",
   "execution_count": 67,
   "metadata": {},
   "outputs": [
    {
     "data": {
      "image/png": "[encoded data removed]"
     },
     "metadata": {},
     "output_type": "display_data"
    }
   ],
   "source": [
    "plot_funnel('interface_eu_test',interface_events_users)"
   ]
  },
  {
   "cell_type": "markdown",
   "metadata": {},
   "source": [
    "The funnels show that for both of the tests group B did not perform better than group A, and in fact it mostly performed worse. The most noticeable difference is in the `recommender_system_test`, where the control group showed a better conversion into product page views (65% vs. 56%).\n",
    "Therefore, the expected results whereby there will be at least a 10% increase at each stage of the funnel are not met."
   ]
  },
  {
   "cell_type": "markdown",
   "metadata": {},
   "source": [
    "#### For each device"
   ]
  },
  {
   "cell_type": "code",
   "execution_count": 68,
   "metadata": {},
   "outputs": [],
   "source": [
    "# Calculating the number of actions per user & device for each of the tests \n",
    "recommender_events_device = recommender_events.groupby(['device','group','user_id']).agg({'event_name':'count'}).reset_index()\n",
    "interface_events_device = interface_events.groupby(['device','group','user_id']).agg({'event_name':'count'}).reset_index()"
   ]
  },
  {
   "cell_type": "code",
   "execution_count": 69,
   "metadata": {},
   "outputs": [
    {
     "name": "stdout",
     "output_type": "stream",
     "text": [
      "Recommender test - average number of actions per user for each device & group:\n"
     ]
    },
    {
     "data": {
      "text/html": [
       "<div>\n",
       "<style scoped>\n",
       "    .dataframe tbody tr th:only-of-type {\n",
       "        vertical-align: middle;\n",
       "    }\n",
       "\n",
       "    .dataframe tbody tr th {\n",
       "        vertical-align: top;\n",
       "    }\n",
       "\n",
       "    .dataframe thead th {\n",
       "        text-align: right;\n",
       "    }\n",
       "</style>\n",
       "<table border=\"1\" class=\"dataframe\">\n",
       "  <thead>\n",
       "    <tr style=\"text-align: right;\">\n",
       "      <th>group</th>\n",
       "      <th>A</th>\n",
       "      <th>B</th>\n",
       "    </tr>\n",
       "    <tr>\n",
       "      <th>device</th>\n",
       "      <th></th>\n",
       "      <th></th>\n",
       "    </tr>\n",
       "  </thead>\n",
       "  <tbody>\n",
       "    <tr>\n",
       "      <th>Mac</th>\n",
       "      <td>7.135593</td>\n",
       "      <td>5.362069</td>\n",
       "    </tr>\n",
       "    <tr>\n",
       "      <th>iPhone</th>\n",
       "      <td>6.925000</td>\n",
       "      <td>5.846154</td>\n",
       "    </tr>\n",
       "    <tr>\n",
       "      <th>Android</th>\n",
       "      <td>6.628205</td>\n",
       "      <td>5.504854</td>\n",
       "    </tr>\n",
       "    <tr>\n",
       "      <th>PC</th>\n",
       "      <td>6.589286</td>\n",
       "      <td>4.860759</td>\n",
       "    </tr>\n",
       "  </tbody>\n",
       "</table>\n",
       "</div>"
      ],
      "text/plain": [
       "group           A         B\n",
       "device                     \n",
       "Mac      7.135593  5.362069\n",
       "iPhone   6.925000  5.846154\n",
       "Android  6.628205  5.504854\n",
       "PC       6.589286  4.860759"
      ]
     },
     "execution_count": 69,
     "metadata": {},
     "output_type": "execute_result"
    }
   ],
   "source": [
    "print(\"Recommender test - average number of actions per user for each device & group:\")\n",
    "recommender_events_device.pivot_table(index='device', columns='group', values='event_name').sort_values(by=['A'], ascending=False)"
   ]
  },
  {
   "cell_type": "markdown",
   "metadata": {},
   "source": [
    "- For both of the groups PC has the lowest average number of actions per user.\n",
    "- For group A Mac is the leader, while it comes in 3rd place for group B.\n",
    "- For group B iPhone is the leader."
   ]
  },
  {
   "cell_type": "code",
   "execution_count": 70,
   "metadata": {},
   "outputs": [
    {
     "name": "stdout",
     "output_type": "stream",
     "text": [
      "Interface test - average number of actions per user for each device & group:\n"
     ]
    },
    {
     "data": {
      "text/html": [
       "<div>\n",
       "<style scoped>\n",
       "    .dataframe tbody tr th:only-of-type {\n",
       "        vertical-align: middle;\n",
       "    }\n",
       "\n",
       "    .dataframe tbody tr th {\n",
       "        vertical-align: top;\n",
       "    }\n",
       "\n",
       "    .dataframe thead th {\n",
       "        text-align: right;\n",
       "    }\n",
       "</style>\n",
       "<table border=\"1\" class=\"dataframe\">\n",
       "  <thead>\n",
       "    <tr style=\"text-align: right;\">\n",
       "      <th>group</th>\n",
       "      <th>A</th>\n",
       "      <th>B</th>\n",
       "    </tr>\n",
       "    <tr>\n",
       "      <th>device</th>\n",
       "      <th></th>\n",
       "      <th></th>\n",
       "    </tr>\n",
       "  </thead>\n",
       "  <tbody>\n",
       "    <tr>\n",
       "      <th>iPhone</th>\n",
       "      <td>7.645918</td>\n",
       "      <td>7.171579</td>\n",
       "    </tr>\n",
       "    <tr>\n",
       "      <th>Mac</th>\n",
       "      <td>7.589041</td>\n",
       "      <td>7.423301</td>\n",
       "    </tr>\n",
       "    <tr>\n",
       "      <th>PC</th>\n",
       "      <td>7.354071</td>\n",
       "      <td>7.269828</td>\n",
       "    </tr>\n",
       "    <tr>\n",
       "      <th>Android</th>\n",
       "      <td>7.293508</td>\n",
       "      <td>7.310071</td>\n",
       "    </tr>\n",
       "  </tbody>\n",
       "</table>\n",
       "</div>"
      ],
      "text/plain": [
       "group           A         B\n",
       "device                     \n",
       "iPhone   7.645918  7.171579\n",
       "Mac      7.589041  7.423301\n",
       "PC       7.354071  7.269828\n",
       "Android  7.293508  7.310071"
      ]
     },
     "execution_count": 70,
     "metadata": {},
     "output_type": "execute_result"
    }
   ],
   "source": [
    "print(\"Interface test - average number of actions per user for each device & group:\")\n",
    "interface_events_device.pivot_table(index='device', columns='group', values='event_name').sort_values(by=['A'], ascending=False)"
   ]
  },
  {
   "cell_type": "markdown",
   "metadata": {},
   "source": [
    "- For group A iPhone is the leader and Android is the last.\n",
    "- For group B Mac is the leader and iPhone is the last."
   ]
  },
  {
   "cell_type": "markdown",
   "metadata": {},
   "source": [
    "### Summary of EDA"
   ]
  },
  {
   "cell_type": "markdown",
   "metadata": {},
   "source": [
    "**Dates:**\n",
    "- The campaign of 'Christmas & New Year Promo' took place during part of the time of the A/B test and might have affected its results, in addition to the effect of the holiday itself.\n",
    "<br>\n",
    "\n",
    "- The signing-up data for the `recommender_system_test` does end on December 21st as written in the technical description, while it is the `interface_eu_test` assigning that ends two days later.\n",
    "<br>\n",
    "- The overall number of sign-ups peaked at December 21st. There were peaks on the 7th and 14th as well. Both of the tests show the three signing-up peaks.\n",
    "<br>\n",
    "- The number of sessions also peaked at December 21st, for both of the tests. In the `interface_eu_test` there was another peak on the 14th.\n",
    "<br>\n",
    "- The sessions' data is missing for December 25th, which was Christmas.\n",
    "<br>\n",
    "- There was a rise in sessions before the 21st, and a drastic decrease after the holiday.\n",
    "<br>\n",
    "- On December 30th sessions dropped to almost zero, therefore I excluded this date from the analysis.\n",
    "<br>\n",
    "- On the 13th, both the number of sign-ups and the number of sessions were the lowest in the `recommender_system_test` and pretty high in the `interface_eu_test`.\n",
    "<br>\n",
    "\n",
    "**Users:**\n",
    "- Out of the initially 12,751 valid participants:\n",
    "    - `recommender_system_test` consists only of 2,594 users, and only about a third of them are in the test (B) group. While expected number of test participants was 6,000.\n",
    "    - `interface_eu_test` consists of 9,963 users, quite evenely split between the A/B groups.<br>\n",
    "<br>\n",
    "\n",
    "- Audience of `recommender_system_test` is supposed to be users from the EU region, but there are other regions too (7% of the users).\n",
    "<br>\n",
    "- The percentage of EU is similar in both of the groups of `recommender_system_test`.\n",
    "<br>\n",
    "- All the `interface_eu_test` users are from EU.\n",
    "<br>\n",
    "- The percentage of EU among all the new users is lower than in the recommender_system_test - 74% vs. 93%.\n",
    "<br>\n",
    "- I figured that other regions were included in the `recommender_system_test` by mistake so I decided to remove them.\n",
    "<br>\n",
    "- Audience is supposed to be 15% of the new users from the EU region => 6,509 users. However, audience of the `recommender_system_test` is only 6%.\n",
    "<br>\n",
    "- Audience of the `interface_eu_test` is 23% of the new users from the EU region.\n",
    "<br>\n",
    "- Group B of the `recommender_system_test` used Android a little more (47% vs. 44%), and PC a little less (24% vs. 26%), but the differences seem relatively small.\n",
    "<br>\n",
    "- The distribution of devices for group A vs. B of `interface_eu_test` seems similar enough.\n",
    "<br>\n",
    "\n",
    "**Events:**\n",
    "- In general:\n",
    "    - The average number of actions per user is 7.22.\n",
    "    - The distribution of the number of actions per user is positively skewed with an average of 7 actions and a median of 6. Most of the users perform 1-9 actions.\n",
    "    - We lose the most users at the product_cart stage.\n",
    "    - Only a third of the users make it to the purchase.<br>\n",
    "<br>\n",
    "- For each test:\n",
    "    - For the `recommender_system_test` I filtered out events that occured more than 14 days after registration, in order to meet the requirement of the technical description.\n",
    "    - It seems that in `recommender_system_test`, group A's users made more actions in comparison to group B. It's hard to tell whether the difference is due to the changes we are testing or it is due to a mistake in assigning the groups in the first place.\n",
    "    - It seems that in `interface_eu_test`, the two groups' users made a similar number of actions.\n",
    "    - The event funnels show that for both of the tests group B did not perform better than group A, and in fact it mostly performed worse. The most noticeable difference is in the `recommender_system_test`, where the control group showed a better conversion into product page views (65% vs. 56%). Therefore, the expected results whereby there will be at least a 10% increase at each stage of the funnel are not met.<br>\n",
    "<br>\n",
    "- For each device:\n",
    "    - In the `recommender_system_test`:\n",
    "        - For both of the groups PC has the lowest average number of actions per user.\n",
    "        - For group A Mac is the leader, while it comes in 3rd place for group B.\n",
    "        - For group B iPhone is the leader.\n",
    "        \n",
    "    - In the `interface_eu_test`:\n",
    "        - For group A iPhone is the leader and Android is the last.\n",
    "        - For group B Mac is the leader and iPhone is the last.\n"
   ]
  },
  {
   "cell_type": "markdown",
   "metadata": {},
   "source": [
    "## Evaluation of the A/B test results"
   ]
  },
  {
   "cell_type": "code",
   "execution_count": 71,
   "metadata": {},
   "outputs": [
    {
     "data": {
      "text/html": [
       "<div>\n",
       "<style scoped>\n",
       "    .dataframe tbody tr th:only-of-type {\n",
       "        vertical-align: middle;\n",
       "    }\n",
       "\n",
       "    .dataframe tbody tr th {\n",
       "        vertical-align: top;\n",
       "    }\n",
       "\n",
       "    .dataframe thead th {\n",
       "        text-align: right;\n",
       "    }\n",
       "</style>\n",
       "<table border=\"1\" class=\"dataframe\">\n",
       "  <thead>\n",
       "    <tr style=\"text-align: right;\">\n",
       "      <th></th>\n",
       "      <th>group</th>\n",
       "      <th>user_id</th>\n",
       "    </tr>\n",
       "  </thead>\n",
       "  <tbody>\n",
       "    <tr>\n",
       "      <th>0</th>\n",
       "      <td>A</td>\n",
       "      <td>1939</td>\n",
       "    </tr>\n",
       "    <tr>\n",
       "      <th>1</th>\n",
       "      <td>B</td>\n",
       "      <td>655</td>\n",
       "    </tr>\n",
       "  </tbody>\n",
       "</table>\n",
       "</div>"
      ],
      "text/plain": [
       "  group  user_id\n",
       "0     A     1939\n",
       "1     B      655"
      ]
     },
     "execution_count": 71,
     "metadata": {},
     "output_type": "execute_result"
    }
   ],
   "source": [
    "# Looking at the number of users in each group of the `recommender_system_test`\n",
    "recommender_group_users = recommender_participants_users.groupby('group').agg({'user_id': 'nunique'}).reset_index()\n",
    "recommender_group_users"
   ]
  },
  {
   "cell_type": "code",
   "execution_count": 72,
   "metadata": {},
   "outputs": [
    {
     "data": {
      "text/html": [
       "<div>\n",
       "<style scoped>\n",
       "    .dataframe tbody tr th:only-of-type {\n",
       "        vertical-align: middle;\n",
       "    }\n",
       "\n",
       "    .dataframe tbody tr th {\n",
       "        vertical-align: top;\n",
       "    }\n",
       "\n",
       "    .dataframe thead th {\n",
       "        text-align: right;\n",
       "    }\n",
       "</style>\n",
       "<table border=\"1\" class=\"dataframe\">\n",
       "  <thead>\n",
       "    <tr style=\"text-align: right;\">\n",
       "      <th></th>\n",
       "      <th>group</th>\n",
       "      <th>user_id</th>\n",
       "    </tr>\n",
       "  </thead>\n",
       "  <tbody>\n",
       "    <tr>\n",
       "      <th>0</th>\n",
       "      <td>A</td>\n",
       "      <td>5011</td>\n",
       "    </tr>\n",
       "    <tr>\n",
       "      <th>1</th>\n",
       "      <td>B</td>\n",
       "      <td>4952</td>\n",
       "    </tr>\n",
       "  </tbody>\n",
       "</table>\n",
       "</div>"
      ],
      "text/plain": [
       "  group  user_id\n",
       "0     A     5011\n",
       "1     B     4952"
      ]
     },
     "execution_count": 72,
     "metadata": {},
     "output_type": "execute_result"
    }
   ],
   "source": [
    "# Looking at the number of users in each group of the `interface_eu_test`\n",
    "interface_group_users = interface_participants_users.groupby('group').agg({'user_id': 'nunique'}).reset_index()\n",
    "interface_group_users"
   ]
  },
  {
   "cell_type": "code",
   "execution_count": 73,
   "metadata": {},
   "outputs": [
    {
     "name": "stdout",
     "output_type": "stream",
     "text": [
      "  group    event_name  num_users  total_users\n",
      "0     A         login       1939         1939\n",
      "1     A  product_page       1265         1939\n",
      "2     A      purchase        613         1939\n",
      "3     A  product_cart        589         1939\n",
      "4     B         login        654          655\n",
      "5     B  product_page        367          655\n",
      "6     B      purchase        191          655\n",
      "7     B  product_cart        184          655\n"
     ]
    },
    {
     "data": {
      "text/html": [
       "<div>\n",
       "<style scoped>\n",
       "    .dataframe tbody tr th:only-of-type {\n",
       "        vertical-align: middle;\n",
       "    }\n",
       "\n",
       "    .dataframe tbody tr th {\n",
       "        vertical-align: top;\n",
       "    }\n",
       "\n",
       "    .dataframe thead th {\n",
       "        text-align: right;\n",
       "    }\n",
       "</style>\n",
       "<table border=\"1\" class=\"dataframe\">\n",
       "  <thead>\n",
       "    <tr style=\"text-align: right;\">\n",
       "      <th></th>\n",
       "      <th>group</th>\n",
       "      <th>event_name</th>\n",
       "      <th>num_users</th>\n",
       "      <th>total_users</th>\n",
       "    </tr>\n",
       "  </thead>\n",
       "  <tbody>\n",
       "    <tr>\n",
       "      <th>0</th>\n",
       "      <td>A</td>\n",
       "      <td>login</td>\n",
       "      <td>5010</td>\n",
       "      <td>5011</td>\n",
       "    </tr>\n",
       "    <tr>\n",
       "      <th>1</th>\n",
       "      <td>A</td>\n",
       "      <td>product_page</td>\n",
       "      <td>3366</td>\n",
       "      <td>5011</td>\n",
       "    </tr>\n",
       "    <tr>\n",
       "      <th>2</th>\n",
       "      <td>A</td>\n",
       "      <td>purchase</td>\n",
       "      <td>1782</td>\n",
       "      <td>5011</td>\n",
       "    </tr>\n",
       "    <tr>\n",
       "      <th>3</th>\n",
       "      <td>A</td>\n",
       "      <td>product_cart</td>\n",
       "      <td>1629</td>\n",
       "      <td>5011</td>\n",
       "    </tr>\n",
       "    <tr>\n",
       "      <th>4</th>\n",
       "      <td>B</td>\n",
       "      <td>login</td>\n",
       "      <td>4952</td>\n",
       "      <td>4952</td>\n",
       "    </tr>\n",
       "    <tr>\n",
       "      <th>5</th>\n",
       "      <td>B</td>\n",
       "      <td>product_page</td>\n",
       "      <td>3254</td>\n",
       "      <td>4952</td>\n",
       "    </tr>\n",
       "    <tr>\n",
       "      <th>6</th>\n",
       "      <td>B</td>\n",
       "      <td>product_cart</td>\n",
       "      <td>1686</td>\n",
       "      <td>4952</td>\n",
       "    </tr>\n",
       "    <tr>\n",
       "      <th>7</th>\n",
       "      <td>B</td>\n",
       "      <td>purchase</td>\n",
       "      <td>1653</td>\n",
       "      <td>4952</td>\n",
       "    </tr>\n",
       "  </tbody>\n",
       "</table>\n",
       "</div>"
      ],
      "text/plain": [
       "  group    event_name  num_users  total_users\n",
       "0     A         login       5010         5011\n",
       "1     A  product_page       3366         5011\n",
       "2     A      purchase       1782         5011\n",
       "3     A  product_cart       1629         5011\n",
       "4     B         login       4952         4952\n",
       "5     B  product_page       3254         4952\n",
       "6     B  product_cart       1686         4952\n",
       "7     B      purchase       1653         4952"
      ]
     },
     "execution_count": 73,
     "metadata": {},
     "output_type": "execute_result"
    }
   ],
   "source": [
    "# Merging the number of users who performed each action with the total number of users in each group, for each test\n",
    "recommender_group_events_users = recommender_events_users.merge(recommender_group_users, how='right', on=\"group\")\n",
    "recommender_group_events_users= recommender_group_events_users.rename(columns={\"user_id\": \"total_users\"})\n",
    "\n",
    "interface_group_events_users = interface_events_users.merge(interface_group_users, how='right', on=\"group\")\n",
    "interface_group_events_users= interface_group_events_users.rename(columns={\"user_id\": \"total_users\"})\n",
    "\n",
    "print(recommender_group_events_users)\n",
    "interface_group_events_users"
   ]
  },
  {
   "cell_type": "markdown",
   "metadata": {},
   "source": [
    "**Performing an A/A test**"
   ]
  },
  {
   "cell_type": "markdown",
   "metadata": {},
   "source": [
    "The technical decription doesn't include an A/A test and there's no explicit data on a second control group. For the sake of the drill, since an A/A test is important in order to check our mechanisms and calculations, and since the data includes users who weren't assigned to any test, I will create another control group for each test and check whether there is a statistically significant difference between the control groups."
   ]
  },
  {
   "cell_type": "code",
   "execution_count": 74,
   "metadata": {},
   "outputs": [
    {
     "name": "stdout",
     "output_type": "stream",
     "text": [
      "1939\n"
     ]
    },
    {
     "data": {
      "text/plain": [
       "5011"
      ]
     },
     "execution_count": 74,
     "metadata": {},
     "output_type": "execute_result"
    }
   ],
   "source": [
    "# Creating a list of EU users who weren't assigned to any test\n",
    "no_test_users = new_users.query('user_id not in @participants.user_id & region==\"EU\"').user_id.tolist()\n",
    "\n",
    "# Random sampling from the list into two seperate control groups - one for each test\n",
    "control_for_recommender = sample(no_test_users,recommender_group_users.loc[0,'user_id'])\n",
    "no_test_users_updated = [user_id for user_id in no_test_users if user_id not in control_for_recommender]\n",
    "control_for_interface = sample(no_test_users_updated,interface_group_users.loc[0,'user_id'])\n",
    "\n",
    "print(len(control_for_recommender))\n",
    "len(control_for_interface)"
   ]
  },
  {
   "cell_type": "code",
   "execution_count": 75,
   "metadata": {},
   "outputs": [
    {
     "data": {
      "text/plain": [
       "False"
      ]
     },
     "execution_count": 75,
     "metadata": {},
     "output_type": "execute_result"
    }
   ],
   "source": [
    "# Making sure that there is no intersection between the samples\n",
    "if (set(control_for_recommender) & set(control_for_interface)):\n",
    "    True \n",
    "else:\n",
    "    False"
   ]
  },
  {
   "cell_type": "code",
   "execution_count": 76,
   "metadata": {},
   "outputs": [],
   "source": [
    "# Preparing the data for the control groups\n",
    "recommender_control_events = events.query('user_id in @control_for_recommender')\n",
    "interface_control_events = events.query('user_id in @control_for_interface')"
   ]
  },
  {
   "cell_type": "code",
   "execution_count": 77,
   "metadata": {},
   "outputs": [
    {
     "name": "stdout",
     "output_type": "stream",
     "text": [
      "     event_name  num_users\n",
      "0         login       1939\n",
      "2  product_page       1295\n",
      "3      purchase        676\n",
      "1  product_cart        636\n"
     ]
    },
    {
     "data": {
      "text/html": [
       "<div>\n",
       "<style scoped>\n",
       "    .dataframe tbody tr th:only-of-type {\n",
       "        vertical-align: middle;\n",
       "    }\n",
       "\n",
       "    .dataframe tbody tr th {\n",
       "        vertical-align: top;\n",
       "    }\n",
       "\n",
       "    .dataframe thead th {\n",
       "        text-align: right;\n",
       "    }\n",
       "</style>\n",
       "<table border=\"1\" class=\"dataframe\">\n",
       "  <thead>\n",
       "    <tr style=\"text-align: right;\">\n",
       "      <th></th>\n",
       "      <th>event_name</th>\n",
       "      <th>num_users</th>\n",
       "    </tr>\n",
       "  </thead>\n",
       "  <tbody>\n",
       "    <tr>\n",
       "      <th>0</th>\n",
       "      <td>login</td>\n",
       "      <td>5010</td>\n",
       "    </tr>\n",
       "    <tr>\n",
       "      <th>2</th>\n",
       "      <td>product_page</td>\n",
       "      <td>3362</td>\n",
       "    </tr>\n",
       "    <tr>\n",
       "      <th>3</th>\n",
       "      <td>purchase</td>\n",
       "      <td>1785</td>\n",
       "    </tr>\n",
       "    <tr>\n",
       "      <th>1</th>\n",
       "      <td>product_cart</td>\n",
       "      <td>1681</td>\n",
       "    </tr>\n",
       "  </tbody>\n",
       "</table>\n",
       "</div>"
      ],
      "text/plain": [
       "     event_name  num_users\n",
       "0         login       5010\n",
       "2  product_page       3362\n",
       "3      purchase       1785\n",
       "1  product_cart       1681"
      ]
     },
     "execution_count": 77,
     "metadata": {},
     "output_type": "execute_result"
    }
   ],
   "source": [
    "# Calculating the number of users who performed each action, for each of the tests\n",
    "recommender_control_event_users = recommender_control_events.groupby('event_name')['user_id'].nunique().reset_index().sort_values(by='user_id', ascending=False)\n",
    "recommender_control_event_users= recommender_control_event_users.rename(columns={\"user_id\": \"num_users\"})\n",
    "\n",
    "interface_control_event_users = interface_control_events.groupby('event_name')['user_id'].nunique().reset_index().sort_values(by='user_id', ascending=False)\n",
    "interface_control_event_users = interface_control_event_users.rename(columns={\"user_id\": \"num_users\"})\n",
    "\n",
    "print(recommender_control_event_users)\n",
    "interface_control_event_users"
   ]
  },
  {
   "cell_type": "code",
   "execution_count": 78,
   "metadata": {},
   "outputs": [],
   "source": [
    "# Adding the total number of users in each control group\n",
    "recommender_control_event_users['total_users']= len(control_for_recommender)\n",
    "interface_control_event_users['total_users']= len(control_for_interface)"
   ]
  },
  {
   "cell_type": "markdown",
   "metadata": {},
   "source": [
    "H0: The difference between the two control groups is statistically insignificant.\n",
    "\n",
    "H1: The difference between the two control groups is statistically significant.\n",
    "\n",
    "I wish to carry out 6 statistical hypothesis tests, comparing 3 events for both A/A and A/B, for each of the recommender/interface tests seperately. I will use Bonferroni correction in order to calculate the appropriate significance level for the multiple testing."
   ]
  },
  {
   "cell_type": "code",
   "execution_count": 79,
   "metadata": {},
   "outputs": [
    {
     "data": {
      "text/plain": [
       "0.008333333333333333"
      ]
     },
     "execution_count": 79,
     "metadata": {},
     "output_type": "execute_result"
    }
   ],
   "source": [
    "# Calculating the appropriate significance level\n",
    "significance = 0.05/6\n",
    "significance"
   ]
  },
  {
   "cell_type": "code",
   "execution_count": 80,
   "metadata": {},
   "outputs": [],
   "source": [
    "def test_AA (df_control, action, df_test):\n",
    "    \"\"\"\n",
    "    Performs a statistical test for the difference in the proportion of each of the events, between the control groups\n",
    "    df_control: data of the added control group for each test\n",
    "    action: each of the events\n",
    "    df_test: data of each test\n",
    "    \"\"\"\n",
    "    successes = np.array([df_control[df_control['event_name']==action]['num_users'], df_test[(df_test['group']==\"A\") & (df_test['event_name']==action)]['num_users']])\n",
    "    samples = np.array([df_control[df_control['event_name']==action]['total_users'], df_test[(df_test['group']==\"A\") & (df_test['event_name']==action)]['total_users']])\n",
    "\n",
    "    stat, p_value = proportions_ztest(count=successes, nobs=samples,  alternative='two-sided')\n",
    "    print(f\"Results for the share of users who performed the action: {action}\")\n",
    "\n",
    "    print ('z_stat: %0.3f, p_value: %0.3f' % (stat, p_value))\n",
    "    if p_value > significance:\n",
    "       print (\"Fail to reject H0 - the difference between the two control groups is statistically insignificant\")\n",
    "    else:\n",
    "       print (\"Reject Ho - the difference between the two control groups is statistically significant\")\n",
    "    print()"
   ]
  },
  {
   "cell_type": "code",
   "execution_count": 81,
   "metadata": {},
   "outputs": [
    {
     "name": "stdout",
     "output_type": "stream",
     "text": [
      "Difference between the `recommender_system_test` control groups:\n",
      "Results for the share of users who performed the action: purchase\n",
      "z_stat: 2.148, p_value: 0.032\n",
      "Fail to reject H0 - the difference between the two control groups is statistically insignificant\n",
      "\n",
      "Results for the share of users who performed the action: product_cart\n",
      "z_stat: 1.624, p_value: 0.104\n",
      "Fail to reject H0 - the difference between the two control groups is statistically insignificant\n",
      "\n",
      "Results for the share of users who performed the action: product_page\n",
      "z_stat: 1.017, p_value: 0.309\n",
      "Fail to reject H0 - the difference between the two control groups is statistically insignificant\n",
      "\n"
     ]
    }
   ],
   "source": [
    "# Applying the function to the list of events for the `recommender_system_test`, excluding the login\n",
    "\n",
    "print(\"Difference between the `recommender_system_test` control groups:\")\n",
    "for action in events.event_name.unique()[0:3]:\n",
    "    test_AA (recommender_control_event_users, action, recommender_group_events_users)"
   ]
  },
  {
   "cell_type": "code",
   "execution_count": 82,
   "metadata": {},
   "outputs": [
    {
     "name": "stdout",
     "output_type": "stream",
     "text": [
      "Difference between the `interface_eu_test` control groups:\n",
      "Results for the share of users who performed the action: purchase\n",
      "z_stat: 0.063, p_value: 0.950\n",
      "Fail to reject H0 - the difference between the two control groups is statistically insignificant\n",
      "\n",
      "Results for the share of users who performed the action: product_cart\n",
      "z_stat: 1.104, p_value: 0.269\n",
      "Fail to reject H0 - the difference between the two control groups is statistically insignificant\n",
      "\n",
      "Results for the share of users who performed the action: product_page\n",
      "z_stat: -0.085, p_value: 0.932\n",
      "Fail to reject H0 - the difference between the two control groups is statistically insignificant\n",
      "\n"
     ]
    }
   ],
   "source": [
    "# Applying the function to the list of events for the `interface_eu_test`, excluding the login\n",
    "\n",
    "print(\"Difference between the `interface_eu_test` control groups:\")\n",
    "for action in events.event_name.unique()[0:3]:\n",
    "    test_AA (interface_control_event_users, action, interface_group_events_users)"
   ]
  },
  {
   "cell_type": "markdown",
   "metadata": {},
   "source": [
    "I failed to reject H0 for each of the tests and for each of the events, meaning the difference between the two control groups in each of the tests is statistically insignificant. Therefore I conclude that the groups were split properly."
   ]
  },
  {
   "cell_type": "code",
   "execution_count": 83,
   "metadata": {},
   "outputs": [],
   "source": [
    "def test_AB (df_test, action):\n",
    "    \"\"\"\n",
    "    Performs a statistical test for the difference in the proportion of each of the events, between groups A and B\n",
    "    df_test: data of each test\n",
    "    action: each of the events\n",
    "    \"\"\"\n",
    "    successes = np.array([df_test[(df_test['group']==\"A\") & (df_test['event_name']==action)]['num_users'], df_test[(df_test['group']==\"B\") & (df_test['event_name']==action)]['num_users']])\n",
    "    samples = np.array([df_test[(df_test['group']==\"A\") & (df_test['event_name']==action)]['total_users'], df_test[(df_test['group']==\"B\") & (df_test['event_name']==action)]['total_users']])\n",
    "\n",
    "    stat, p_value = proportions_ztest(count=successes, nobs=samples,  alternative='two-sided')\n",
    "    print(f\"Results for the share of users who performed the action: {action}\")\n",
    "\n",
    "    print ('z_stat: %0.3f, p_value: %0.3f' % (stat, p_value))\n",
    "    if p_value > significance:\n",
    "       print (\"Fail to reject H0 - the difference between the control group and the test group is statistically insignificant\")\n",
    "    else:\n",
    "       print (\"Reject Ho - the difference between the control group and the test group is statistically significant\")\n",
    "    print()"
   ]
  },
  {
   "cell_type": "code",
   "execution_count": 84,
   "metadata": {},
   "outputs": [
    {
     "name": "stdout",
     "output_type": "stream",
     "text": [
      "Difference between the `recommender_system_test` A/B groups:\n",
      "Results for the share of users who performed the action: purchase\n",
      "z_stat: 1.174, p_value: 0.240\n",
      "Fail to reject H0 - the difference between the control group and the test group is statistically insignificant\n",
      "\n",
      "Results for the share of users who performed the action: product_cart\n",
      "z_stat: 1.105, p_value: 0.269\n",
      "Fail to reject H0 - the difference between the control group and the test group is statistically insignificant\n",
      "\n",
      "Results for the share of users who performed the action: product_page\n",
      "z_stat: 4.219, p_value: 0.000\n",
      "Reject Ho - the difference between the control group and the test group is statistically significant\n",
      "\n"
     ]
    }
   ],
   "source": [
    "# Applying the function to the list of events for the `recommender_system_test`, excluding the login\n",
    "\n",
    "print(\"Difference between the `recommender_system_test` A/B groups:\")\n",
    "for action in events.event_name.unique()[0:3]:\n",
    "    test_AB (recommender_group_events_users, action)"
   ]
  },
  {
   "cell_type": "code",
   "execution_count": 85,
   "metadata": {},
   "outputs": [
    {
     "name": "stdout",
     "output_type": "stream",
     "text": [
      "Difference between the `interface_eu_test` A/B groups:\n",
      "Results for the share of users who performed the action: purchase\n",
      "z_stat: 2.290, p_value: 0.022\n",
      "Fail to reject H0 - the difference between the control group and the test group is statistically insignificant\n",
      "\n",
      "Results for the share of users who performed the action: product_cart\n",
      "z_stat: -1.629, p_value: 0.103\n",
      "Fail to reject H0 - the difference between the control group and the test group is statistically insignificant\n",
      "\n",
      "Results for the share of users who performed the action: product_page\n",
      "z_stat: 1.545, p_value: 0.122\n",
      "Fail to reject H0 - the difference between the control group and the test group is statistically insignificant\n",
      "\n"
     ]
    }
   ],
   "source": [
    "# Applying the function to the list of events for the `interface_eu_test`, excluding the login\n",
    "\n",
    "print(\"Difference between the `interface_eu_test` A/B groups:\")\n",
    "for action in events.event_name.unique()[0:3]:\n",
    "    test_AB (interface_group_events_users, action)"
   ]
  },
  {
   "cell_type": "markdown",
   "metadata": {},
   "source": [
    "I failed to reject H0 in most of the statistical tests, except for the one that checked the difference in product page views in the `recommender_system_test`, where I found a reversed statistically significant difference between the control group and the test group, meaning that the control group did better than the test group. The rest of the statistical tests showed that the difference between the control group and the test group in each of the recommender/interface tests is statistically insignificant.\n",
    "\n",
    "Therefore I conclude that for both of the recommender/interface tests the changes that were tested did not produce better results, and the expected results whereby users will show better conversion into product page views, instances of adding items to the shopping cart, and purchases, and there will be at least a 10% increase at each stage of the funnel, are not met."
   ]
  },
  {
   "cell_type": "markdown",
   "metadata": {},
   "source": [
    "### Summary of evaluation of A/B results"
   ]
  },
  {
   "cell_type": "markdown",
   "metadata": {},
   "source": [
    "- I calculated the number of users who performed each action as well as the total number of users, in each of the groups for each of the A/B tests.\n",
    "\n",
    "\n",
    "- For the sake of the drill, I created another control group for each test (using random sampling) and carried out A/A tests.\n",
    "\n",
    "\n",
    "- I used Bonferroni correction in order to calculate the appropriate significance level for the multiple testing (6 statistical hypothesis tests: comparing 3 events for both A/A and A/B, for each of the recommender/interface tests seperately).\n",
    "\n",
    "\n",
    "- In the A/A tests I failed to reject H0 for any of the events, meaning the difference between the two control groups in each of the tests was statistically insignificant.\n",
    "\n",
    "\n",
    "- In the A/B tests I failed to reject H0 most of the times, except for the one that checked the difference in product page views in the `recommender_system_test`, where I found a reversed statistically significant difference between the control group and the test group, meaning that the control group did better than the test group. The rest of the statistical tests showed that the difference between the control group and the test group in each of the recommender/interface tests is statistically insignificant."
   ]
  },
  {
   "cell_type": "markdown",
   "metadata": {},
   "source": [
    "## Conclusions and recommendations\n",
    "- The overlaping of Christmas and the campaign of 'Christmas & New Year Promo' with the time of the A/B tests is a problem that undermines their legitimacy in the first place, since those events might change both the service and the users' behavior and thus the A/B test results.\n",
    "\n",
    "\n",
    "- Splitting into A/B groups was not valid, because the two A/B tests overlapped and some of the users were mistakenly assigned to both of them simultaneously.\n",
    "\n",
    "\n",
    "- Not having A/A tests is also problematic. For the sake of the drill, I performed A/A tests myself and they were successful, showing that the control groups were split properly.\n",
    "\n",
    "\n",
    "- The A/B tests were not successful in the sense that for both of the recommender/interface tests the changes that were tested did not produce better results, and the expected results whereby users will show better conversion into product page views, instances of adding items to the shopping cart, and purchases, and there will be at least a 10% increase at each stage of the funnel, were not met.\n",
    "\n",
    "\n",
    "- These results can't be trusted because the tests were carried out with all the violations mentioned previously.\n",
    "\n",
    "\n",
    "**Recommendations:**\n",
    "\n",
    "- To check the splitting system\n",
    "- To repeat the test, this time properly\n",
    "- To carry out the test in a different time of the year (without holidays and marketing events)"
   ]
  },
  {
   "cell_type": "code",
   "execution_count": null,
   "metadata": {},
   "outputs": [],
   "source": []
  }
 ],
 "metadata": {
  "ExecuteTimeLog": [
   {
    "duration": 383,
    "start_time": "2022-06-12T07:31:09.594Z"
   },
   {
    "duration": 159,
    "start_time": "2022-06-12T07:32:41.166Z"
   },
   {
    "duration": 1255,
    "start_time": "2022-06-12T07:33:49.159Z"
   },
   {
    "duration": 645,
    "start_time": "2022-06-12T07:34:05.541Z"
   },
   {
    "duration": 15,
    "start_time": "2022-06-12T07:34:35.913Z"
   },
   {
    "duration": 10,
    "start_time": "2022-06-12T07:34:44.046Z"
   },
   {
    "duration": 14,
    "start_time": "2022-06-12T07:35:47.994Z"
   },
   {
    "duration": 25,
    "start_time": "2022-06-12T07:35:55.755Z"
   },
   {
    "duration": 85,
    "start_time": "2022-06-12T07:36:19.651Z"
   },
   {
    "duration": 13,
    "start_time": "2022-06-12T07:36:27.106Z"
   },
   {
    "duration": 27,
    "start_time": "2022-06-12T07:36:47.029Z"
   },
   {
    "duration": 25,
    "start_time": "2022-06-12T07:36:53.543Z"
   },
   {
    "duration": 29,
    "start_time": "2022-06-12T07:37:25.084Z"
   },
   {
    "duration": 88,
    "start_time": "2022-06-12T07:37:32.538Z"
   },
   {
    "duration": 109,
    "start_time": "2022-06-12T07:37:40.330Z"
   },
   {
    "duration": 107,
    "start_time": "2022-06-12T07:37:50.618Z"
   },
   {
    "duration": 14,
    "start_time": "2022-06-12T07:38:06.144Z"
   },
   {
    "duration": 539,
    "start_time": "2022-06-12T07:38:13.287Z"
   },
   {
    "duration": 101,
    "start_time": "2022-06-12T07:38:20.476Z"
   },
   {
    "duration": 14,
    "start_time": "2022-06-12T07:38:38.752Z"
   },
   {
    "duration": 12,
    "start_time": "2022-06-12T07:38:45.950Z"
   },
   {
    "duration": 13,
    "start_time": "2022-06-12T07:38:55.511Z"
   },
   {
    "duration": 9,
    "start_time": "2022-06-12T07:39:12.829Z"
   },
   {
    "duration": 24,
    "start_time": "2022-06-12T07:39:19.462Z"
   },
   {
    "duration": 16,
    "start_time": "2022-06-12T07:39:25.222Z"
   },
   {
    "duration": 9,
    "start_time": "2022-06-12T07:39:32.917Z"
   },
   {
    "duration": 16,
    "start_time": "2022-06-12T07:39:50.312Z"
   },
   {
    "duration": 13,
    "start_time": "2022-06-12T07:39:57.717Z"
   },
   {
    "duration": 10,
    "start_time": "2022-06-12T07:40:05.940Z"
   },
   {
    "duration": 44,
    "start_time": "2022-06-12T07:40:27.450Z"
   },
   {
    "duration": 14,
    "start_time": "2022-06-12T07:40:36.466Z"
   },
   {
    "duration": 7,
    "start_time": "2022-06-12T07:40:44.354Z"
   },
   {
    "duration": 7,
    "start_time": "2022-06-12T07:40:50.206Z"
   },
   {
    "duration": 150,
    "start_time": "2022-06-12T07:41:35.037Z"
   },
   {
    "duration": 5,
    "start_time": "2022-06-12T07:48:27.406Z"
   },
   {
    "duration": 8,
    "start_time": "2022-06-12T07:48:57.324Z"
   },
   {
    "duration": 10,
    "start_time": "2022-06-12T07:49:13.627Z"
   },
   {
    "duration": 6,
    "start_time": "2022-06-12T07:51:14.331Z"
   },
   {
    "duration": 8,
    "start_time": "2022-06-12T07:51:35.360Z"
   },
   {
    "duration": 36,
    "start_time": "2022-06-12T07:53:18.047Z"
   },
   {
    "duration": 3,
    "start_time": "2022-06-12T07:54:26.321Z"
   },
   {
    "duration": 12,
    "start_time": "2022-06-12T07:54:39.571Z"
   },
   {
    "duration": 87,
    "start_time": "2022-06-12T07:56:29.046Z"
   },
   {
    "duration": 3,
    "start_time": "2022-06-12T07:56:41.933Z"
   },
   {
    "duration": 1683,
    "start_time": "2022-06-12T07:56:41.940Z"
   },
   {
    "duration": 10,
    "start_time": "2022-06-12T07:56:43.624Z"
   },
   {
    "duration": 17,
    "start_time": "2022-06-12T07:56:43.636Z"
   },
   {
    "duration": 14,
    "start_time": "2022-06-12T07:56:43.655Z"
   },
   {
    "duration": 247,
    "start_time": "2022-06-12T07:58:45.493Z"
   },
   {
    "duration": 1678,
    "start_time": "2022-06-12T08:01:09.191Z"
   },
   {
    "duration": 216,
    "start_time": "2022-06-12T08:05:44.477Z"
   },
   {
    "duration": 2,
    "start_time": "2022-06-12T08:08:00.009Z"
   },
   {
    "duration": 1247,
    "start_time": "2022-06-12T08:08:00.013Z"
   },
   {
    "duration": 8,
    "start_time": "2022-06-12T08:08:01.263Z"
   },
   {
    "duration": 26,
    "start_time": "2022-06-12T08:08:01.272Z"
   },
   {
    "duration": 107,
    "start_time": "2022-06-12T08:08:01.300Z"
   },
   {
    "duration": 55,
    "start_time": "2022-06-12T08:16:15.995Z"
   },
   {
    "duration": 15,
    "start_time": "2022-06-12T08:17:12.531Z"
   },
   {
    "duration": 16,
    "start_time": "2022-06-12T08:17:38.201Z"
   },
   {
    "duration": 16,
    "start_time": "2022-06-12T08:17:59.498Z"
   },
   {
    "duration": 48,
    "start_time": "2022-06-12T08:21:30.826Z"
   },
   {
    "duration": 3,
    "start_time": "2022-06-12T08:23:32.338Z"
   },
   {
    "duration": 10,
    "start_time": "2022-06-12T08:23:39.895Z"
   },
   {
    "duration": 48,
    "start_time": "2022-06-12T08:23:51.049Z"
   },
   {
    "duration": 29,
    "start_time": "2022-06-12T08:28:26.938Z"
   },
   {
    "duration": 64,
    "start_time": "2022-06-12T08:28:41.534Z"
   },
   {
    "duration": 59,
    "start_time": "2022-06-12T08:32:12.985Z"
   },
   {
    "duration": 62,
    "start_time": "2022-06-12T08:32:47.538Z"
   },
   {
    "duration": 54,
    "start_time": "2022-06-12T08:33:22.900Z"
   },
   {
    "duration": 59,
    "start_time": "2022-06-12T08:33:33.206Z"
   },
   {
    "duration": 53,
    "start_time": "2022-06-12T08:33:39.792Z"
   },
   {
    "duration": 108,
    "start_time": "2022-06-12T08:33:58.202Z"
   },
   {
    "duration": 54,
    "start_time": "2022-06-12T08:35:18.655Z"
   },
   {
    "duration": 44,
    "start_time": "2022-06-12T08:38:15.494Z"
   },
   {
    "duration": 10,
    "start_time": "2022-06-12T08:39:05.296Z"
   },
   {
    "duration": 47,
    "start_time": "2022-06-12T08:39:06.458Z"
   },
   {
    "duration": 46,
    "start_time": "2022-06-12T08:39:56.405Z"
   },
   {
    "duration": 53,
    "start_time": "2022-06-12T08:40:17.591Z"
   },
   {
    "duration": 20,
    "start_time": "2022-06-12T08:48:22.859Z"
   },
   {
    "duration": 10,
    "start_time": "2022-06-12T08:49:07.938Z"
   },
   {
    "duration": 10,
    "start_time": "2022-06-12T08:49:39.175Z"
   },
   {
    "duration": 113,
    "start_time": "2022-06-12T08:51:34.884Z"
   },
   {
    "duration": 116,
    "start_time": "2022-06-12T08:51:41.057Z"
   },
   {
    "duration": 103,
    "start_time": "2022-06-12T08:51:50.796Z"
   },
   {
    "duration": 90,
    "start_time": "2022-06-12T08:51:55.211Z"
   },
   {
    "duration": 11,
    "start_time": "2022-06-12T08:53:21.032Z"
   },
   {
    "duration": 91,
    "start_time": "2022-06-12T08:54:25.239Z"
   },
   {
    "duration": 12,
    "start_time": "2022-06-12T08:55:42.356Z"
   },
   {
    "duration": 10,
    "start_time": "2022-06-12T08:56:24.141Z"
   },
   {
    "duration": 77,
    "start_time": "2022-06-12T08:59:38.524Z"
   },
   {
    "duration": 64,
    "start_time": "2022-06-12T09:00:14.582Z"
   },
   {
    "duration": 268,
    "start_time": "2022-06-12T09:01:18.831Z"
   },
   {
    "duration": 10,
    "start_time": "2022-06-12T09:08:15.341Z"
   },
   {
    "duration": 36,
    "start_time": "2022-06-12T09:08:44.211Z"
   },
   {
    "duration": 30,
    "start_time": "2022-06-12T09:08:51.393Z"
   },
   {
    "duration": 180,
    "start_time": "2022-06-12T09:09:05.512Z"
   },
   {
    "duration": 11,
    "start_time": "2022-06-12T09:09:38.513Z"
   },
   {
    "duration": 30,
    "start_time": "2022-06-12T09:21:32.670Z"
   },
   {
    "duration": 3814,
    "start_time": "2022-06-12T09:22:39.001Z"
   },
   {
    "duration": 470,
    "start_time": "2022-06-12T09:25:29.891Z"
   },
   {
    "duration": 17,
    "start_time": "2022-06-12T09:26:07.660Z"
   },
   {
    "duration": 2189,
    "start_time": "2022-06-12T09:31:31.297Z"
   },
   {
    "duration": 1240,
    "start_time": "2022-06-12T09:31:33.488Z"
   },
   {
    "duration": 9,
    "start_time": "2022-06-12T09:31:34.730Z"
   },
   {
    "duration": 13,
    "start_time": "2022-06-12T09:31:34.740Z"
   },
   {
    "duration": 12,
    "start_time": "2022-06-12T09:31:34.755Z"
   },
   {
    "duration": 54,
    "start_time": "2022-06-12T09:31:34.768Z"
   },
   {
    "duration": 10,
    "start_time": "2022-06-12T09:31:34.824Z"
   },
   {
    "duration": 10,
    "start_time": "2022-06-12T09:31:34.835Z"
   },
   {
    "duration": 30,
    "start_time": "2022-06-12T09:31:34.847Z"
   },
   {
    "duration": 13,
    "start_time": "2022-06-12T09:31:34.879Z"
   },
   {
    "duration": 83,
    "start_time": "2022-06-12T09:31:34.894Z"
   },
   {
    "duration": 20,
    "start_time": "2022-06-12T09:31:34.979Z"
   },
   {
    "duration": 15,
    "start_time": "2022-06-12T09:31:35.000Z"
   },
   {
    "duration": 15,
    "start_time": "2022-06-12T09:31:35.018Z"
   },
   {
    "duration": 47,
    "start_time": "2022-06-12T09:31:35.034Z"
   },
   {
    "duration": 27,
    "start_time": "2022-06-12T09:31:35.083Z"
   },
   {
    "duration": 20,
    "start_time": "2022-06-12T09:31:35.112Z"
   },
   {
    "duration": 84,
    "start_time": "2022-06-12T09:31:35.134Z"
   },
   {
    "duration": 92,
    "start_time": "2022-06-12T09:31:35.220Z"
   },
   {
    "duration": 96,
    "start_time": "2022-06-12T09:31:35.314Z"
   },
   {
    "duration": 13,
    "start_time": "2022-06-12T09:31:35.412Z"
   },
   {
    "duration": 216,
    "start_time": "2022-06-12T09:31:35.427Z"
   },
   {
    "duration": 167,
    "start_time": "2022-06-12T09:31:35.645Z"
   },
   {
    "duration": 11,
    "start_time": "2022-06-12T09:31:35.814Z"
   },
   {
    "duration": 21,
    "start_time": "2022-06-12T09:31:35.827Z"
   },
   {
    "duration": 15,
    "start_time": "2022-06-12T09:31:35.850Z"
   },
   {
    "duration": 9,
    "start_time": "2022-06-12T09:31:35.867Z"
   },
   {
    "duration": 10,
    "start_time": "2022-06-12T09:31:35.878Z"
   },
   {
    "duration": 48,
    "start_time": "2022-06-12T09:31:35.890Z"
   },
   {
    "duration": 28,
    "start_time": "2022-06-12T09:31:35.939Z"
   },
   {
    "duration": 8,
    "start_time": "2022-06-12T09:31:35.969Z"
   },
   {
    "duration": 17,
    "start_time": "2022-06-12T09:31:35.979Z"
   },
   {
    "duration": 21,
    "start_time": "2022-06-12T09:31:35.999Z"
   },
   {
    "duration": 13,
    "start_time": "2022-06-12T09:31:36.022Z"
   },
   {
    "duration": 68,
    "start_time": "2022-06-12T09:31:36.037Z"
   },
   {
    "duration": 13,
    "start_time": "2022-06-12T09:31:36.107Z"
   },
   {
    "duration": 9,
    "start_time": "2022-06-12T09:31:36.121Z"
   },
   {
    "duration": 33,
    "start_time": "2022-06-12T09:31:36.132Z"
   },
   {
    "duration": 132,
    "start_time": "2022-06-12T09:31:36.167Z"
   },
   {
    "duration": 13,
    "start_time": "2022-06-12T09:42:16.458Z"
   },
   {
    "duration": 12,
    "start_time": "2022-06-12T09:42:41.418Z"
   },
   {
    "duration": 8,
    "start_time": "2022-06-12T09:46:03.233Z"
   },
   {
    "duration": 8,
    "start_time": "2022-06-12T09:46:28.618Z"
   },
   {
    "duration": 8,
    "start_time": "2022-06-12T09:47:23.876Z"
   },
   {
    "duration": 10,
    "start_time": "2022-06-12T09:47:42.176Z"
   },
   {
    "duration": 9,
    "start_time": "2022-06-12T09:50:25.328Z"
   },
   {
    "duration": 10,
    "start_time": "2022-06-12T09:50:33.126Z"
   },
   {
    "duration": 2026,
    "start_time": "2022-06-12T10:45:33.242Z"
   },
   {
    "duration": 579,
    "start_time": "2022-06-12T10:45:35.270Z"
   },
   {
    "duration": 9,
    "start_time": "2022-06-12T10:45:35.850Z"
   },
   {
    "duration": 19,
    "start_time": "2022-06-12T10:45:35.864Z"
   },
   {
    "duration": 25,
    "start_time": "2022-06-12T10:45:35.885Z"
   },
   {
    "duration": 58,
    "start_time": "2022-06-12T10:45:35.911Z"
   },
   {
    "duration": 9,
    "start_time": "2022-06-12T10:45:35.970Z"
   },
   {
    "duration": 22,
    "start_time": "2022-06-12T10:45:35.981Z"
   },
   {
    "duration": 30,
    "start_time": "2022-06-12T10:45:36.004Z"
   },
   {
    "duration": 26,
    "start_time": "2022-06-12T10:45:36.037Z"
   },
   {
    "duration": 83,
    "start_time": "2022-06-12T10:45:36.065Z"
   },
   {
    "duration": 21,
    "start_time": "2022-06-12T10:45:36.150Z"
   },
   {
    "duration": 23,
    "start_time": "2022-06-12T10:45:36.173Z"
   },
   {
    "duration": 24,
    "start_time": "2022-06-12T10:45:36.198Z"
   },
   {
    "duration": 22,
    "start_time": "2022-06-12T10:45:36.223Z"
   },
   {
    "duration": 46,
    "start_time": "2022-06-12T10:45:36.246Z"
   },
   {
    "duration": 15,
    "start_time": "2022-06-12T10:45:36.294Z"
   },
   {
    "duration": 70,
    "start_time": "2022-06-12T10:45:36.311Z"
   },
   {
    "duration": 85,
    "start_time": "2022-06-12T10:45:36.383Z"
   },
   {
    "duration": 100,
    "start_time": "2022-06-12T10:45:36.469Z"
   },
   {
    "duration": 20,
    "start_time": "2022-06-12T10:45:36.571Z"
   },
   {
    "duration": 195,
    "start_time": "2022-06-12T10:45:36.592Z"
   },
   {
    "duration": 165,
    "start_time": "2022-06-12T10:45:36.788Z"
   },
   {
    "duration": 15,
    "start_time": "2022-06-12T10:45:36.955Z"
   },
   {
    "duration": 7,
    "start_time": "2022-06-12T10:45:36.971Z"
   },
   {
    "duration": 10,
    "start_time": "2022-06-12T10:45:36.979Z"
   },
   {
    "duration": 9,
    "start_time": "2022-06-12T10:45:36.990Z"
   },
   {
    "duration": 5,
    "start_time": "2022-06-12T10:45:37.002Z"
   },
   {
    "duration": 25,
    "start_time": "2022-06-12T10:45:37.009Z"
   },
   {
    "duration": 15,
    "start_time": "2022-06-12T10:45:37.064Z"
   },
   {
    "duration": 12,
    "start_time": "2022-06-12T10:45:37.081Z"
   },
   {
    "duration": 19,
    "start_time": "2022-06-12T10:45:37.095Z"
   },
   {
    "duration": 18,
    "start_time": "2022-06-12T10:45:37.116Z"
   },
   {
    "duration": 5,
    "start_time": "2022-06-12T10:45:37.136Z"
   },
   {
    "duration": 26,
    "start_time": "2022-06-12T10:45:37.142Z"
   },
   {
    "duration": 40,
    "start_time": "2022-06-12T10:45:37.170Z"
   },
   {
    "duration": 13,
    "start_time": "2022-06-12T10:45:37.212Z"
   },
   {
    "duration": 9,
    "start_time": "2022-06-12T10:45:37.226Z"
   },
   {
    "duration": 40,
    "start_time": "2022-06-12T10:45:37.236Z"
   },
   {
    "duration": 9,
    "start_time": "2022-06-12T10:45:37.278Z"
   },
   {
    "duration": 12,
    "start_time": "2022-06-12T10:45:37.289Z"
   },
   {
    "duration": 175,
    "start_time": "2022-06-12T10:45:37.303Z"
   },
   {
    "duration": 8,
    "start_time": "2022-06-12T10:47:10.862Z"
   },
   {
    "duration": 8,
    "start_time": "2022-06-12T10:47:22.260Z"
   },
   {
    "duration": 8,
    "start_time": "2022-06-12T10:47:36.711Z"
   },
   {
    "duration": 8,
    "start_time": "2022-06-12T10:47:46.059Z"
   },
   {
    "duration": 12,
    "start_time": "2022-06-12T10:56:34.310Z"
   },
   {
    "duration": 11,
    "start_time": "2022-06-12T10:56:35.334Z"
   },
   {
    "duration": 9,
    "start_time": "2022-06-12T10:59:52.484Z"
   },
   {
    "duration": 14,
    "start_time": "2022-06-12T11:00:34.682Z"
   },
   {
    "duration": 55,
    "start_time": "2022-06-12T11:07:55.020Z"
   },
   {
    "duration": 18,
    "start_time": "2022-06-12T11:08:13.153Z"
   },
   {
    "duration": 17,
    "start_time": "2022-06-12T11:10:45.839Z"
   },
   {
    "duration": 7,
    "start_time": "2022-06-12T11:12:02.859Z"
   },
   {
    "duration": 10,
    "start_time": "2022-06-12T11:12:15.606Z"
   },
   {
    "duration": 14,
    "start_time": "2022-06-12T11:13:18.629Z"
   },
   {
    "duration": 22,
    "start_time": "2022-06-12T11:18:58.489Z"
   },
   {
    "duration": 24,
    "start_time": "2022-06-12T11:19:07.108Z"
   },
   {
    "duration": 36,
    "start_time": "2022-06-12T11:35:12.981Z"
   },
   {
    "duration": 10,
    "start_time": "2022-06-12T11:35:14.735Z"
   },
   {
    "duration": 10,
    "start_time": "2022-06-12T11:35:20.713Z"
   },
   {
    "duration": 24,
    "start_time": "2022-06-12T11:36:40.318Z"
   },
   {
    "duration": 26,
    "start_time": "2022-06-12T11:36:46.128Z"
   },
   {
    "duration": 11,
    "start_time": "2022-06-12T11:37:00.854Z"
   },
   {
    "duration": 14,
    "start_time": "2022-06-12T11:37:37.633Z"
   },
   {
    "duration": 9,
    "start_time": "2022-06-12T11:37:44.776Z"
   },
   {
    "duration": 13,
    "start_time": "2022-06-12T11:37:49.792Z"
   },
   {
    "duration": 32,
    "start_time": "2022-06-12T11:40:37.028Z"
   },
   {
    "duration": 19,
    "start_time": "2022-06-12T11:40:54.880Z"
   },
   {
    "duration": 19,
    "start_time": "2022-06-12T11:41:00.670Z"
   },
   {
    "duration": 17,
    "start_time": "2022-06-12T11:41:29.244Z"
   },
   {
    "duration": 13,
    "start_time": "2022-06-12T11:42:11.726Z"
   },
   {
    "duration": 9,
    "start_time": "2022-06-12T11:42:32.115Z"
   },
   {
    "duration": 36,
    "start_time": "2022-06-12T11:42:39.196Z"
   },
   {
    "duration": 10,
    "start_time": "2022-06-12T11:42:43.502Z"
   },
   {
    "duration": 24,
    "start_time": "2022-06-12T11:42:46.021Z"
   },
   {
    "duration": 8,
    "start_time": "2022-06-12T11:43:04.642Z"
   },
   {
    "duration": 118,
    "start_time": "2022-06-12T11:43:48.714Z"
   },
   {
    "duration": 7,
    "start_time": "2022-06-12T11:45:03.230Z"
   },
   {
    "duration": 15,
    "start_time": "2022-06-12T11:45:42.386Z"
   },
   {
    "duration": 13,
    "start_time": "2022-06-12T12:15:22.054Z"
   },
   {
    "duration": 8,
    "start_time": "2022-06-12T12:18:04.811Z"
   },
   {
    "duration": 10,
    "start_time": "2022-06-12T12:32:38.108Z"
   },
   {
    "duration": 2959,
    "start_time": "2022-06-13T06:50:58.613Z"
   },
   {
    "duration": 1426,
    "start_time": "2022-06-13T06:51:01.579Z"
   },
   {
    "duration": 15,
    "start_time": "2022-06-13T06:51:03.007Z"
   },
   {
    "duration": 16,
    "start_time": "2022-06-13T06:51:03.024Z"
   },
   {
    "duration": 22,
    "start_time": "2022-06-13T06:51:03.042Z"
   },
   {
    "duration": 397,
    "start_time": "2022-06-13T06:51:03.065Z"
   },
   {
    "duration": 13,
    "start_time": "2022-06-13T06:51:03.464Z"
   },
   {
    "duration": 20,
    "start_time": "2022-06-13T06:51:03.479Z"
   },
   {
    "duration": 60,
    "start_time": "2022-06-13T06:51:03.500Z"
   },
   {
    "duration": 20,
    "start_time": "2022-06-13T06:51:03.566Z"
   },
   {
    "duration": 124,
    "start_time": "2022-06-13T06:51:03.588Z"
   },
   {
    "duration": 20,
    "start_time": "2022-06-13T06:51:03.713Z"
   },
   {
    "duration": 480,
    "start_time": "2022-06-13T06:51:03.735Z"
   },
   {
    "duration": 17,
    "start_time": "2022-06-13T06:51:04.218Z"
   },
   {
    "duration": 34,
    "start_time": "2022-06-13T06:51:04.236Z"
   },
   {
    "duration": 50,
    "start_time": "2022-06-13T06:51:04.273Z"
   },
   {
    "duration": 35,
    "start_time": "2022-06-13T06:51:04.326Z"
   },
   {
    "duration": 86,
    "start_time": "2022-06-13T06:51:04.372Z"
   },
   {
    "duration": 93,
    "start_time": "2022-06-13T06:51:04.465Z"
   },
   {
    "duration": 122,
    "start_time": "2022-06-13T06:51:04.560Z"
   },
   {
    "duration": 13,
    "start_time": "2022-06-13T06:51:04.684Z"
   },
   {
    "duration": 229,
    "start_time": "2022-06-13T06:51:04.698Z"
   },
   {
    "duration": 181,
    "start_time": "2022-06-13T06:51:04.929Z"
   },
   {
    "duration": 12,
    "start_time": "2022-06-13T06:51:05.112Z"
   },
   {
    "duration": 11,
    "start_time": "2022-06-13T06:51:05.126Z"
   },
   {
    "duration": 74,
    "start_time": "2022-06-13T06:51:05.139Z"
   },
   {
    "duration": 28,
    "start_time": "2022-06-13T06:51:05.216Z"
   },
   {
    "duration": 30,
    "start_time": "2022-06-13T06:51:05.247Z"
   },
   {
    "duration": 27,
    "start_time": "2022-06-13T06:51:05.281Z"
   },
   {
    "duration": 26,
    "start_time": "2022-06-13T06:51:05.311Z"
   },
   {
    "duration": 28,
    "start_time": "2022-06-13T06:51:05.339Z"
   },
   {
    "duration": 27,
    "start_time": "2022-06-13T06:51:05.369Z"
   },
   {
    "duration": 9,
    "start_time": "2022-06-13T06:51:05.397Z"
   },
   {
    "duration": 11,
    "start_time": "2022-06-13T06:51:05.407Z"
   },
   {
    "duration": 49,
    "start_time": "2022-06-13T06:51:05.420Z"
   },
   {
    "duration": 16,
    "start_time": "2022-06-13T06:51:05.471Z"
   },
   {
    "duration": 28,
    "start_time": "2022-06-13T06:51:05.488Z"
   },
   {
    "duration": 17,
    "start_time": "2022-06-13T06:51:05.518Z"
   },
   {
    "duration": 20,
    "start_time": "2022-06-13T06:51:05.552Z"
   },
   {
    "duration": 33,
    "start_time": "2022-06-13T06:51:05.574Z"
   },
   {
    "duration": 132,
    "start_time": "2022-06-13T06:51:05.610Z"
   },
   {
    "duration": 1495,
    "start_time": "2022-06-13T08:36:28.742Z"
   },
   {
    "duration": 10749,
    "start_time": "2022-06-13T08:42:44.424Z"
   },
   {
    "duration": 1420,
    "start_time": "2022-06-13T08:45:22.318Z"
   },
   {
    "duration": 24,
    "start_time": "2022-06-13T08:48:06.373Z"
   },
   {
    "duration": 1436,
    "start_time": "2022-06-13T08:48:19.034Z"
   },
   {
    "duration": 10957,
    "start_time": "2022-06-13T08:49:35.851Z"
   },
   {
    "duration": 16,
    "start_time": "2022-06-13T09:10:07.224Z"
   },
   {
    "duration": 15,
    "start_time": "2022-06-13T09:10:15.333Z"
   },
   {
    "duration": 44,
    "start_time": "2022-06-13T09:12:20.424Z"
   },
   {
    "duration": 27,
    "start_time": "2022-06-13T09:16:13.284Z"
   },
   {
    "duration": 22,
    "start_time": "2022-06-13T09:16:17.289Z"
   },
   {
    "duration": 21,
    "start_time": "2022-06-13T09:16:21.675Z"
   },
   {
    "duration": 22,
    "start_time": "2022-06-13T09:16:30.727Z"
   },
   {
    "duration": 21,
    "start_time": "2022-06-13T09:16:40.573Z"
   },
   {
    "duration": 96,
    "start_time": "2022-06-13T09:17:19.674Z"
   },
   {
    "duration": 111,
    "start_time": "2022-06-13T09:17:46.173Z"
   },
   {
    "duration": 8,
    "start_time": "2022-06-13T09:18:59.535Z"
   },
   {
    "duration": 10,
    "start_time": "2022-06-13T09:19:43.917Z"
   },
   {
    "duration": 9,
    "start_time": "2022-06-13T09:20:06.505Z"
   },
   {
    "duration": 8,
    "start_time": "2022-06-13T09:21:06.736Z"
   },
   {
    "duration": 11,
    "start_time": "2022-06-13T09:57:48.696Z"
   },
   {
    "duration": 55,
    "start_time": "2022-06-13T09:58:15.296Z"
   },
   {
    "duration": 1627,
    "start_time": "2022-06-13T10:02:03.038Z"
   },
   {
    "duration": 21,
    "start_time": "2022-06-13T10:03:47.159Z"
   },
   {
    "duration": 15,
    "start_time": "2022-06-13T10:07:17.398Z"
   },
   {
    "duration": 17,
    "start_time": "2022-06-13T10:07:42.200Z"
   },
   {
    "duration": 23,
    "start_time": "2022-06-13T10:09:32.896Z"
   },
   {
    "duration": 43,
    "start_time": "2022-06-13T10:09:48.833Z"
   },
   {
    "duration": 211,
    "start_time": "2022-06-13T10:09:57.470Z"
   },
   {
    "duration": 52,
    "start_time": "2022-06-13T10:11:26.573Z"
   },
   {
    "duration": 63,
    "start_time": "2022-06-13T10:12:01.171Z"
   },
   {
    "duration": 72,
    "start_time": "2022-06-13T10:13:07.905Z"
   },
   {
    "duration": 61,
    "start_time": "2022-06-13T10:13:18.254Z"
   },
   {
    "duration": 70,
    "start_time": "2022-06-13T10:13:48.200Z"
   },
   {
    "duration": 77,
    "start_time": "2022-06-13T10:14:01.805Z"
   },
   {
    "duration": 67,
    "start_time": "2022-06-13T10:14:10.336Z"
   },
   {
    "duration": 8,
    "start_time": "2022-06-13T11:03:03.434Z"
   },
   {
    "duration": 14,
    "start_time": "2022-06-13T11:03:34.481Z"
   },
   {
    "duration": 18,
    "start_time": "2022-06-13T11:03:51.950Z"
   },
   {
    "duration": 140,
    "start_time": "2022-06-13T11:05:27.336Z"
   },
   {
    "duration": 17,
    "start_time": "2022-06-13T11:05:32.245Z"
   },
   {
    "duration": 9,
    "start_time": "2022-06-13T11:05:52.650Z"
   },
   {
    "duration": 14,
    "start_time": "2022-06-13T11:07:52.407Z"
   },
   {
    "duration": 36,
    "start_time": "2022-06-13T11:10:34.402Z"
   },
   {
    "duration": 11,
    "start_time": "2022-06-13T11:14:21.982Z"
   },
   {
    "duration": 48,
    "start_time": "2022-06-13T11:15:37.732Z"
   },
   {
    "duration": 16,
    "start_time": "2022-06-13T11:16:16.834Z"
   },
   {
    "duration": 38,
    "start_time": "2022-06-13T11:16:20.333Z"
   },
   {
    "duration": 12,
    "start_time": "2022-06-13T11:16:37.905Z"
   },
   {
    "duration": 20,
    "start_time": "2022-06-13T11:17:00.738Z"
   },
   {
    "duration": 14,
    "start_time": "2022-06-13T11:17:49.942Z"
   },
   {
    "duration": 116,
    "start_time": "2022-06-13T11:18:10.499Z"
   },
   {
    "duration": 20,
    "start_time": "2022-06-13T11:31:35.370Z"
   },
   {
    "duration": 23,
    "start_time": "2022-06-13T11:31:57.421Z"
   },
   {
    "duration": 30,
    "start_time": "2022-06-13T11:32:09.416Z"
   },
   {
    "duration": 17,
    "start_time": "2022-06-13T11:43:49.184Z"
   },
   {
    "duration": 4,
    "start_time": "2022-06-13T11:47:24.589Z"
   },
   {
    "duration": 50,
    "start_time": "2022-06-13T12:07:22.266Z"
   },
   {
    "duration": 69,
    "start_time": "2022-06-13T12:07:38.252Z"
   },
   {
    "duration": 1973,
    "start_time": "2022-06-13T12:07:47.464Z"
   },
   {
    "duration": 584,
    "start_time": "2022-06-13T12:07:49.440Z"
   },
   {
    "duration": 9,
    "start_time": "2022-06-13T12:07:50.026Z"
   },
   {
    "duration": 16,
    "start_time": "2022-06-13T12:07:50.037Z"
   },
   {
    "duration": 31,
    "start_time": "2022-06-13T12:07:50.057Z"
   },
   {
    "duration": 23,
    "start_time": "2022-06-13T12:07:50.089Z"
   },
   {
    "duration": 18,
    "start_time": "2022-06-13T12:07:50.114Z"
   },
   {
    "duration": 86,
    "start_time": "2022-06-13T12:07:50.134Z"
   },
   {
    "duration": 33,
    "start_time": "2022-06-13T12:07:50.222Z"
   },
   {
    "duration": 22,
    "start_time": "2022-06-13T12:07:50.256Z"
   },
   {
    "duration": 55,
    "start_time": "2022-06-13T12:07:50.280Z"
   },
   {
    "duration": 85,
    "start_time": "2022-06-13T12:07:50.359Z"
   },
   {
    "duration": 71,
    "start_time": "2022-06-13T12:07:50.446Z"
   },
   {
    "duration": 229,
    "start_time": "2022-06-13T12:07:50.519Z"
   },
   {
    "duration": 160,
    "start_time": "2022-06-13T12:07:50.750Z"
   },
   {
    "duration": 12,
    "start_time": "2022-06-13T12:07:50.912Z"
   },
   {
    "duration": 25,
    "start_time": "2022-06-13T12:07:50.925Z"
   },
   {
    "duration": 42,
    "start_time": "2022-06-13T12:07:50.951Z"
   },
   {
    "duration": 23,
    "start_time": "2022-06-13T12:07:50.995Z"
   },
   {
    "duration": 7,
    "start_time": "2022-06-13T12:07:51.020Z"
   },
   {
    "duration": 12,
    "start_time": "2022-06-13T12:07:51.028Z"
   },
   {
    "duration": 34,
    "start_time": "2022-06-13T12:07:51.042Z"
   },
   {
    "duration": 10,
    "start_time": "2022-06-13T12:07:51.077Z"
   },
   {
    "duration": 74,
    "start_time": "2022-06-13T12:07:51.088Z"
   },
   {
    "duration": 60,
    "start_time": "2022-06-13T12:07:54.812Z"
   },
   {
    "duration": 1922,
    "start_time": "2022-06-13T12:08:27.992Z"
   },
   {
    "duration": 591,
    "start_time": "2022-06-13T12:08:29.917Z"
   },
   {
    "duration": 11,
    "start_time": "2022-06-13T12:08:30.510Z"
   },
   {
    "duration": 17,
    "start_time": "2022-06-13T12:08:30.523Z"
   },
   {
    "duration": 37,
    "start_time": "2022-06-13T12:08:30.542Z"
   },
   {
    "duration": 28,
    "start_time": "2022-06-13T12:08:30.581Z"
   },
   {
    "duration": 13,
    "start_time": "2022-06-13T12:08:30.611Z"
   },
   {
    "duration": 72,
    "start_time": "2022-06-13T12:08:30.626Z"
   },
   {
    "duration": 30,
    "start_time": "2022-06-13T12:08:30.700Z"
   },
   {
    "duration": 38,
    "start_time": "2022-06-13T12:08:30.733Z"
   },
   {
    "duration": 77,
    "start_time": "2022-06-13T12:08:30.773Z"
   },
   {
    "duration": 114,
    "start_time": "2022-06-13T12:08:30.851Z"
   },
   {
    "duration": 71,
    "start_time": "2022-06-13T12:08:30.972Z"
   },
   {
    "duration": 223,
    "start_time": "2022-06-13T12:08:31.045Z"
   },
   {
    "duration": 155,
    "start_time": "2022-06-13T12:08:31.271Z"
   },
   {
    "duration": 12,
    "start_time": "2022-06-13T12:08:31.428Z"
   },
   {
    "duration": 38,
    "start_time": "2022-06-13T12:08:31.451Z"
   },
   {
    "duration": 56,
    "start_time": "2022-06-13T12:08:31.492Z"
   },
   {
    "duration": 30,
    "start_time": "2022-06-13T12:08:31.550Z"
   },
   {
    "duration": 30,
    "start_time": "2022-06-13T12:08:31.582Z"
   },
   {
    "duration": 33,
    "start_time": "2022-06-13T12:08:31.614Z"
   },
   {
    "duration": 27,
    "start_time": "2022-06-13T12:08:31.648Z"
   },
   {
    "duration": 13,
    "start_time": "2022-06-13T12:08:31.677Z"
   },
   {
    "duration": 52,
    "start_time": "2022-06-13T12:08:31.691Z"
   },
   {
    "duration": 1563,
    "start_time": "2022-06-13T12:08:31.752Z"
   },
   {
    "duration": 46,
    "start_time": "2022-06-13T12:08:33.317Z"
   },
   {
    "duration": 16,
    "start_time": "2022-06-13T12:08:33.370Z"
   },
   {
    "duration": 78,
    "start_time": "2022-06-13T12:08:33.390Z"
   },
   {
    "duration": 10920,
    "start_time": "2022-06-13T12:08:33.472Z"
   },
   {
    "duration": 2921,
    "start_time": "2022-06-13T12:09:01.072Z"
   },
   {
    "duration": 680,
    "start_time": "2022-06-13T12:09:03.996Z"
   },
   {
    "duration": 20,
    "start_time": "2022-06-13T12:09:04.679Z"
   },
   {
    "duration": 12,
    "start_time": "2022-06-13T12:09:04.702Z"
   },
   {
    "duration": 14,
    "start_time": "2022-06-13T12:09:04.718Z"
   },
   {
    "duration": 36,
    "start_time": "2022-06-13T12:09:04.734Z"
   },
   {
    "duration": 16,
    "start_time": "2022-06-13T12:09:04.772Z"
   },
   {
    "duration": 94,
    "start_time": "2022-06-13T12:09:04.790Z"
   },
   {
    "duration": 31,
    "start_time": "2022-06-13T12:09:04.886Z"
   },
   {
    "duration": 46,
    "start_time": "2022-06-13T12:09:04.919Z"
   },
   {
    "duration": 55,
    "start_time": "2022-06-13T12:09:04.966Z"
   },
   {
    "duration": 114,
    "start_time": "2022-06-13T12:09:05.023Z"
   },
   {
    "duration": 100,
    "start_time": "2022-06-13T12:09:05.139Z"
   },
   {
    "duration": 262,
    "start_time": "2022-06-13T12:09:05.244Z"
   },
   {
    "duration": 180,
    "start_time": "2022-06-13T12:09:05.508Z"
   },
   {
    "duration": 11,
    "start_time": "2022-06-13T12:09:05.690Z"
   },
   {
    "duration": 11,
    "start_time": "2022-06-13T12:09:05.703Z"
   },
   {
    "duration": 56,
    "start_time": "2022-06-13T12:09:05.716Z"
   },
   {
    "duration": 22,
    "start_time": "2022-06-13T12:09:05.773Z"
   },
   {
    "duration": 8,
    "start_time": "2022-06-13T12:09:05.797Z"
   },
   {
    "duration": 13,
    "start_time": "2022-06-13T12:09:05.807Z"
   },
   {
    "duration": 57,
    "start_time": "2022-06-13T12:09:05.822Z"
   },
   {
    "duration": 11,
    "start_time": "2022-06-13T12:09:05.880Z"
   },
   {
    "duration": 409,
    "start_time": "2022-06-13T12:09:05.893Z"
   },
   {
    "duration": 1532,
    "start_time": "2022-06-13T12:09:06.304Z"
   },
   {
    "duration": 334,
    "start_time": "2022-06-13T12:09:07.838Z"
   },
   {
    "duration": 16,
    "start_time": "2022-06-13T12:09:08.173Z"
   },
   {
    "duration": 18,
    "start_time": "2022-06-13T12:09:08.191Z"
   },
   {
    "duration": 10656,
    "start_time": "2022-06-13T12:09:08.210Z"
   },
   {
    "duration": 25,
    "start_time": "2022-06-13T12:09:18.869Z"
   },
   {
    "duration": 103,
    "start_time": "2022-06-13T12:09:18.896Z"
   },
   {
    "duration": 69,
    "start_time": "2022-06-13T12:09:19.002Z"
   },
   {
    "duration": 84,
    "start_time": "2022-06-13T12:09:19.087Z"
   },
   {
    "duration": 12,
    "start_time": "2022-06-13T12:09:19.174Z"
   },
   {
    "duration": 72,
    "start_time": "2022-06-13T12:09:19.188Z"
   },
   {
    "duration": 22,
    "start_time": "2022-06-13T12:09:19.262Z"
   },
   {
    "duration": 377,
    "start_time": "2022-06-13T12:09:19.286Z"
   },
   {
    "duration": 60,
    "start_time": "2022-06-13T12:15:05.265Z"
   },
   {
    "duration": 47,
    "start_time": "2022-06-13T12:15:10.804Z"
   },
   {
    "duration": 144,
    "start_time": "2022-06-13T12:28:21.277Z"
   },
   {
    "duration": 29,
    "start_time": "2022-06-13T12:28:34.221Z"
   },
   {
    "duration": 27,
    "start_time": "2022-06-13T12:28:50.805Z"
   },
   {
    "duration": 19,
    "start_time": "2022-06-13T12:29:10.321Z"
   },
   {
    "duration": 79,
    "start_time": "2022-06-13T12:31:59.587Z"
   },
   {
    "duration": 28,
    "start_time": "2022-06-13T12:40:21.577Z"
   },
   {
    "duration": 20,
    "start_time": "2022-06-13T12:40:36.689Z"
   },
   {
    "duration": 24,
    "start_time": "2022-06-13T12:40:52.777Z"
   },
   {
    "duration": 20,
    "start_time": "2022-06-13T12:41:18.316Z"
   },
   {
    "duration": 16,
    "start_time": "2022-06-13T12:43:16.194Z"
   },
   {
    "duration": 22,
    "start_time": "2022-06-13T12:43:26.773Z"
   },
   {
    "duration": 19,
    "start_time": "2022-06-13T12:43:51.424Z"
   },
   {
    "duration": 21,
    "start_time": "2022-06-13T12:44:00.683Z"
   },
   {
    "duration": 34,
    "start_time": "2022-06-13T12:53:13.880Z"
   },
   {
    "duration": 6,
    "start_time": "2022-06-13T12:55:57.171Z"
   },
   {
    "duration": 19,
    "start_time": "2022-06-13T12:56:51.091Z"
   },
   {
    "duration": 28,
    "start_time": "2022-06-13T12:57:02.262Z"
   },
   {
    "duration": 23,
    "start_time": "2022-06-13T12:57:22.124Z"
   },
   {
    "duration": 31,
    "start_time": "2022-06-13T12:57:38.232Z"
   },
   {
    "duration": 20,
    "start_time": "2022-06-13T12:57:44.283Z"
   },
   {
    "duration": 27,
    "start_time": "2022-06-13T12:58:04.769Z"
   },
   {
    "duration": 19,
    "start_time": "2022-06-13T12:58:14.720Z"
   },
   {
    "duration": 4,
    "start_time": "2022-06-13T12:59:01.304Z"
   },
   {
    "duration": 6,
    "start_time": "2022-06-13T12:59:04.848Z"
   },
   {
    "duration": 39,
    "start_time": "2022-06-13T13:07:42.484Z"
   },
   {
    "duration": 27,
    "start_time": "2022-06-13T13:08:49.637Z"
   },
   {
    "duration": 13,
    "start_time": "2022-06-13T13:09:41.080Z"
   },
   {
    "duration": 15,
    "start_time": "2022-06-13T13:09:52.880Z"
   },
   {
    "duration": 13,
    "start_time": "2022-06-13T13:10:59.480Z"
   },
   {
    "duration": 12,
    "start_time": "2022-06-13T13:11:00.607Z"
   },
   {
    "duration": 15,
    "start_time": "2022-06-13T13:11:18.783Z"
   },
   {
    "duration": 12,
    "start_time": "2022-06-13T13:11:23.467Z"
   },
   {
    "duration": 14,
    "start_time": "2022-06-13T13:11:37.414Z"
   },
   {
    "duration": 14,
    "start_time": "2022-06-13T13:11:39.978Z"
   },
   {
    "duration": 18,
    "start_time": "2022-06-13T13:18:41.795Z"
   },
   {
    "duration": 10,
    "start_time": "2022-06-13T13:21:13.384Z"
   },
   {
    "duration": 17,
    "start_time": "2022-06-13T13:21:53.387Z"
   },
   {
    "duration": 24,
    "start_time": "2022-06-13T13:28:34.127Z"
   },
   {
    "duration": 33,
    "start_time": "2022-06-13T13:29:02.732Z"
   },
   {
    "duration": 23,
    "start_time": "2022-06-13T13:29:07.899Z"
   },
   {
    "duration": 1907,
    "start_time": "2022-06-13T13:32:23.367Z"
   },
   {
    "duration": 16,
    "start_time": "2022-06-13T13:34:36.065Z"
   },
   {
    "duration": 47,
    "start_time": "2022-06-13T13:42:57.833Z"
   },
   {
    "duration": 31,
    "start_time": "2022-06-13T13:43:07.264Z"
   },
   {
    "duration": 17,
    "start_time": "2022-06-13T13:50:06.663Z"
   },
   {
    "duration": 24,
    "start_time": "2022-06-13T14:21:41.644Z"
   },
   {
    "duration": 16,
    "start_time": "2022-06-13T14:25:43.334Z"
   },
   {
    "duration": 33,
    "start_time": "2022-06-13T14:27:09.111Z"
   },
   {
    "duration": 13,
    "start_time": "2022-06-13T14:27:10.693Z"
   },
   {
    "duration": 12,
    "start_time": "2022-06-13T14:27:21.307Z"
   },
   {
    "duration": 14,
    "start_time": "2022-06-13T14:27:29.367Z"
   },
   {
    "duration": 2514,
    "start_time": "2022-06-14T07:04:24.088Z"
   },
   {
    "duration": 1723,
    "start_time": "2022-06-14T07:04:26.604Z"
   },
   {
    "duration": 13,
    "start_time": "2022-06-14T07:04:28.329Z"
   },
   {
    "duration": 14,
    "start_time": "2022-06-14T07:04:28.344Z"
   },
   {
    "duration": 12,
    "start_time": "2022-06-14T07:04:28.359Z"
   },
   {
    "duration": 18,
    "start_time": "2022-06-14T07:04:28.372Z"
   },
   {
    "duration": 11,
    "start_time": "2022-06-14T07:04:28.391Z"
   },
   {
    "duration": 54,
    "start_time": "2022-06-14T07:04:28.403Z"
   },
   {
    "duration": 39,
    "start_time": "2022-06-14T07:04:28.458Z"
   },
   {
    "duration": 16,
    "start_time": "2022-06-14T07:04:28.500Z"
   },
   {
    "duration": 69,
    "start_time": "2022-06-14T07:04:28.518Z"
   },
   {
    "duration": 95,
    "start_time": "2022-06-14T07:04:28.588Z"
   },
   {
    "duration": 56,
    "start_time": "2022-06-14T07:04:28.684Z"
   },
   {
    "duration": 178,
    "start_time": "2022-06-14T07:04:28.742Z"
   },
   {
    "duration": 140,
    "start_time": "2022-06-14T07:04:28.922Z"
   },
   {
    "duration": 20,
    "start_time": "2022-06-14T07:04:29.064Z"
   },
   {
    "duration": 9,
    "start_time": "2022-06-14T07:04:29.085Z"
   },
   {
    "duration": 19,
    "start_time": "2022-06-14T07:04:29.096Z"
   },
   {
    "duration": 19,
    "start_time": "2022-06-14T07:04:29.116Z"
   },
   {
    "duration": 7,
    "start_time": "2022-06-14T07:04:29.137Z"
   },
   {
    "duration": 37,
    "start_time": "2022-06-14T07:04:29.145Z"
   },
   {
    "duration": 19,
    "start_time": "2022-06-14T07:04:29.184Z"
   },
   {
    "duration": 8,
    "start_time": "2022-06-14T07:04:29.204Z"
   },
   {
    "duration": 349,
    "start_time": "2022-06-14T07:04:29.214Z"
   },
   {
    "duration": 1350,
    "start_time": "2022-06-14T07:04:29.564Z"
   },
   {
    "duration": 8990,
    "start_time": "2022-06-14T07:04:30.915Z"
   },
   {
    "duration": 78,
    "start_time": "2022-06-14T07:04:39.907Z"
   },
   {
    "duration": 21,
    "start_time": "2022-06-14T07:04:39.987Z"
   },
   {
    "duration": 71,
    "start_time": "2022-06-14T07:04:40.009Z"
   },
   {
    "duration": 33,
    "start_time": "2022-06-14T07:04:40.081Z"
   },
   {
    "duration": 695,
    "start_time": "2022-06-14T07:04:40.116Z"
   },
   {
    "duration": 13,
    "start_time": "2022-06-14T07:04:40.812Z"
   },
   {
    "duration": 13,
    "start_time": "2022-06-14T07:04:40.826Z"
   },
   {
    "duration": 15,
    "start_time": "2022-06-14T07:04:40.840Z"
   },
   {
    "duration": 3,
    "start_time": "2022-06-14T07:04:40.878Z"
   },
   {
    "duration": 17,
    "start_time": "2022-06-14T07:09:50.281Z"
   },
   {
    "duration": 5,
    "start_time": "2022-06-14T07:10:11.438Z"
   },
   {
    "duration": 119,
    "start_time": "2022-06-14T07:12:47.028Z"
   },
   {
    "duration": 16,
    "start_time": "2022-06-14T07:12:49.817Z"
   },
   {
    "duration": 16,
    "start_time": "2022-06-14T07:12:58.606Z"
   },
   {
    "duration": 15,
    "start_time": "2022-06-14T07:13:03.506Z"
   },
   {
    "duration": 16,
    "start_time": "2022-06-14T07:13:15.513Z"
   },
   {
    "duration": 18,
    "start_time": "2022-06-14T07:13:23.163Z"
   },
   {
    "duration": 16,
    "start_time": "2022-06-14T07:13:38.406Z"
   },
   {
    "duration": 16,
    "start_time": "2022-06-14T07:14:48.032Z"
   },
   {
    "duration": 19,
    "start_time": "2022-06-14T07:14:52.420Z"
   },
   {
    "duration": 17,
    "start_time": "2022-06-14T07:14:56.414Z"
   },
   {
    "duration": 7,
    "start_time": "2022-06-14T07:16:04.708Z"
   },
   {
    "duration": 3,
    "start_time": "2022-06-14T07:16:19.257Z"
   },
   {
    "duration": 16,
    "start_time": "2022-06-14T07:17:49.335Z"
   },
   {
    "duration": 16,
    "start_time": "2022-06-14T07:18:07.111Z"
   },
   {
    "duration": 16,
    "start_time": "2022-06-14T07:18:33.136Z"
   },
   {
    "duration": 1930,
    "start_time": "2022-06-14T07:20:01.783Z"
   },
   {
    "duration": 514,
    "start_time": "2022-06-14T07:20:03.715Z"
   },
   {
    "duration": 8,
    "start_time": "2022-06-14T07:20:04.230Z"
   },
   {
    "duration": 12,
    "start_time": "2022-06-14T07:20:04.240Z"
   },
   {
    "duration": 15,
    "start_time": "2022-06-14T07:20:04.254Z"
   },
   {
    "duration": 24,
    "start_time": "2022-06-14T07:20:04.270Z"
   },
   {
    "duration": 11,
    "start_time": "2022-06-14T07:20:04.295Z"
   },
   {
    "duration": 53,
    "start_time": "2022-06-14T07:20:04.308Z"
   },
   {
    "duration": 36,
    "start_time": "2022-06-14T07:20:04.362Z"
   },
   {
    "duration": 15,
    "start_time": "2022-06-14T07:20:04.402Z"
   },
   {
    "duration": 73,
    "start_time": "2022-06-14T07:20:04.418Z"
   },
   {
    "duration": 107,
    "start_time": "2022-06-14T07:20:04.493Z"
   },
   {
    "duration": 53,
    "start_time": "2022-06-14T07:20:04.602Z"
   },
   {
    "duration": 180,
    "start_time": "2022-06-14T07:20:04.656Z"
   },
   {
    "duration": 159,
    "start_time": "2022-06-14T07:20:04.837Z"
   },
   {
    "duration": 11,
    "start_time": "2022-06-14T07:20:04.997Z"
   },
   {
    "duration": 21,
    "start_time": "2022-06-14T07:20:05.009Z"
   },
   {
    "duration": 30,
    "start_time": "2022-06-14T07:20:05.031Z"
   },
   {
    "duration": 27,
    "start_time": "2022-06-14T07:20:05.062Z"
   },
   {
    "duration": 6,
    "start_time": "2022-06-14T07:20:05.091Z"
   },
   {
    "duration": 17,
    "start_time": "2022-06-14T07:20:05.099Z"
   },
   {
    "duration": 19,
    "start_time": "2022-06-14T07:20:05.118Z"
   },
   {
    "duration": 8,
    "start_time": "2022-06-14T07:20:05.139Z"
   },
   {
    "duration": 69,
    "start_time": "2022-06-14T07:20:05.148Z"
   },
   {
    "duration": 1240,
    "start_time": "2022-06-14T07:20:05.218Z"
   },
   {
    "duration": 9032,
    "start_time": "2022-06-14T07:20:06.459Z"
   },
   {
    "duration": 25,
    "start_time": "2022-06-14T07:20:15.493Z"
   },
   {
    "duration": 69,
    "start_time": "2022-06-14T07:20:15.521Z"
   },
   {
    "duration": 15,
    "start_time": "2022-06-14T07:20:15.591Z"
   },
   {
    "duration": 83,
    "start_time": "2022-06-14T07:20:15.607Z"
   },
   {
    "duration": 11,
    "start_time": "2022-06-14T07:20:15.692Z"
   },
   {
    "duration": 19,
    "start_time": "2022-06-14T07:23:53.671Z"
   },
   {
    "duration": 6,
    "start_time": "2022-06-14T07:26:34.216Z"
   },
   {
    "duration": 16,
    "start_time": "2022-06-14T07:30:01.111Z"
   },
   {
    "duration": 39,
    "start_time": "2022-06-14T07:32:14.945Z"
   },
   {
    "duration": 50,
    "start_time": "2022-06-14T07:32:28.181Z"
   },
   {
    "duration": 28,
    "start_time": "2022-06-14T07:32:39.026Z"
   },
   {
    "duration": 16,
    "start_time": "2022-06-14T07:32:52.213Z"
   },
   {
    "duration": 13,
    "start_time": "2022-06-14T07:34:04.463Z"
   },
   {
    "duration": 7,
    "start_time": "2022-06-14T07:34:34.068Z"
   },
   {
    "duration": 149,
    "start_time": "2022-06-14T07:35:38.731Z"
   },
   {
    "duration": 13,
    "start_time": "2022-06-14T07:36:20.759Z"
   },
   {
    "duration": 13,
    "start_time": "2022-06-14T07:38:01.715Z"
   },
   {
    "duration": 19,
    "start_time": "2022-06-14T07:50:10.454Z"
   },
   {
    "duration": 15,
    "start_time": "2022-06-14T07:50:28.196Z"
   },
   {
    "duration": 14,
    "start_time": "2022-06-14T07:50:52.999Z"
   },
   {
    "duration": 13,
    "start_time": "2022-06-14T07:51:01.584Z"
   },
   {
    "duration": 14,
    "start_time": "2022-06-14T07:51:53.438Z"
   },
   {
    "duration": 13,
    "start_time": "2022-06-14T07:52:01.191Z"
   },
   {
    "duration": 12,
    "start_time": "2022-06-14T08:14:16.090Z"
   },
   {
    "duration": 13,
    "start_time": "2022-06-14T08:14:41.168Z"
   },
   {
    "duration": 4,
    "start_time": "2022-06-14T08:14:53.698Z"
   },
   {
    "duration": 11,
    "start_time": "2022-06-14T08:15:03.120Z"
   },
   {
    "duration": 10,
    "start_time": "2022-06-14T08:51:29.668Z"
   },
   {
    "duration": 12,
    "start_time": "2022-06-14T08:51:36.300Z"
   },
   {
    "duration": 4,
    "start_time": "2022-06-14T08:51:48.846Z"
   },
   {
    "duration": 4,
    "start_time": "2022-06-14T08:52:25.484Z"
   },
   {
    "duration": 14,
    "start_time": "2022-06-14T08:52:55.368Z"
   },
   {
    "duration": 12,
    "start_time": "2022-06-14T08:54:00.034Z"
   },
   {
    "duration": 6,
    "start_time": "2022-06-14T08:59:43.673Z"
   },
   {
    "duration": 3,
    "start_time": "2022-06-14T09:00:28.345Z"
   },
   {
    "duration": 33,
    "start_time": "2022-06-14T09:00:30.275Z"
   },
   {
    "duration": 3,
    "start_time": "2022-06-14T09:01:29.263Z"
   },
   {
    "duration": 11,
    "start_time": "2022-06-14T09:01:29.883Z"
   },
   {
    "duration": 6,
    "start_time": "2022-06-14T09:02:04.222Z"
   },
   {
    "duration": 32,
    "start_time": "2022-06-14T09:02:24.878Z"
   },
   {
    "duration": 3,
    "start_time": "2022-06-14T09:02:28.285Z"
   },
   {
    "duration": 9,
    "start_time": "2022-06-14T09:03:07.193Z"
   },
   {
    "duration": 32,
    "start_time": "2022-06-14T09:04:07.318Z"
   },
   {
    "duration": 2,
    "start_time": "2022-06-14T09:04:19.959Z"
   },
   {
    "duration": 29,
    "start_time": "2022-06-14T09:05:03.801Z"
   },
   {
    "duration": 2,
    "start_time": "2022-06-14T09:08:08.801Z"
   },
   {
    "duration": 6,
    "start_time": "2022-06-14T09:08:10.192Z"
   },
   {
    "duration": 10,
    "start_time": "2022-06-14T09:10:08.676Z"
   },
   {
    "duration": 15,
    "start_time": "2022-06-14T09:10:15.044Z"
   },
   {
    "duration": 2,
    "start_time": "2022-06-14T09:10:48.138Z"
   },
   {
    "duration": 6,
    "start_time": "2022-06-14T09:10:49.509Z"
   },
   {
    "duration": 14,
    "start_time": "2022-06-14T09:10:55.846Z"
   },
   {
    "duration": 3,
    "start_time": "2022-06-14T09:11:45.445Z"
   },
   {
    "duration": 16,
    "start_time": "2022-06-14T09:11:47.733Z"
   },
   {
    "duration": 3,
    "start_time": "2022-06-14T09:12:41.682Z"
   },
   {
    "duration": 14,
    "start_time": "2022-06-14T09:12:42.334Z"
   },
   {
    "duration": 4,
    "start_time": "2022-06-14T09:16:46.315Z"
   },
   {
    "duration": 12,
    "start_time": "2022-06-14T09:16:47.081Z"
   },
   {
    "duration": 108,
    "start_time": "2022-06-14T09:21:45.198Z"
   },
   {
    "duration": 5,
    "start_time": "2022-06-14T09:23:56.393Z"
   },
   {
    "duration": 7,
    "start_time": "2022-06-14T09:24:05.804Z"
   },
   {
    "duration": 5,
    "start_time": "2022-06-14T09:24:15.972Z"
   },
   {
    "duration": 6,
    "start_time": "2022-06-14T09:24:40.267Z"
   },
   {
    "duration": 7,
    "start_time": "2022-06-14T09:24:47.765Z"
   },
   {
    "duration": 13,
    "start_time": "2022-06-14T09:25:57.752Z"
   },
   {
    "duration": 8,
    "start_time": "2022-06-14T09:26:18.480Z"
   },
   {
    "duration": 4,
    "start_time": "2022-06-14T09:27:14.294Z"
   },
   {
    "duration": 9,
    "start_time": "2022-06-14T09:29:14.237Z"
   },
   {
    "duration": 11,
    "start_time": "2022-06-14T09:30:13.812Z"
   },
   {
    "duration": 14,
    "start_time": "2022-06-14T09:30:33.694Z"
   },
   {
    "duration": 9,
    "start_time": "2022-06-14T09:30:36.246Z"
   },
   {
    "duration": 12,
    "start_time": "2022-06-14T09:30:37.983Z"
   },
   {
    "duration": 10,
    "start_time": "2022-06-14T09:31:02.423Z"
   },
   {
    "duration": 11,
    "start_time": "2022-06-14T09:31:18.057Z"
   },
   {
    "duration": 10,
    "start_time": "2022-06-14T09:31:27.462Z"
   },
   {
    "duration": 9,
    "start_time": "2022-06-14T09:42:42.093Z"
   },
   {
    "duration": 10,
    "start_time": "2022-06-14T09:42:59.789Z"
   },
   {
    "duration": 10,
    "start_time": "2022-06-14T09:43:09.161Z"
   },
   {
    "duration": 12,
    "start_time": "2022-06-14T09:43:30.073Z"
   },
   {
    "duration": 10,
    "start_time": "2022-06-14T09:46:30.858Z"
   },
   {
    "duration": 10,
    "start_time": "2022-06-14T09:51:25.001Z"
   },
   {
    "duration": 1671,
    "start_time": "2022-06-14T09:51:45.916Z"
   },
   {
    "duration": 23,
    "start_time": "2022-06-14T09:52:09.896Z"
   },
   {
    "duration": 2132,
    "start_time": "2022-06-14T09:52:32.537Z"
   },
   {
    "duration": 18,
    "start_time": "2022-06-14T09:52:40.593Z"
   },
   {
    "duration": 14,
    "start_time": "2022-06-14T09:58:53.822Z"
   },
   {
    "duration": 14,
    "start_time": "2022-06-14T10:06:59.049Z"
   },
   {
    "duration": 14,
    "start_time": "2022-06-14T10:12:12.925Z"
   },
   {
    "duration": 14,
    "start_time": "2022-06-14T10:15:12.627Z"
   },
   {
    "duration": 14,
    "start_time": "2022-06-14T10:16:25.581Z"
   },
   {
    "duration": 15,
    "start_time": "2022-06-14T10:16:33.794Z"
   },
   {
    "duration": 14,
    "start_time": "2022-06-14T10:22:19.085Z"
   },
   {
    "duration": 16,
    "start_time": "2022-06-14T10:27:10.100Z"
   },
   {
    "duration": 64,
    "start_time": "2022-06-14T10:30:42.765Z"
   },
   {
    "duration": 48,
    "start_time": "2022-06-14T10:30:51.087Z"
   },
   {
    "duration": 14,
    "start_time": "2022-06-14T10:39:10.676Z"
   },
   {
    "duration": 146,
    "start_time": "2022-06-14T10:39:44.896Z"
   },
   {
    "duration": 141,
    "start_time": "2022-06-14T10:39:56.633Z"
   },
   {
    "duration": 142,
    "start_time": "2022-06-14T10:40:08.737Z"
   },
   {
    "duration": 127,
    "start_time": "2022-06-14T10:40:52.062Z"
   },
   {
    "duration": 129,
    "start_time": "2022-06-14T10:41:11.267Z"
   },
   {
    "duration": 158,
    "start_time": "2022-06-14T10:41:27.297Z"
   },
   {
    "duration": 120,
    "start_time": "2022-06-14T10:41:35.101Z"
   },
   {
    "duration": 10,
    "start_time": "2022-06-14T10:41:57.562Z"
   },
   {
    "duration": 291,
    "start_time": "2022-06-14T10:42:21.861Z"
   },
   {
    "duration": 28,
    "start_time": "2022-06-14T10:51:09.956Z"
   },
   {
    "duration": 13,
    "start_time": "2022-06-14T10:53:09.926Z"
   },
   {
    "duration": 5,
    "start_time": "2022-06-14T10:53:18.918Z"
   },
   {
    "duration": 8,
    "start_time": "2022-06-14T10:53:30.050Z"
   },
   {
    "duration": 20,
    "start_time": "2022-06-14T10:56:36.158Z"
   },
   {
    "duration": 34,
    "start_time": "2022-06-14T10:57:54.649Z"
   },
   {
    "duration": 18,
    "start_time": "2022-06-14T10:58:17.619Z"
   },
   {
    "duration": 23,
    "start_time": "2022-06-14T10:58:41.513Z"
   },
   {
    "duration": 18,
    "start_time": "2022-06-14T10:59:59.606Z"
   },
   {
    "duration": 17,
    "start_time": "2022-06-14T11:00:10.571Z"
   },
   {
    "duration": 14,
    "start_time": "2022-06-14T11:00:17.118Z"
   },
   {
    "duration": 128,
    "start_time": "2022-06-14T11:00:29.190Z"
   },
   {
    "duration": 18,
    "start_time": "2022-06-14T11:01:20.299Z"
   },
   {
    "duration": 15,
    "start_time": "2022-06-14T11:01:52.823Z"
   },
   {
    "duration": 121,
    "start_time": "2022-06-14T11:17:10.782Z"
   },
   {
    "duration": 66,
    "start_time": "2022-06-14T11:18:17.025Z"
   },
   {
    "duration": 1879,
    "start_time": "2022-06-14T11:21:00.027Z"
   },
   {
    "duration": 15,
    "start_time": "2022-06-14T11:22:24.773Z"
   },
   {
    "duration": 24,
    "start_time": "2022-06-14T11:45:20.935Z"
   },
   {
    "duration": 14,
    "start_time": "2022-06-14T11:52:31.198Z"
   },
   {
    "duration": 14,
    "start_time": "2022-06-14T11:52:55.751Z"
   },
   {
    "duration": 11,
    "start_time": "2022-06-14T11:53:04.823Z"
   },
   {
    "duration": 12,
    "start_time": "2022-06-14T11:54:05.048Z"
   },
   {
    "duration": 13,
    "start_time": "2022-06-14T11:54:21.133Z"
   },
   {
    "duration": 13,
    "start_time": "2022-06-14T11:54:28.579Z"
   },
   {
    "duration": 17,
    "start_time": "2022-06-14T11:54:35.994Z"
   },
   {
    "duration": 10,
    "start_time": "2022-06-14T11:56:16.349Z"
   },
   {
    "duration": 10,
    "start_time": "2022-06-14T11:58:37.422Z"
   },
   {
    "duration": 4,
    "start_time": "2022-06-14T12:00:44.649Z"
   },
   {
    "duration": 5,
    "start_time": "2022-06-14T12:02:51.204Z"
   },
   {
    "duration": 9,
    "start_time": "2022-06-14T12:03:22.062Z"
   },
   {
    "duration": 12,
    "start_time": "2022-06-14T12:04:01.203Z"
   },
   {
    "duration": 14,
    "start_time": "2022-06-14T12:16:29.233Z"
   },
   {
    "duration": 4,
    "start_time": "2022-06-14T12:30:20.116Z"
   },
   {
    "duration": 27,
    "start_time": "2022-06-14T12:40:38.794Z"
   },
   {
    "duration": 2967,
    "start_time": "2022-06-15T07:00:06.029Z"
   },
   {
    "duration": 1627,
    "start_time": "2022-06-15T07:00:08.998Z"
   },
   {
    "duration": 15,
    "start_time": "2022-06-15T07:00:10.626Z"
   },
   {
    "duration": 10,
    "start_time": "2022-06-15T07:00:10.643Z"
   },
   {
    "duration": 13,
    "start_time": "2022-06-15T07:00:10.654Z"
   },
   {
    "duration": 19,
    "start_time": "2022-06-15T07:00:10.668Z"
   },
   {
    "duration": 16,
    "start_time": "2022-06-15T07:00:10.688Z"
   },
   {
    "duration": 57,
    "start_time": "2022-06-15T07:00:10.706Z"
   },
   {
    "duration": 42,
    "start_time": "2022-06-15T07:00:10.765Z"
   },
   {
    "duration": 20,
    "start_time": "2022-06-15T07:00:10.810Z"
   },
   {
    "duration": 69,
    "start_time": "2022-06-15T07:00:10.832Z"
   },
   {
    "duration": 112,
    "start_time": "2022-06-15T07:00:10.903Z"
   },
   {
    "duration": 79,
    "start_time": "2022-06-15T07:00:11.017Z"
   },
   {
    "duration": 183,
    "start_time": "2022-06-15T07:00:11.097Z"
   },
   {
    "duration": 158,
    "start_time": "2022-06-15T07:00:11.281Z"
   },
   {
    "duration": 11,
    "start_time": "2022-06-15T07:00:11.440Z"
   },
   {
    "duration": 12,
    "start_time": "2022-06-15T07:00:11.453Z"
   },
   {
    "duration": 43,
    "start_time": "2022-06-15T07:00:11.466Z"
   },
   {
    "duration": 21,
    "start_time": "2022-06-15T07:00:11.511Z"
   },
   {
    "duration": 7,
    "start_time": "2022-06-15T07:00:11.534Z"
   },
   {
    "duration": 14,
    "start_time": "2022-06-15T07:00:11.542Z"
   },
   {
    "duration": 39,
    "start_time": "2022-06-15T07:00:11.558Z"
   },
   {
    "duration": 10,
    "start_time": "2022-06-15T07:00:11.598Z"
   },
   {
    "duration": 30,
    "start_time": "2022-06-15T07:01:13.232Z"
   },
   {
    "duration": 19,
    "start_time": "2022-06-15T07:01:17.031Z"
   },
   {
    "duration": 19,
    "start_time": "2022-06-15T07:01:23.712Z"
   },
   {
    "duration": 36,
    "start_time": "2022-06-15T07:01:26.479Z"
   },
   {
    "duration": 417,
    "start_time": "2022-06-15T07:01:27.745Z"
   },
   {
    "duration": 14,
    "start_time": "2022-06-15T07:01:32.359Z"
   },
   {
    "duration": 12,
    "start_time": "2022-06-15T07:01:35.048Z"
   },
   {
    "duration": 15,
    "start_time": "2022-06-15T07:01:37.197Z"
   },
   {
    "duration": 16,
    "start_time": "2022-06-15T07:01:40.310Z"
   },
   {
    "duration": 18,
    "start_time": "2022-06-15T07:01:44.838Z"
   },
   {
    "duration": 16,
    "start_time": "2022-06-15T07:01:46.670Z"
   },
   {
    "duration": 12,
    "start_time": "2022-06-15T07:01:49.337Z"
   },
   {
    "duration": 8,
    "start_time": "2022-06-15T07:01:52.301Z"
   },
   {
    "duration": 11,
    "start_time": "2022-06-15T07:01:54.085Z"
   },
   {
    "duration": 9,
    "start_time": "2022-06-15T07:01:56.204Z"
   },
   {
    "duration": 15,
    "start_time": "2022-06-15T07:02:00.856Z"
   },
   {
    "duration": 13,
    "start_time": "2022-06-15T07:02:03.959Z"
   },
   {
    "duration": 13,
    "start_time": "2022-06-15T07:02:07.207Z"
   },
   {
    "duration": 205,
    "start_time": "2022-06-15T07:02:13.646Z"
   },
   {
    "duration": 8,
    "start_time": "2022-06-15T07:02:16.060Z"
   },
   {
    "duration": 29,
    "start_time": "2022-06-15T07:02:25.049Z"
   },
   {
    "duration": 147,
    "start_time": "2022-06-15T07:02:25.080Z"
   },
   {
    "duration": 85,
    "start_time": "2022-06-15T07:02:25.229Z"
   },
   {
    "duration": 171,
    "start_time": "2022-06-15T07:02:25.316Z"
   },
   {
    "duration": 5,
    "start_time": "2022-06-15T07:02:25.488Z"
   },
   {
    "duration": 158,
    "start_time": "2022-06-15T07:34:14.458Z"
   },
   {
    "duration": 175,
    "start_time": "2022-06-15T07:35:21.573Z"
   },
   {
    "duration": 16,
    "start_time": "2022-06-15T07:38:13.914Z"
   },
   {
    "duration": 212,
    "start_time": "2022-06-15T07:38:23.706Z"
   },
   {
    "duration": 19,
    "start_time": "2022-06-15T07:38:26.602Z"
   },
   {
    "duration": 5,
    "start_time": "2022-06-15T07:39:36.296Z"
   },
   {
    "duration": 16,
    "start_time": "2022-06-15T07:39:51.730Z"
   },
   {
    "duration": 25,
    "start_time": "2022-06-15T07:40:05.521Z"
   },
   {
    "duration": 918,
    "start_time": "2022-06-15T07:40:39.123Z"
   },
   {
    "duration": 14,
    "start_time": "2022-06-15T07:41:04.875Z"
   },
   {
    "duration": 24,
    "start_time": "2022-06-15T07:41:41.212Z"
   },
   {
    "duration": 12,
    "start_time": "2022-06-15T07:42:01.314Z"
   },
   {
    "duration": 11,
    "start_time": "2022-06-15T07:42:33.704Z"
   },
   {
    "duration": 189,
    "start_time": "2022-06-15T07:43:47.971Z"
   },
   {
    "duration": 18,
    "start_time": "2022-06-15T07:43:49.371Z"
   },
   {
    "duration": 118,
    "start_time": "2022-06-15T07:49:40.113Z"
   },
   {
    "duration": 97,
    "start_time": "2022-06-15T07:50:20.275Z"
   },
   {
    "duration": 219,
    "start_time": "2022-06-15T07:50:24.828Z"
   },
   {
    "duration": 28,
    "start_time": "2022-06-15T07:51:22.777Z"
   },
   {
    "duration": 45,
    "start_time": "2022-06-15T07:51:25.715Z"
   },
   {
    "duration": 214,
    "start_time": "2022-06-15T07:51:33.765Z"
   },
   {
    "duration": 35,
    "start_time": "2022-06-15T07:53:12.474Z"
   },
   {
    "duration": 183,
    "start_time": "2022-06-15T07:53:35.164Z"
   },
   {
    "duration": 25,
    "start_time": "2022-06-15T07:53:36.572Z"
   },
   {
    "duration": 20,
    "start_time": "2022-06-15T07:53:57.058Z"
   },
   {
    "duration": 7,
    "start_time": "2022-06-15T08:07:04.292Z"
   },
   {
    "duration": 4,
    "start_time": "2022-06-15T08:07:21.101Z"
   },
   {
    "duration": 17,
    "start_time": "2022-06-15T08:07:51.115Z"
   },
   {
    "duration": 8,
    "start_time": "2022-06-15T08:08:25.736Z"
   },
   {
    "duration": 14,
    "start_time": "2022-06-15T08:08:35.091Z"
   },
   {
    "duration": 7,
    "start_time": "2022-06-15T08:10:00.069Z"
   },
   {
    "duration": 29,
    "start_time": "2022-06-15T08:11:01.189Z"
   },
   {
    "duration": 1931,
    "start_time": "2022-06-15T08:11:36.307Z"
   },
   {
    "duration": 520,
    "start_time": "2022-06-15T08:11:38.241Z"
   },
   {
    "duration": 10,
    "start_time": "2022-06-15T08:11:38.762Z"
   },
   {
    "duration": 11,
    "start_time": "2022-06-15T08:11:38.774Z"
   },
   {
    "duration": 12,
    "start_time": "2022-06-15T08:11:38.787Z"
   },
   {
    "duration": 23,
    "start_time": "2022-06-15T08:11:38.801Z"
   },
   {
    "duration": 13,
    "start_time": "2022-06-15T08:11:38.826Z"
   },
   {
    "duration": 78,
    "start_time": "2022-06-15T08:11:38.841Z"
   },
   {
    "duration": 28,
    "start_time": "2022-06-15T08:11:38.920Z"
   },
   {
    "duration": 17,
    "start_time": "2022-06-15T08:11:38.951Z"
   },
   {
    "duration": 65,
    "start_time": "2022-06-15T08:11:38.970Z"
   },
   {
    "duration": 112,
    "start_time": "2022-06-15T08:11:39.037Z"
   },
   {
    "duration": 68,
    "start_time": "2022-06-15T08:11:39.150Z"
   },
   {
    "duration": 197,
    "start_time": "2022-06-15T08:11:39.220Z"
   },
   {
    "duration": 165,
    "start_time": "2022-06-15T08:11:39.418Z"
   },
   {
    "duration": 17,
    "start_time": "2022-06-15T08:11:39.584Z"
   },
   {
    "duration": 12,
    "start_time": "2022-06-15T08:11:39.603Z"
   },
   {
    "duration": 22,
    "start_time": "2022-06-15T08:11:39.616Z"
   },
   {
    "duration": 20,
    "start_time": "2022-06-15T08:11:39.640Z"
   },
   {
    "duration": 7,
    "start_time": "2022-06-15T08:11:39.662Z"
   },
   {
    "duration": 34,
    "start_time": "2022-06-15T08:11:39.671Z"
   },
   {
    "duration": 20,
    "start_time": "2022-06-15T08:11:39.707Z"
   },
   {
    "duration": 9,
    "start_time": "2022-06-15T08:11:39.729Z"
   },
   {
    "duration": 346,
    "start_time": "2022-06-15T08:11:39.739Z"
   },
   {
    "duration": 1294,
    "start_time": "2022-06-15T08:11:40.086Z"
   },
   {
    "duration": 9565,
    "start_time": "2022-06-15T08:11:41.382Z"
   },
   {
    "duration": 58,
    "start_time": "2022-06-15T08:11:50.950Z"
   },
   {
    "duration": 21,
    "start_time": "2022-06-15T08:11:51.011Z"
   },
   {
    "duration": 73,
    "start_time": "2022-06-15T08:11:51.033Z"
   },
   {
    "duration": 94,
    "start_time": "2022-06-15T08:11:51.108Z"
   },
   {
    "duration": 14,
    "start_time": "2022-06-15T08:11:51.203Z"
   },
   {
    "duration": 13,
    "start_time": "2022-06-15T08:11:51.219Z"
   },
   {
    "duration": 63,
    "start_time": "2022-06-15T08:11:51.234Z"
   },
   {
    "duration": 14,
    "start_time": "2022-06-15T08:11:51.298Z"
   },
   {
    "duration": 14,
    "start_time": "2022-06-15T08:11:51.313Z"
   },
   {
    "duration": 68,
    "start_time": "2022-06-15T08:11:51.328Z"
   },
   {
    "duration": 17,
    "start_time": "2022-06-15T08:11:51.397Z"
   },
   {
    "duration": 11,
    "start_time": "2022-06-15T08:11:51.416Z"
   },
   {
    "duration": 8,
    "start_time": "2022-06-15T08:11:51.429Z"
   },
   {
    "duration": 11,
    "start_time": "2022-06-15T08:11:51.495Z"
   },
   {
    "duration": 14,
    "start_time": "2022-06-15T08:11:51.508Z"
   },
   {
    "duration": 75,
    "start_time": "2022-06-15T08:11:51.524Z"
   },
   {
    "duration": 19,
    "start_time": "2022-06-15T08:11:51.601Z"
   },
   {
    "duration": 16,
    "start_time": "2022-06-15T08:11:51.621Z"
   },
   {
    "duration": 247,
    "start_time": "2022-06-15T08:11:51.695Z"
   },
   {
    "duration": 8,
    "start_time": "2022-06-15T08:11:51.943Z"
   },
   {
    "duration": 296,
    "start_time": "2022-06-15T08:11:51.953Z"
   },
   {
    "duration": 48,
    "start_time": "2022-06-15T08:11:52.251Z"
   },
   {
    "duration": 139,
    "start_time": "2022-06-15T08:11:52.301Z"
   },
   {
    "duration": 80,
    "start_time": "2022-06-15T08:11:52.442Z"
   },
   {
    "duration": 12,
    "start_time": "2022-06-15T08:11:52.524Z"
   },
   {
    "duration": 199,
    "start_time": "2022-06-15T08:11:52.537Z"
   },
   {
    "duration": 18,
    "start_time": "2022-06-15T08:11:52.738Z"
   },
   {
    "duration": 6,
    "start_time": "2022-06-15T08:11:52.757Z"
   },
   {
    "duration": 8,
    "start_time": "2022-06-15T08:11:52.764Z"
   },
   {
    "duration": 21,
    "start_time": "2022-06-15T08:11:52.773Z"
   },
   {
    "duration": 58,
    "start_time": "2022-06-15T08:15:20.264Z"
   },
   {
    "duration": 24,
    "start_time": "2022-06-15T08:15:49.021Z"
   },
   {
    "duration": 23,
    "start_time": "2022-06-15T08:18:26.432Z"
   },
   {
    "duration": 31,
    "start_time": "2022-06-15T08:19:23.134Z"
   },
   {
    "duration": 31,
    "start_time": "2022-06-15T08:19:32.857Z"
   },
   {
    "duration": 34,
    "start_time": "2022-06-15T08:20:51.216Z"
   },
   {
    "duration": 26,
    "start_time": "2022-06-15T08:21:06.730Z"
   },
   {
    "duration": 16,
    "start_time": "2022-06-15T08:21:34.841Z"
   },
   {
    "duration": 8,
    "start_time": "2022-06-15T08:22:56.336Z"
   },
   {
    "duration": 28,
    "start_time": "2022-06-15T08:25:59.935Z"
   },
   {
    "duration": 13,
    "start_time": "2022-06-15T08:32:01.185Z"
   },
   {
    "duration": 12,
    "start_time": "2022-06-15T08:36:01.374Z"
   },
   {
    "duration": 36,
    "start_time": "2022-06-15T08:38:52.323Z"
   },
   {
    "duration": 650,
    "start_time": "2022-06-15T08:38:58.298Z"
   },
   {
    "duration": 674,
    "start_time": "2022-06-15T08:41:02.618Z"
   },
   {
    "duration": 4,
    "start_time": "2022-06-15T08:53:37.055Z"
   },
   {
    "duration": 5,
    "start_time": "2022-06-15T08:53:56.365Z"
   },
   {
    "duration": 10,
    "start_time": "2022-06-15T08:55:30.832Z"
   },
   {
    "duration": 5,
    "start_time": "2022-06-15T08:56:33.616Z"
   },
   {
    "duration": 711,
    "start_time": "2022-06-15T08:58:23.588Z"
   },
   {
    "duration": 4,
    "start_time": "2022-06-15T08:58:25.297Z"
   },
   {
    "duration": 9,
    "start_time": "2022-06-15T09:23:28.519Z"
   },
   {
    "duration": 10,
    "start_time": "2022-06-15T09:24:56.505Z"
   },
   {
    "duration": 11,
    "start_time": "2022-06-15T09:28:10.854Z"
   },
   {
    "duration": 133,
    "start_time": "2022-06-15T09:30:13.445Z"
   },
   {
    "duration": 142,
    "start_time": "2022-06-15T09:34:33.990Z"
   },
   {
    "duration": 3,
    "start_time": "2022-06-15T09:37:44.895Z"
   },
   {
    "duration": 17,
    "start_time": "2022-06-15T09:37:51.888Z"
   },
   {
    "duration": 190,
    "start_time": "2022-06-15T09:38:03.889Z"
   },
   {
    "duration": 7,
    "start_time": "2022-06-15T09:38:32.041Z"
   },
   {
    "duration": 11,
    "start_time": "2022-06-15T09:39:00.153Z"
   },
   {
    "duration": 10,
    "start_time": "2022-06-15T09:41:10.543Z"
   },
   {
    "duration": 20,
    "start_time": "2022-06-15T09:44:46.789Z"
   },
   {
    "duration": 18,
    "start_time": "2022-06-15T09:49:25.519Z"
   },
   {
    "duration": 205,
    "start_time": "2022-06-15T09:51:05.342Z"
   },
   {
    "duration": 181,
    "start_time": "2022-06-15T09:51:48.712Z"
   },
   {
    "duration": 54,
    "start_time": "2022-06-15T09:51:53.494Z"
   },
   {
    "duration": 607,
    "start_time": "2022-06-15T09:52:36.613Z"
   },
   {
    "duration": 54,
    "start_time": "2022-06-15T09:57:33.918Z"
   },
   {
    "duration": 58,
    "start_time": "2022-06-15T09:59:39.852Z"
   },
   {
    "duration": 5,
    "start_time": "2022-06-15T10:01:19.030Z"
   },
   {
    "duration": 12,
    "start_time": "2022-06-15T10:01:58.638Z"
   },
   {
    "duration": 31,
    "start_time": "2022-06-15T10:06:52.943Z"
   },
   {
    "duration": 218,
    "start_time": "2022-06-15T10:08:13.737Z"
   },
   {
    "duration": 7,
    "start_time": "2022-06-15T10:16:31.758Z"
   },
   {
    "duration": 50,
    "start_time": "2022-06-15T10:18:27.054Z"
   },
   {
    "duration": 58,
    "start_time": "2022-06-15T10:20:44.301Z"
   },
   {
    "duration": 53,
    "start_time": "2022-06-15T10:21:25.082Z"
   },
   {
    "duration": 667,
    "start_time": "2022-06-15T10:55:03.281Z"
   },
   {
    "duration": 175,
    "start_time": "2022-06-15T11:10:41.004Z"
   },
   {
    "duration": 804,
    "start_time": "2022-06-15T11:10:44.312Z"
   },
   {
    "duration": 3,
    "start_time": "2022-06-15T11:23:20.578Z"
   },
   {
    "duration": 7,
    "start_time": "2022-06-15T11:24:43.343Z"
   },
   {
    "duration": 3,
    "start_time": "2022-06-15T11:26:21.219Z"
   },
   {
    "duration": 55,
    "start_time": "2022-06-15T11:26:22.146Z"
   },
   {
    "duration": 4,
    "start_time": "2022-06-15T11:27:53.965Z"
   },
   {
    "duration": 56,
    "start_time": "2022-06-15T11:27:54.662Z"
   },
   {
    "duration": 3,
    "start_time": "2022-06-15T11:28:04.941Z"
   },
   {
    "duration": 60,
    "start_time": "2022-06-15T11:28:13.154Z"
   },
   {
    "duration": 93,
    "start_time": "2022-06-15T11:28:42.038Z"
   },
   {
    "duration": 11,
    "start_time": "2022-06-15T11:43:26.470Z"
   },
   {
    "duration": 19,
    "start_time": "2022-06-15T11:43:44.040Z"
   },
   {
    "duration": 28,
    "start_time": "2022-06-15T11:43:53.819Z"
   },
   {
    "duration": 24,
    "start_time": "2022-06-15T11:44:21.861Z"
   },
   {
    "duration": 12,
    "start_time": "2022-06-15T12:14:17.177Z"
   },
   {
    "duration": 14,
    "start_time": "2022-06-15T12:14:28.940Z"
   },
   {
    "duration": 2058,
    "start_time": "2022-06-15T12:17:42.775Z"
   },
   {
    "duration": 491,
    "start_time": "2022-06-15T12:17:44.835Z"
   },
   {
    "duration": 9,
    "start_time": "2022-06-15T12:17:45.327Z"
   },
   {
    "duration": 12,
    "start_time": "2022-06-15T12:17:45.337Z"
   },
   {
    "duration": 10,
    "start_time": "2022-06-15T12:17:45.351Z"
   },
   {
    "duration": 14,
    "start_time": "2022-06-15T12:17:45.362Z"
   },
   {
    "duration": 24,
    "start_time": "2022-06-15T12:17:45.377Z"
   },
   {
    "duration": 51,
    "start_time": "2022-06-15T12:17:45.402Z"
   },
   {
    "duration": 40,
    "start_time": "2022-06-15T12:17:45.455Z"
   },
   {
    "duration": 16,
    "start_time": "2022-06-15T12:17:45.497Z"
   },
   {
    "duration": 47,
    "start_time": "2022-06-15T12:17:45.514Z"
   },
   {
    "duration": 118,
    "start_time": "2022-06-15T12:17:45.562Z"
   },
   {
    "duration": 66,
    "start_time": "2022-06-15T12:17:45.681Z"
   },
   {
    "duration": 183,
    "start_time": "2022-06-15T12:17:45.750Z"
   },
   {
    "duration": 160,
    "start_time": "2022-06-15T12:17:45.934Z"
   },
   {
    "duration": 10,
    "start_time": "2022-06-15T12:17:46.095Z"
   },
   {
    "duration": 9,
    "start_time": "2022-06-15T12:17:46.107Z"
   },
   {
    "duration": 20,
    "start_time": "2022-06-15T12:17:46.117Z"
   },
   {
    "duration": 20,
    "start_time": "2022-06-15T12:17:46.139Z"
   },
   {
    "duration": 34,
    "start_time": "2022-06-15T12:17:46.161Z"
   },
   {
    "duration": 12,
    "start_time": "2022-06-15T12:17:46.197Z"
   },
   {
    "duration": 20,
    "start_time": "2022-06-15T12:17:46.211Z"
   },
   {
    "duration": 9,
    "start_time": "2022-06-15T12:17:46.232Z"
   },
   {
    "duration": 72,
    "start_time": "2022-06-15T12:17:46.242Z"
   },
   {
    "duration": 1330,
    "start_time": "2022-06-15T12:17:46.315Z"
   },
   {
    "duration": 9118,
    "start_time": "2022-06-15T12:17:47.646Z"
   },
   {
    "duration": 48,
    "start_time": "2022-06-15T12:17:56.766Z"
   },
   {
    "duration": 21,
    "start_time": "2022-06-15T12:17:56.815Z"
   },
   {
    "duration": 72,
    "start_time": "2022-06-15T12:17:56.838Z"
   },
   {
    "duration": 89,
    "start_time": "2022-06-15T12:17:56.912Z"
   },
   {
    "duration": 23,
    "start_time": "2022-06-15T12:17:57.003Z"
   },
   {
    "duration": 84,
    "start_time": "2022-06-15T12:17:57.027Z"
   },
   {
    "duration": 13,
    "start_time": "2022-06-15T12:17:57.113Z"
   },
   {
    "duration": 70,
    "start_time": "2022-06-15T12:17:57.127Z"
   },
   {
    "duration": 11,
    "start_time": "2022-06-15T12:17:57.198Z"
   },
   {
    "duration": 3,
    "start_time": "2022-06-15T12:17:57.211Z"
   },
   {
    "duration": 15,
    "start_time": "2022-06-15T12:17:57.216Z"
   },
   {
    "duration": 70,
    "start_time": "2022-06-15T12:17:57.232Z"
   },
   {
    "duration": 23,
    "start_time": "2022-06-15T12:17:57.304Z"
   },
   {
    "duration": 82,
    "start_time": "2022-06-15T12:17:57.329Z"
   },
   {
    "duration": 17,
    "start_time": "2022-06-15T12:17:57.415Z"
   },
   {
    "duration": 68,
    "start_time": "2022-06-15T12:17:57.435Z"
   },
   {
    "duration": 15,
    "start_time": "2022-06-15T12:17:57.504Z"
   },
   {
    "duration": 13,
    "start_time": "2022-06-15T12:17:57.520Z"
   },
   {
    "duration": 203,
    "start_time": "2022-06-15T12:17:57.534Z"
   },
   {
    "duration": 8,
    "start_time": "2022-06-15T12:17:57.739Z"
   },
   {
    "duration": 298,
    "start_time": "2022-06-15T12:17:57.749Z"
   },
   {
    "duration": 52,
    "start_time": "2022-06-15T12:17:58.048Z"
   },
   {
    "duration": 141,
    "start_time": "2022-06-15T12:17:58.101Z"
   },
   {
    "duration": 82,
    "start_time": "2022-06-15T12:17:58.243Z"
   },
   {
    "duration": 10,
    "start_time": "2022-06-15T12:17:58.327Z"
   },
   {
    "duration": 212,
    "start_time": "2022-06-15T12:17:58.339Z"
   },
   {
    "duration": 835,
    "start_time": "2022-06-15T12:17:58.553Z"
   },
   {
    "duration": 4,
    "start_time": "2022-06-15T12:17:59.393Z"
   },
   {
    "duration": 54,
    "start_time": "2022-06-15T12:17:59.398Z"
   },
   {
    "duration": 102,
    "start_time": "2022-06-15T12:17:59.454Z"
   },
   {
    "duration": 169,
    "start_time": "2022-06-15T12:17:59.557Z"
   },
   {
    "duration": 17,
    "start_time": "2022-06-15T12:17:59.727Z"
   },
   {
    "duration": 659,
    "start_time": "2022-06-15T12:17:59.746Z"
   },
   {
    "duration": 4,
    "start_time": "2022-06-15T12:18:00.407Z"
   },
   {
    "duration": 2575,
    "start_time": "2022-06-15T12:19:51.548Z"
   },
   {
    "duration": 532,
    "start_time": "2022-06-15T12:19:54.126Z"
   },
   {
    "duration": 15,
    "start_time": "2022-06-15T12:19:54.660Z"
   },
   {
    "duration": 9,
    "start_time": "2022-06-15T12:19:54.677Z"
   },
   {
    "duration": 14,
    "start_time": "2022-06-15T12:19:54.687Z"
   },
   {
    "duration": 19,
    "start_time": "2022-06-15T12:19:54.702Z"
   },
   {
    "duration": 11,
    "start_time": "2022-06-15T12:19:54.722Z"
   },
   {
    "duration": 66,
    "start_time": "2022-06-15T12:19:54.735Z"
   },
   {
    "duration": 30,
    "start_time": "2022-06-15T12:19:54.802Z"
   },
   {
    "duration": 17,
    "start_time": "2022-06-15T12:19:54.835Z"
   },
   {
    "duration": 63,
    "start_time": "2022-06-15T12:19:54.854Z"
   },
   {
    "duration": 125,
    "start_time": "2022-06-15T12:19:54.919Z"
   },
   {
    "duration": 76,
    "start_time": "2022-06-15T12:19:55.045Z"
   },
   {
    "duration": 193,
    "start_time": "2022-06-15T12:19:55.123Z"
   },
   {
    "duration": 149,
    "start_time": "2022-06-15T12:19:55.318Z"
   },
   {
    "duration": 10,
    "start_time": "2022-06-15T12:19:55.469Z"
   },
   {
    "duration": 18,
    "start_time": "2022-06-15T12:19:55.480Z"
   },
   {
    "duration": 21,
    "start_time": "2022-06-15T12:19:55.500Z"
   },
   {
    "duration": 19,
    "start_time": "2022-06-15T12:19:55.522Z"
   },
   {
    "duration": 6,
    "start_time": "2022-06-15T12:19:55.542Z"
   },
   {
    "duration": 10,
    "start_time": "2022-06-15T12:19:55.550Z"
   },
   {
    "duration": 46,
    "start_time": "2022-06-15T12:19:55.561Z"
   },
   {
    "duration": 8,
    "start_time": "2022-06-15T12:19:55.609Z"
   },
   {
    "duration": 373,
    "start_time": "2022-06-15T12:19:55.619Z"
   },
   {
    "duration": 1394,
    "start_time": "2022-06-15T12:19:55.994Z"
   },
   {
    "duration": 9384,
    "start_time": "2022-06-15T12:19:57.394Z"
   },
   {
    "duration": 36,
    "start_time": "2022-06-15T12:20:06.781Z"
   },
   {
    "duration": 80,
    "start_time": "2022-06-15T12:20:06.825Z"
   },
   {
    "duration": 18,
    "start_time": "2022-06-15T12:20:06.907Z"
   },
   {
    "duration": 94,
    "start_time": "2022-06-15T12:20:06.926Z"
   },
   {
    "duration": 22,
    "start_time": "2022-06-15T12:20:07.022Z"
   },
   {
    "duration": 32,
    "start_time": "2022-06-15T12:20:07.095Z"
   },
   {
    "duration": 477,
    "start_time": "2022-06-15T12:20:07.129Z"
   },
   {
    "duration": 19,
    "start_time": "2022-06-15T12:20:07.608Z"
   },
   {
    "duration": 67,
    "start_time": "2022-06-15T12:20:07.629Z"
   },
   {
    "duration": 3,
    "start_time": "2022-06-15T12:20:07.698Z"
   },
   {
    "duration": 20,
    "start_time": "2022-06-15T12:20:07.703Z"
   },
   {
    "duration": 14,
    "start_time": "2022-06-15T12:20:07.724Z"
   },
   {
    "duration": 68,
    "start_time": "2022-06-15T12:20:07.739Z"
   },
   {
    "duration": 17,
    "start_time": "2022-06-15T12:20:07.808Z"
   },
   {
    "duration": 14,
    "start_time": "2022-06-15T12:20:07.826Z"
   },
   {
    "duration": 58,
    "start_time": "2022-06-15T12:20:07.843Z"
   },
   {
    "duration": 13,
    "start_time": "2022-06-15T12:20:07.903Z"
   },
   {
    "duration": 14,
    "start_time": "2022-06-15T12:20:07.917Z"
   },
   {
    "duration": 179,
    "start_time": "2022-06-15T12:20:07.932Z"
   },
   {
    "duration": 8,
    "start_time": "2022-06-15T12:20:08.113Z"
   },
   {
    "duration": 213,
    "start_time": "2022-06-15T12:20:08.123Z"
   },
   {
    "duration": 30,
    "start_time": "2022-06-15T12:20:08.337Z"
   },
   {
    "duration": 150,
    "start_time": "2022-06-15T12:20:08.368Z"
   },
   {
    "duration": 82,
    "start_time": "2022-06-15T12:20:08.519Z"
   },
   {
    "duration": 12,
    "start_time": "2022-06-15T12:20:08.603Z"
   },
   {
    "duration": 208,
    "start_time": "2022-06-15T12:20:08.617Z"
   },
   {
    "duration": 815,
    "start_time": "2022-06-15T12:20:08.827Z"
   },
   {
    "duration": 4,
    "start_time": "2022-06-15T12:20:09.643Z"
   },
   {
    "duration": 62,
    "start_time": "2022-06-15T12:20:09.648Z"
   },
   {
    "duration": 97,
    "start_time": "2022-06-15T12:20:09.711Z"
   },
   {
    "duration": 181,
    "start_time": "2022-06-15T12:20:09.809Z"
   },
   {
    "duration": 19,
    "start_time": "2022-06-15T12:20:09.993Z"
   },
   {
    "duration": 664,
    "start_time": "2022-06-15T12:20:10.014Z"
   },
   {
    "duration": 5,
    "start_time": "2022-06-15T12:20:10.679Z"
   },
   {
    "duration": 3,
    "start_time": "2022-06-15T12:25:43.436Z"
   },
   {
    "duration": 11,
    "start_time": "2022-06-15T12:26:03.346Z"
   },
   {
    "duration": 2,
    "start_time": "2022-06-15T12:26:33.878Z"
   },
   {
    "duration": 14,
    "start_time": "2022-06-15T12:26:34.731Z"
   },
   {
    "duration": 13,
    "start_time": "2022-06-15T12:27:20.410Z"
   },
   {
    "duration": 3,
    "start_time": "2022-06-15T12:28:35.202Z"
   },
   {
    "duration": 153,
    "start_time": "2022-06-15T12:28:35.823Z"
   },
   {
    "duration": 3,
    "start_time": "2022-06-15T12:28:56.870Z"
   },
   {
    "duration": 37,
    "start_time": "2022-06-15T12:28:57.308Z"
   },
   {
    "duration": 3,
    "start_time": "2022-06-15T12:29:41.916Z"
   },
   {
    "duration": 29,
    "start_time": "2022-06-15T12:29:42.370Z"
   },
   {
    "duration": 3,
    "start_time": "2022-06-15T12:32:12.178Z"
   },
   {
    "duration": 10,
    "start_time": "2022-06-15T12:32:12.786Z"
   },
   {
    "duration": 35,
    "start_time": "2022-06-15T12:32:22.780Z"
   },
   {
    "duration": 4,
    "start_time": "2022-06-15T12:33:17.569Z"
   },
   {
    "duration": 13,
    "start_time": "2022-06-15T12:33:18.110Z"
   },
   {
    "duration": 3,
    "start_time": "2022-06-15T12:33:41.279Z"
   },
   {
    "duration": 13,
    "start_time": "2022-06-15T12:33:41.680Z"
   },
   {
    "duration": 13,
    "start_time": "2022-06-15T12:36:12.198Z"
   },
   {
    "duration": 15,
    "start_time": "2022-06-15T12:37:01.450Z"
   },
   {
    "duration": 13,
    "start_time": "2022-06-15T12:37:15.602Z"
   },
   {
    "duration": 13,
    "start_time": "2022-06-15T12:37:20.645Z"
   },
   {
    "duration": 14,
    "start_time": "2022-06-15T12:39:22.604Z"
   },
   {
    "duration": 45,
    "start_time": "2022-06-15T12:40:01.876Z"
   },
   {
    "duration": 3,
    "start_time": "2022-06-15T12:40:54.998Z"
   },
   {
    "duration": 54,
    "start_time": "2022-06-15T12:40:55.704Z"
   },
   {
    "duration": 3,
    "start_time": "2022-06-15T12:42:14.200Z"
   },
   {
    "duration": 17,
    "start_time": "2022-06-15T12:42:15.316Z"
   },
   {
    "duration": 3,
    "start_time": "2022-06-15T12:42:24.877Z"
   },
   {
    "duration": 16,
    "start_time": "2022-06-15T12:42:25.452Z"
   },
   {
    "duration": 3,
    "start_time": "2022-06-15T12:44:08.646Z"
   },
   {
    "duration": 45,
    "start_time": "2022-06-15T12:44:09.098Z"
   },
   {
    "duration": 3,
    "start_time": "2022-06-15T12:44:21.548Z"
   },
   {
    "duration": 62,
    "start_time": "2022-06-15T12:44:22.049Z"
   },
   {
    "duration": 3,
    "start_time": "2022-06-15T12:44:34.044Z"
   },
   {
    "duration": 53,
    "start_time": "2022-06-15T12:44:34.430Z"
   },
   {
    "duration": 3,
    "start_time": "2022-06-15T12:44:50.203Z"
   },
   {
    "duration": 41,
    "start_time": "2022-06-15T12:44:50.627Z"
   },
   {
    "duration": 3,
    "start_time": "2022-06-15T12:49:07.484Z"
   },
   {
    "duration": 77,
    "start_time": "2022-06-15T12:49:08.127Z"
   },
   {
    "duration": 3,
    "start_time": "2022-06-15T12:50:22.420Z"
   },
   {
    "duration": 43,
    "start_time": "2022-06-15T12:50:22.878Z"
   },
   {
    "duration": 3,
    "start_time": "2022-06-15T12:51:14.328Z"
   },
   {
    "duration": 53,
    "start_time": "2022-06-15T12:51:14.711Z"
   },
   {
    "duration": 48,
    "start_time": "2022-06-15T12:51:34.086Z"
   },
   {
    "duration": 46,
    "start_time": "2022-06-15T12:51:34.559Z"
   },
   {
    "duration": 3,
    "start_time": "2022-06-15T12:51:40.381Z"
   },
   {
    "duration": 4,
    "start_time": "2022-06-15T12:52:26.165Z"
   },
   {
    "duration": 42,
    "start_time": "2022-06-15T12:52:26.612Z"
   },
   {
    "duration": 52,
    "start_time": "2022-06-15T12:52:38.855Z"
   },
   {
    "duration": 3,
    "start_time": "2022-06-15T12:52:50.529Z"
   },
   {
    "duration": 42,
    "start_time": "2022-06-15T12:53:03.937Z"
   },
   {
    "duration": 12,
    "start_time": "2022-06-15T12:53:43.143Z"
   },
   {
    "duration": 124,
    "start_time": "2022-06-15T13:26:21.039Z"
   },
   {
    "duration": 17,
    "start_time": "2022-06-15T13:28:28.322Z"
   },
   {
    "duration": 18,
    "start_time": "2022-06-15T13:28:39.586Z"
   },
   {
    "duration": 16,
    "start_time": "2022-06-15T13:29:28.639Z"
   },
   {
    "duration": 46,
    "start_time": "2022-06-15T13:30:18.554Z"
   },
   {
    "duration": 4247,
    "start_time": "2022-06-16T06:31:21.275Z"
   },
   {
    "duration": 1937,
    "start_time": "2022-06-16T06:31:25.524Z"
   },
   {
    "duration": 23,
    "start_time": "2022-06-16T06:31:27.470Z"
   },
   {
    "duration": 13,
    "start_time": "2022-06-16T06:31:27.495Z"
   },
   {
    "duration": 15,
    "start_time": "2022-06-16T06:31:27.510Z"
   },
   {
    "duration": 64,
    "start_time": "2022-06-16T06:31:27.528Z"
   },
   {
    "duration": 13,
    "start_time": "2022-06-16T06:31:27.596Z"
   },
   {
    "duration": 90,
    "start_time": "2022-06-16T06:31:27.610Z"
   },
   {
    "duration": 47,
    "start_time": "2022-06-16T06:31:27.702Z"
   },
   {
    "duration": 31,
    "start_time": "2022-06-16T06:31:27.750Z"
   },
   {
    "duration": 78,
    "start_time": "2022-06-16T06:31:27.783Z"
   },
   {
    "duration": 142,
    "start_time": "2022-06-16T06:31:27.862Z"
   },
   {
    "duration": 108,
    "start_time": "2022-06-16T06:31:28.006Z"
   },
   {
    "duration": 242,
    "start_time": "2022-06-16T06:31:28.117Z"
   },
   {
    "duration": 185,
    "start_time": "2022-06-16T06:31:28.361Z"
   },
   {
    "duration": 20,
    "start_time": "2022-06-16T06:31:28.547Z"
   },
   {
    "duration": 17,
    "start_time": "2022-06-16T06:31:28.572Z"
   },
   {
    "duration": 37,
    "start_time": "2022-06-16T06:31:28.591Z"
   },
   {
    "duration": 37,
    "start_time": "2022-06-16T06:31:28.630Z"
   },
   {
    "duration": 19,
    "start_time": "2022-06-16T06:31:28.669Z"
   },
   {
    "duration": 11,
    "start_time": "2022-06-16T06:31:28.690Z"
   },
   {
    "duration": 41,
    "start_time": "2022-06-16T06:31:28.703Z"
   },
   {
    "duration": 10,
    "start_time": "2022-06-16T06:31:28.745Z"
   },
   {
    "duration": 3832,
    "start_time": "2022-06-16T06:31:28.757Z"
   },
   {
    "duration": 2008,
    "start_time": "2022-06-16T06:31:32.591Z"
   },
   {
    "duration": 13276,
    "start_time": "2022-06-16T06:31:34.601Z"
   },
   {
    "duration": 66,
    "start_time": "2022-06-16T06:31:47.880Z"
   },
   {
    "duration": 96,
    "start_time": "2022-06-16T06:31:47.949Z"
   },
   {
    "duration": 91,
    "start_time": "2022-06-16T06:31:48.048Z"
   },
   {
    "duration": 193,
    "start_time": "2022-06-16T06:31:48.143Z"
   },
   {
    "duration": 43,
    "start_time": "2022-06-16T06:31:48.338Z"
   },
   {
    "duration": 99,
    "start_time": "2022-06-16T06:31:48.383Z"
   },
   {
    "duration": 730,
    "start_time": "2022-06-16T06:31:48.484Z"
   },
   {
    "duration": 36,
    "start_time": "2022-06-16T06:31:49.216Z"
   },
   {
    "duration": 34,
    "start_time": "2022-06-16T06:31:49.258Z"
   },
   {
    "duration": 6,
    "start_time": "2022-06-16T06:31:49.294Z"
   },
   {
    "duration": 30,
    "start_time": "2022-06-16T06:31:49.302Z"
   },
   {
    "duration": 37,
    "start_time": "2022-06-16T06:31:49.333Z"
   },
   {
    "duration": 34,
    "start_time": "2022-06-16T06:31:49.372Z"
   },
   {
    "duration": 19,
    "start_time": "2022-06-16T06:31:49.408Z"
   },
   {
    "duration": 8,
    "start_time": "2022-06-16T06:31:49.437Z"
   },
   {
    "duration": 47,
    "start_time": "2022-06-16T06:31:49.447Z"
   },
   {
    "duration": 13,
    "start_time": "2022-06-16T06:31:49.496Z"
   },
   {
    "duration": 13,
    "start_time": "2022-06-16T06:31:49.511Z"
   },
   {
    "duration": 30,
    "start_time": "2022-06-16T06:31:49.526Z"
   },
   {
    "duration": 250,
    "start_time": "2022-06-16T06:31:49.564Z"
   },
   {
    "duration": 10,
    "start_time": "2022-06-16T06:31:49.815Z"
   },
   {
    "duration": 321,
    "start_time": "2022-06-16T06:31:49.827Z"
   },
   {
    "duration": 79,
    "start_time": "2022-06-16T06:31:50.150Z"
   },
   {
    "duration": 182,
    "start_time": "2022-06-16T06:31:50.232Z"
   },
   {
    "duration": 28,
    "start_time": "2022-06-16T06:31:50.415Z"
   },
   {
    "duration": 288,
    "start_time": "2022-06-16T06:31:50.454Z"
   },
   {
    "duration": 1108,
    "start_time": "2022-06-16T06:31:50.746Z"
   },
   {
    "duration": 5,
    "start_time": "2022-06-16T06:31:51.856Z"
   },
   {
    "duration": 202,
    "start_time": "2022-06-16T06:31:51.863Z"
   },
   {
    "duration": 168,
    "start_time": "2022-06-16T06:31:52.074Z"
   },
   {
    "duration": 23,
    "start_time": "2022-06-16T06:31:52.254Z"
   },
   {
    "duration": 223,
    "start_time": "2022-06-16T06:38:02.273Z"
   },
   {
    "duration": 31,
    "start_time": "2022-06-16T06:38:24.920Z"
   },
   {
    "duration": 37,
    "start_time": "2022-06-16T06:39:17.126Z"
   },
   {
    "duration": 25,
    "start_time": "2022-06-16T06:39:35.110Z"
   },
   {
    "duration": 23,
    "start_time": "2022-06-16T06:41:42.191Z"
   },
   {
    "duration": 34,
    "start_time": "2022-06-16T06:44:07.804Z"
   },
   {
    "duration": 27,
    "start_time": "2022-06-16T06:44:43.582Z"
   },
   {
    "duration": 41,
    "start_time": "2022-06-16T06:55:20.969Z"
   },
   {
    "duration": 26,
    "start_time": "2022-06-16T06:56:12.514Z"
   },
   {
    "duration": 26,
    "start_time": "2022-06-16T07:01:24.076Z"
   },
   {
    "duration": 21,
    "start_time": "2022-06-16T07:02:51.415Z"
   },
   {
    "duration": 22,
    "start_time": "2022-06-16T07:03:45.163Z"
   },
   {
    "duration": 41,
    "start_time": "2022-06-16T07:04:35.422Z"
   },
   {
    "duration": 39,
    "start_time": "2022-06-16T07:08:04.327Z"
   },
   {
    "duration": 27,
    "start_time": "2022-06-16T07:32:25.894Z"
   },
   {
    "duration": 23,
    "start_time": "2022-06-16T07:33:09.586Z"
   },
   {
    "duration": 37,
    "start_time": "2022-06-16T07:33:33.067Z"
   },
   {
    "duration": 73,
    "start_time": "2022-06-16T07:34:15.694Z"
   },
   {
    "duration": 39,
    "start_time": "2022-06-16T07:34:35.617Z"
   },
   {
    "duration": 33,
    "start_time": "2022-06-16T07:36:44.519Z"
   },
   {
    "duration": 27,
    "start_time": "2022-06-16T07:36:54.011Z"
   },
   {
    "duration": 24,
    "start_time": "2022-06-16T07:37:07.582Z"
   },
   {
    "duration": 23,
    "start_time": "2022-06-16T07:37:21.588Z"
   },
   {
    "duration": 28,
    "start_time": "2022-06-16T07:37:54.094Z"
   },
   {
    "duration": 31,
    "start_time": "2022-06-16T07:38:05.882Z"
   },
   {
    "duration": 25,
    "start_time": "2022-06-16T07:38:16.595Z"
   },
   {
    "duration": 2881,
    "start_time": "2022-06-16T07:39:02.691Z"
   },
   {
    "duration": 2384,
    "start_time": "2022-06-16T07:39:05.575Z"
   },
   {
    "duration": 22,
    "start_time": "2022-06-16T07:39:07.964Z"
   },
   {
    "duration": 21,
    "start_time": "2022-06-16T07:39:08.001Z"
   },
   {
    "duration": 44,
    "start_time": "2022-06-16T07:39:08.025Z"
   },
   {
    "duration": 49,
    "start_time": "2022-06-16T07:39:08.077Z"
   },
   {
    "duration": 66,
    "start_time": "2022-06-16T07:39:08.138Z"
   },
   {
    "duration": 133,
    "start_time": "2022-06-16T07:39:08.208Z"
   },
   {
    "duration": 36,
    "start_time": "2022-06-16T07:39:08.344Z"
   },
   {
    "duration": 58,
    "start_time": "2022-06-16T07:39:08.381Z"
   },
   {
    "duration": 102,
    "start_time": "2022-06-16T07:39:08.441Z"
   },
   {
    "duration": 166,
    "start_time": "2022-06-16T07:39:08.547Z"
   },
   {
    "duration": 121,
    "start_time": "2022-06-16T07:39:08.715Z"
   },
   {
    "duration": 344,
    "start_time": "2022-06-16T07:39:08.843Z"
   },
   {
    "duration": 193,
    "start_time": "2022-06-16T07:39:09.188Z"
   },
   {
    "duration": 14,
    "start_time": "2022-06-16T07:39:09.383Z"
   },
   {
    "duration": 39,
    "start_time": "2022-06-16T07:39:09.401Z"
   },
   {
    "duration": 74,
    "start_time": "2022-06-16T07:39:09.442Z"
   },
   {
    "duration": 49,
    "start_time": "2022-06-16T07:39:09.518Z"
   },
   {
    "duration": 16,
    "start_time": "2022-06-16T07:39:09.574Z"
   },
   {
    "duration": 20,
    "start_time": "2022-06-16T07:39:09.594Z"
   },
   {
    "duration": 42,
    "start_time": "2022-06-16T07:39:09.615Z"
   },
   {
    "duration": 22,
    "start_time": "2022-06-16T07:39:09.659Z"
   },
   {
    "duration": 87,
    "start_time": "2022-06-16T07:39:09.685Z"
   },
   {
    "duration": 2050,
    "start_time": "2022-06-16T07:39:09.774Z"
   },
   {
    "duration": 15180,
    "start_time": "2022-06-16T07:39:11.825Z"
   },
   {
    "duration": 37,
    "start_time": "2022-06-16T07:39:27.007Z"
   },
   {
    "duration": 144,
    "start_time": "2022-06-16T07:39:27.046Z"
   },
   {
    "duration": 87,
    "start_time": "2022-06-16T07:39:27.192Z"
   },
   {
    "duration": 200,
    "start_time": "2022-06-16T07:39:27.281Z"
   },
   {
    "duration": 77,
    "start_time": "2022-06-16T07:39:27.483Z"
   },
   {
    "duration": 121,
    "start_time": "2022-06-16T07:39:27.561Z"
   },
   {
    "duration": 114,
    "start_time": "2022-06-16T07:39:27.684Z"
   },
   {
    "duration": 125,
    "start_time": "2022-06-16T07:39:27.803Z"
   },
   {
    "duration": 84,
    "start_time": "2022-06-16T07:39:27.930Z"
   },
   {
    "duration": 43,
    "start_time": "2022-06-16T07:39:28.016Z"
   },
   {
    "duration": 71,
    "start_time": "2022-06-16T07:39:28.061Z"
   },
   {
    "duration": 32,
    "start_time": "2022-06-16T07:39:28.138Z"
   },
   {
    "duration": 49,
    "start_time": "2022-06-16T07:39:28.172Z"
   },
   {
    "duration": 56,
    "start_time": "2022-06-16T07:39:28.223Z"
   },
   {
    "duration": 32,
    "start_time": "2022-06-16T07:39:28.285Z"
   },
   {
    "duration": 90,
    "start_time": "2022-06-16T07:39:28.320Z"
   },
   {
    "duration": 29,
    "start_time": "2022-06-16T07:39:28.412Z"
   },
   {
    "duration": 63,
    "start_time": "2022-06-16T07:39:28.447Z"
   },
   {
    "duration": 80,
    "start_time": "2022-06-16T07:39:28.512Z"
   },
   {
    "duration": 259,
    "start_time": "2022-06-16T07:39:28.593Z"
   },
   {
    "duration": 18,
    "start_time": "2022-06-16T07:39:28.857Z"
   },
   {
    "duration": 519,
    "start_time": "2022-06-16T07:39:28.876Z"
   },
   {
    "duration": 75,
    "start_time": "2022-06-16T07:39:29.401Z"
   },
   {
    "duration": 330,
    "start_time": "2022-06-16T07:39:29.481Z"
   },
   {
    "duration": 44,
    "start_time": "2022-06-16T07:39:29.813Z"
   },
   {
    "duration": 340,
    "start_time": "2022-06-16T07:39:29.863Z"
   },
   {
    "duration": 1080,
    "start_time": "2022-06-16T07:39:30.205Z"
   },
   {
    "duration": 5,
    "start_time": "2022-06-16T07:39:31.287Z"
   },
   {
    "duration": 132,
    "start_time": "2022-06-16T07:39:31.293Z"
   },
   {
    "duration": 175,
    "start_time": "2022-06-16T07:39:31.435Z"
   },
   {
    "duration": 27,
    "start_time": "2022-06-16T07:39:31.612Z"
   },
   {
    "duration": 78,
    "start_time": "2022-06-16T07:39:31.644Z"
   },
   {
    "duration": 43,
    "start_time": "2022-06-16T07:40:39.982Z"
   },
   {
    "duration": 61,
    "start_time": "2022-06-16T07:40:58.359Z"
   },
   {
    "duration": 54,
    "start_time": "2022-06-16T07:43:18.970Z"
   },
   {
    "duration": 124,
    "start_time": "2022-06-16T07:45:13.007Z"
   },
   {
    "duration": 34,
    "start_time": "2022-06-16T07:48:39.599Z"
   },
   {
    "duration": 22,
    "start_time": "2022-06-16T07:50:39.794Z"
   },
   {
    "duration": 20,
    "start_time": "2022-06-16T07:52:00.894Z"
   },
   {
    "duration": 36,
    "start_time": "2022-06-16T07:53:06.264Z"
   },
   {
    "duration": 24,
    "start_time": "2022-06-16T07:54:43.968Z"
   },
   {
    "duration": 28,
    "start_time": "2022-06-16T08:07:42.166Z"
   },
   {
    "duration": 7,
    "start_time": "2022-06-16T08:17:56.913Z"
   },
   {
    "duration": 377,
    "start_time": "2022-06-16T08:18:44.218Z"
   },
   {
    "duration": 17,
    "start_time": "2022-06-16T08:19:09.747Z"
   },
   {
    "duration": 29,
    "start_time": "2022-06-16T08:19:13.599Z"
   },
   {
    "duration": 6,
    "start_time": "2022-06-16T08:19:37.982Z"
   },
   {
    "duration": 524,
    "start_time": "2022-06-16T08:19:38.476Z"
   },
   {
    "duration": 5,
    "start_time": "2022-06-16T08:21:05.858Z"
   },
   {
    "duration": 508,
    "start_time": "2022-06-16T08:21:06.477Z"
   },
   {
    "duration": 8,
    "start_time": "2022-06-16T08:22:23.398Z"
   },
   {
    "duration": 5,
    "start_time": "2022-06-16T08:23:10.122Z"
   },
   {
    "duration": 15,
    "start_time": "2022-06-16T08:23:10.549Z"
   },
   {
    "duration": 7,
    "start_time": "2022-06-16T08:27:13.428Z"
   },
   {
    "duration": 13,
    "start_time": "2022-06-16T08:27:13.944Z"
   },
   {
    "duration": 12,
    "start_time": "2022-06-16T08:27:14.483Z"
   },
   {
    "duration": 10551,
    "start_time": "2022-06-16T08:44:47.612Z"
   },
   {
    "duration": 2607,
    "start_time": "2022-06-16T08:48:00.078Z"
   },
   {
    "duration": 607,
    "start_time": "2022-06-16T08:48:02.688Z"
   },
   {
    "duration": 13,
    "start_time": "2022-06-16T08:48:03.297Z"
   },
   {
    "duration": 17,
    "start_time": "2022-06-16T08:48:03.313Z"
   },
   {
    "duration": 23,
    "start_time": "2022-06-16T08:48:03.332Z"
   },
   {
    "duration": 20,
    "start_time": "2022-06-16T08:48:03.356Z"
   },
   {
    "duration": 12,
    "start_time": "2022-06-16T08:48:03.377Z"
   },
   {
    "duration": 87,
    "start_time": "2022-06-16T08:48:03.391Z"
   },
   {
    "duration": 26,
    "start_time": "2022-06-16T08:48:03.479Z"
   },
   {
    "duration": 34,
    "start_time": "2022-06-16T08:48:03.508Z"
   },
   {
    "duration": 57,
    "start_time": "2022-06-16T08:48:03.547Z"
   },
   {
    "duration": 139,
    "start_time": "2022-06-16T08:48:03.606Z"
   },
   {
    "duration": 68,
    "start_time": "2022-06-16T08:48:03.747Z"
   },
   {
    "duration": 230,
    "start_time": "2022-06-16T08:48:03.817Z"
   },
   {
    "duration": 159,
    "start_time": "2022-06-16T08:48:04.049Z"
   },
   {
    "duration": 19,
    "start_time": "2022-06-16T08:48:04.210Z"
   },
   {
    "duration": 24,
    "start_time": "2022-06-16T08:48:04.231Z"
   },
   {
    "duration": 25,
    "start_time": "2022-06-16T08:48:04.257Z"
   },
   {
    "duration": 22,
    "start_time": "2022-06-16T08:48:04.284Z"
   },
   {
    "duration": 7,
    "start_time": "2022-06-16T08:48:04.308Z"
   },
   {
    "duration": 23,
    "start_time": "2022-06-16T08:48:04.316Z"
   },
   {
    "duration": 30,
    "start_time": "2022-06-16T08:48:04.346Z"
   },
   {
    "duration": 8,
    "start_time": "2022-06-16T08:48:04.378Z"
   },
   {
    "duration": 72,
    "start_time": "2022-06-16T08:48:04.388Z"
   },
   {
    "duration": 1378,
    "start_time": "2022-06-16T08:48:04.462Z"
   },
   {
    "duration": 1387,
    "start_time": "2022-06-16T08:48:38.908Z"
   },
   {
    "duration": 1531,
    "start_time": "2022-06-16T08:49:08.324Z"
   },
   {
    "duration": 10563,
    "start_time": "2022-06-16T08:50:19.679Z"
   },
   {
    "duration": 61,
    "start_time": "2022-06-16T08:51:11.392Z"
   },
   {
    "duration": 7,
    "start_time": "2022-06-16T09:03:01.705Z"
   },
   {
    "duration": 200,
    "start_time": "2022-06-16T09:09:20.434Z"
   },
   {
    "duration": 5,
    "start_time": "2022-06-16T09:10:01.884Z"
   },
   {
    "duration": 4,
    "start_time": "2022-06-16T09:11:09.720Z"
   },
   {
    "duration": 4,
    "start_time": "2022-06-16T09:11:17.161Z"
   },
   {
    "duration": 4,
    "start_time": "2022-06-16T09:11:39.111Z"
   },
   {
    "duration": 170,
    "start_time": "2022-06-16T09:11:57.499Z"
   },
   {
    "duration": 13,
    "start_time": "2022-06-16T09:43:37.676Z"
   },
   {
    "duration": 10,
    "start_time": "2022-06-16T09:44:16.949Z"
   },
   {
    "duration": 13,
    "start_time": "2022-06-16T09:44:18.477Z"
   },
   {
    "duration": 10,
    "start_time": "2022-06-16T09:46:54.480Z"
   },
   {
    "duration": 12,
    "start_time": "2022-06-16T09:47:49.873Z"
   },
   {
    "duration": 891,
    "start_time": "2022-06-16T09:52:15.555Z"
   },
   {
    "duration": 785,
    "start_time": "2022-06-16T09:52:59.956Z"
   },
   {
    "duration": 5,
    "start_time": "2022-06-16T09:53:06.962Z"
   },
   {
    "duration": 4,
    "start_time": "2022-06-16T10:01:41.733Z"
   },
   {
    "duration": 4,
    "start_time": "2022-06-16T10:04:50.504Z"
   },
   {
    "duration": 5,
    "start_time": "2022-06-16T10:05:48.993Z"
   },
   {
    "duration": 3,
    "start_time": "2022-06-16T10:05:58.595Z"
   },
   {
    "duration": 4,
    "start_time": "2022-06-16T10:34:15.252Z"
   },
   {
    "duration": 19,
    "start_time": "2022-06-16T10:38:53.163Z"
   },
   {
    "duration": 15,
    "start_time": "2022-06-16T10:39:11.111Z"
   },
   {
    "duration": 12,
    "start_time": "2022-06-16T10:40:08.666Z"
   },
   {
    "duration": 77,
    "start_time": "2022-06-16T10:42:33.445Z"
   },
   {
    "duration": 72,
    "start_time": "2022-06-16T10:42:58.748Z"
   },
   {
    "duration": 82,
    "start_time": "2022-06-16T10:43:07.266Z"
   },
   {
    "duration": 18,
    "start_time": "2022-06-16T10:46:52.343Z"
   },
   {
    "duration": 21,
    "start_time": "2022-06-16T10:47:15.972Z"
   },
   {
    "duration": 20,
    "start_time": "2022-06-16T10:48:17.940Z"
   },
   {
    "duration": 32,
    "start_time": "2022-06-16T10:49:53.596Z"
   },
   {
    "duration": 12,
    "start_time": "2022-06-16T10:55:40.168Z"
   },
   {
    "duration": 5,
    "start_time": "2022-06-16T11:11:36.880Z"
   },
   {
    "duration": 10,
    "start_time": "2022-06-16T11:11:42.980Z"
   },
   {
    "duration": 17,
    "start_time": "2022-06-16T11:14:25.306Z"
   },
   {
    "duration": 4,
    "start_time": "2022-06-16T11:22:37.820Z"
   },
   {
    "duration": 4,
    "start_time": "2022-06-16T11:23:58.869Z"
   },
   {
    "duration": 23,
    "start_time": "2022-06-16T11:24:56.987Z"
   },
   {
    "duration": 7,
    "start_time": "2022-06-16T11:29:48.757Z"
   },
   {
    "duration": 456,
    "start_time": "2022-06-16T11:29:50.065Z"
   },
   {
    "duration": 4,
    "start_time": "2022-06-16T11:30:05.010Z"
   },
   {
    "duration": 5,
    "start_time": "2022-06-16T11:30:14.822Z"
   },
   {
    "duration": 439,
    "start_time": "2022-06-16T11:30:15.269Z"
   },
   {
    "duration": 14,
    "start_time": "2022-06-16T11:30:44.492Z"
   },
   {
    "duration": 535,
    "start_time": "2022-06-16T11:38:10.660Z"
   },
   {
    "duration": 7,
    "start_time": "2022-06-16T11:39:57.239Z"
   },
   {
    "duration": 6,
    "start_time": "2022-06-16T11:42:56.638Z"
   },
   {
    "duration": 374,
    "start_time": "2022-06-16T11:44:12.896Z"
   },
   {
    "duration": 5,
    "start_time": "2022-06-16T11:44:26.990Z"
   },
   {
    "duration": 336,
    "start_time": "2022-06-16T11:44:28.576Z"
   },
   {
    "duration": 5,
    "start_time": "2022-06-16T11:46:05.406Z"
   },
   {
    "duration": 510,
    "start_time": "2022-06-16T11:46:06.099Z"
   },
   {
    "duration": 475,
    "start_time": "2022-06-16T11:47:12.398Z"
   },
   {
    "duration": 11,
    "start_time": "2022-06-16T11:48:07.070Z"
   },
   {
    "duration": 11,
    "start_time": "2022-06-16T11:54:37.539Z"
   },
   {
    "duration": 18,
    "start_time": "2022-06-16T11:56:29.444Z"
   },
   {
    "duration": 4,
    "start_time": "2022-06-16T11:57:33.766Z"
   },
   {
    "duration": 39,
    "start_time": "2022-06-16T11:57:34.364Z"
   },
   {
    "duration": 3,
    "start_time": "2022-06-16T11:59:30.062Z"
   },
   {
    "duration": 4,
    "start_time": "2022-06-16T12:00:18.054Z"
   },
   {
    "duration": 38,
    "start_time": "2022-06-16T12:00:28.664Z"
   },
   {
    "duration": 6,
    "start_time": "2022-06-16T12:04:17.749Z"
   },
   {
    "duration": 5,
    "start_time": "2022-06-16T12:04:44.064Z"
   },
   {
    "duration": 6,
    "start_time": "2022-06-16T12:04:48.948Z"
   },
   {
    "duration": 8,
    "start_time": "2022-06-16T12:06:56.459Z"
   },
   {
    "duration": 7,
    "start_time": "2022-06-16T12:07:44.784Z"
   },
   {
    "duration": 6,
    "start_time": "2022-06-16T12:08:19.768Z"
   },
   {
    "duration": 808,
    "start_time": "2022-06-16T12:22:49.447Z"
   },
   {
    "duration": 849,
    "start_time": "2022-06-16T12:23:04.000Z"
   },
   {
    "duration": 7,
    "start_time": "2022-06-16T12:23:04.851Z"
   },
   {
    "duration": 99,
    "start_time": "2022-06-16T12:23:04.860Z"
   },
   {
    "duration": 35,
    "start_time": "2022-06-16T12:23:04.961Z"
   },
   {
    "duration": 3,
    "start_time": "2022-06-16T12:23:04.998Z"
   },
   {
    "duration": 24,
    "start_time": "2022-06-16T12:23:05.003Z"
   },
   {
    "duration": 4,
    "start_time": "2022-06-16T12:23:05.029Z"
   },
   {
    "duration": 36,
    "start_time": "2022-06-16T12:23:05.035Z"
   },
   {
    "duration": 869,
    "start_time": "2022-06-16T12:24:16.172Z"
   },
   {
    "duration": 807,
    "start_time": "2022-06-16T12:24:22.597Z"
   },
   {
    "duration": 5,
    "start_time": "2022-06-16T12:24:23.406Z"
   },
   {
    "duration": 88,
    "start_time": "2022-06-16T12:24:23.413Z"
   },
   {
    "duration": 33,
    "start_time": "2022-06-16T12:24:23.503Z"
   },
   {
    "duration": 4,
    "start_time": "2022-06-16T12:24:23.537Z"
   },
   {
    "duration": 19,
    "start_time": "2022-06-16T12:24:23.543Z"
   },
   {
    "duration": 18,
    "start_time": "2022-06-16T12:24:23.564Z"
   },
   {
    "duration": 57,
    "start_time": "2022-06-16T12:24:23.583Z"
   },
   {
    "duration": 39,
    "start_time": "2022-06-16T12:27:00.149Z"
   },
   {
    "duration": 820,
    "start_time": "2022-06-16T12:29:39.435Z"
   },
   {
    "duration": 4,
    "start_time": "2022-06-16T12:29:40.257Z"
   },
   {
    "duration": 80,
    "start_time": "2022-06-16T12:29:40.263Z"
   },
   {
    "duration": 31,
    "start_time": "2022-06-16T12:29:40.345Z"
   },
   {
    "duration": 4,
    "start_time": "2022-06-16T12:29:40.378Z"
   },
   {
    "duration": 12,
    "start_time": "2022-06-16T12:29:40.384Z"
   },
   {
    "duration": 7,
    "start_time": "2022-06-16T12:29:40.397Z"
   },
   {
    "duration": 51,
    "start_time": "2022-06-16T12:29:40.407Z"
   },
   {
    "duration": 52,
    "start_time": "2022-06-16T12:36:54.637Z"
   },
   {
    "duration": 26,
    "start_time": "2022-06-16T12:38:53.299Z"
   },
   {
    "duration": 23,
    "start_time": "2022-06-16T12:39:18.761Z"
   },
   {
    "duration": 37,
    "start_time": "2022-06-16T12:39:55.394Z"
   },
   {
    "duration": 33,
    "start_time": "2022-06-16T12:40:15.889Z"
   },
   {
    "duration": 31,
    "start_time": "2022-06-16T12:40:36.865Z"
   },
   {
    "duration": 31,
    "start_time": "2022-06-16T12:41:41.272Z"
   },
   {
    "duration": 4,
    "start_time": "2022-06-16T12:44:54.773Z"
   },
   {
    "duration": 44,
    "start_time": "2022-06-16T12:45:49.082Z"
   },
   {
    "duration": 51,
    "start_time": "2022-06-16T12:51:13.254Z"
   },
   {
    "duration": 33,
    "start_time": "2022-06-16T12:51:48.610Z"
   },
   {
    "duration": 5,
    "start_time": "2022-06-16T12:58:06.592Z"
   },
   {
    "duration": 41,
    "start_time": "2022-06-16T12:59:40.439Z"
   },
   {
    "duration": 4,
    "start_time": "2022-06-16T13:01:28.511Z"
   },
   {
    "duration": 4,
    "start_time": "2022-06-16T13:01:45.895Z"
   },
   {
    "duration": 32,
    "start_time": "2022-06-16T13:01:46.497Z"
   },
   {
    "duration": 3,
    "start_time": "2022-06-16T13:02:09.457Z"
   },
   {
    "duration": 38,
    "start_time": "2022-06-16T13:02:09.464Z"
   },
   {
    "duration": 80,
    "start_time": "2022-06-16T13:02:09.505Z"
   },
   {
    "duration": 33,
    "start_time": "2022-06-16T13:02:09.586Z"
   },
   {
    "duration": 6,
    "start_time": "2022-06-16T13:02:09.621Z"
   },
   {
    "duration": 54,
    "start_time": "2022-06-16T13:02:09.628Z"
   },
   {
    "duration": 35,
    "start_time": "2022-06-16T13:04:06.637Z"
   },
   {
    "duration": 9,
    "start_time": "2022-06-16T13:10:38.323Z"
   },
   {
    "duration": 13,
    "start_time": "2022-06-16T13:11:32.659Z"
   },
   {
    "duration": 8,
    "start_time": "2022-06-16T13:15:30.835Z"
   },
   {
    "duration": 42,
    "start_time": "2022-06-16T13:16:38.351Z"
   },
   {
    "duration": 20,
    "start_time": "2022-06-16T13:17:11.089Z"
   },
   {
    "duration": 12,
    "start_time": "2022-06-16T13:19:33.099Z"
   },
   {
    "duration": 15,
    "start_time": "2022-06-16T13:19:58.884Z"
   },
   {
    "duration": 9,
    "start_time": "2022-06-16T13:20:14.745Z"
   },
   {
    "duration": 4,
    "start_time": "2022-06-16T14:23:09.453Z"
   },
   {
    "duration": 21,
    "start_time": "2022-06-16T15:17:27.219Z"
   },
   {
    "duration": 62,
    "start_time": "2022-06-16T18:04:14.108Z"
   },
   {
    "duration": 3352,
    "start_time": "2022-06-16T18:04:37.068Z"
   },
   {
    "duration": 1795,
    "start_time": "2022-06-16T18:04:44.419Z"
   },
   {
    "duration": 1871,
    "start_time": "2022-06-16T18:06:36.073Z"
   },
   {
    "duration": 581,
    "start_time": "2022-06-16T18:06:37.946Z"
   },
   {
    "duration": 23,
    "start_time": "2022-06-16T18:06:38.528Z"
   },
   {
    "duration": 18,
    "start_time": "2022-06-16T18:06:38.553Z"
   },
   {
    "duration": 13,
    "start_time": "2022-06-16T18:06:38.573Z"
   },
   {
    "duration": 22,
    "start_time": "2022-06-16T18:06:38.587Z"
   },
   {
    "duration": 27,
    "start_time": "2022-06-16T18:06:38.611Z"
   },
   {
    "duration": 77,
    "start_time": "2022-06-16T18:06:38.640Z"
   },
   {
    "duration": 28,
    "start_time": "2022-06-16T18:06:38.719Z"
   },
   {
    "duration": 26,
    "start_time": "2022-06-16T18:06:38.751Z"
   },
   {
    "duration": 59,
    "start_time": "2022-06-16T18:06:38.779Z"
   },
   {
    "duration": 128,
    "start_time": "2022-06-16T18:06:38.840Z"
   },
   {
    "duration": 70,
    "start_time": "2022-06-16T18:06:38.969Z"
   },
   {
    "duration": 185,
    "start_time": "2022-06-16T18:06:39.041Z"
   },
   {
    "duration": 167,
    "start_time": "2022-06-16T18:06:39.228Z"
   },
   {
    "duration": 12,
    "start_time": "2022-06-16T18:06:39.397Z"
   },
   {
    "duration": 31,
    "start_time": "2022-06-16T18:06:39.411Z"
   },
   {
    "duration": 25,
    "start_time": "2022-06-16T18:06:39.444Z"
   },
   {
    "duration": 20,
    "start_time": "2022-06-16T18:06:39.471Z"
   },
   {
    "duration": 7,
    "start_time": "2022-06-16T18:06:39.492Z"
   },
   {
    "duration": 10,
    "start_time": "2022-06-16T18:06:39.500Z"
   },
   {
    "duration": 42,
    "start_time": "2022-06-16T18:06:39.512Z"
   },
   {
    "duration": 11,
    "start_time": "2022-06-16T18:06:39.556Z"
   },
   {
    "duration": 380,
    "start_time": "2022-06-16T18:06:39.569Z"
   },
   {
    "duration": 1389,
    "start_time": "2022-06-16T18:06:39.951Z"
   },
   {
    "duration": 9961,
    "start_time": "2022-06-16T18:06:41.345Z"
   },
   {
    "duration": 36,
    "start_time": "2022-06-16T18:06:51.308Z"
   },
   {
    "duration": 80,
    "start_time": "2022-06-16T18:06:51.357Z"
   },
   {
    "duration": 19,
    "start_time": "2022-06-16T18:06:51.447Z"
   },
   {
    "duration": 85,
    "start_time": "2022-06-16T18:06:51.467Z"
   },
   {
    "duration": 81,
    "start_time": "2022-06-16T18:06:51.554Z"
   },
   {
    "duration": 31,
    "start_time": "2022-06-16T18:06:51.639Z"
   },
   {
    "duration": 703,
    "start_time": "2022-06-16T18:06:51.672Z"
   },
   {
    "duration": 15,
    "start_time": "2022-06-16T18:06:52.378Z"
   },
   {
    "duration": 40,
    "start_time": "2022-06-16T18:06:52.395Z"
   },
   {
    "duration": 9,
    "start_time": "2022-06-16T18:06:52.440Z"
   },
   {
    "duration": 20,
    "start_time": "2022-06-16T18:06:52.451Z"
   },
   {
    "duration": 13,
    "start_time": "2022-06-16T18:06:52.472Z"
   },
   {
    "duration": 19,
    "start_time": "2022-06-16T18:06:52.487Z"
   },
   {
    "duration": 14,
    "start_time": "2022-06-16T18:06:52.507Z"
   },
   {
    "duration": 3,
    "start_time": "2022-06-16T18:06:52.522Z"
   },
   {
    "duration": 34,
    "start_time": "2022-06-16T18:06:52.529Z"
   },
   {
    "duration": 12,
    "start_time": "2022-06-16T18:06:52.564Z"
   },
   {
    "duration": 11,
    "start_time": "2022-06-16T18:06:52.577Z"
   },
   {
    "duration": 10,
    "start_time": "2022-06-16T18:06:52.589Z"
   },
   {
    "duration": 126,
    "start_time": "2022-06-16T18:06:52.600Z"
   },
   {
    "duration": 23,
    "start_time": "2022-06-16T18:06:52.727Z"
   },
   {
    "duration": 217,
    "start_time": "2022-06-16T18:06:52.753Z"
   },
   {
    "duration": 29,
    "start_time": "2022-06-16T18:06:52.972Z"
   },
   {
    "duration": 130,
    "start_time": "2022-06-16T18:06:53.029Z"
   },
   {
    "duration": 15,
    "start_time": "2022-06-16T18:06:53.160Z"
   },
   {
    "duration": 192,
    "start_time": "2022-06-16T18:06:53.176Z"
   },
   {
    "duration": 883,
    "start_time": "2022-06-16T18:06:53.370Z"
   },
   {
    "duration": 3,
    "start_time": "2022-06-16T18:06:54.255Z"
   },
   {
    "duration": 101,
    "start_time": "2022-06-16T18:06:54.260Z"
   },
   {
    "duration": 95,
    "start_time": "2022-06-16T18:06:54.362Z"
   },
   {
    "duration": 14,
    "start_time": "2022-06-16T18:06:54.459Z"
   },
   {
    "duration": 11,
    "start_time": "2022-06-16T18:10:05.611Z"
   },
   {
    "duration": 17,
    "start_time": "2022-06-16T18:12:00.392Z"
   },
   {
    "duration": 4,
    "start_time": "2022-06-16T18:13:07.625Z"
   },
   {
    "duration": 3622,
    "start_time": "2022-06-19T06:13:31.949Z"
   },
   {
    "duration": 1328,
    "start_time": "2022-06-19T06:13:35.573Z"
   },
   {
    "duration": 17,
    "start_time": "2022-06-19T06:13:36.903Z"
   },
   {
    "duration": 15,
    "start_time": "2022-06-19T06:13:36.922Z"
   },
   {
    "duration": 15,
    "start_time": "2022-06-19T06:13:36.940Z"
   },
   {
    "duration": 30,
    "start_time": "2022-06-19T06:13:36.957Z"
   },
   {
    "duration": 18,
    "start_time": "2022-06-19T06:13:36.990Z"
   },
   {
    "duration": 109,
    "start_time": "2022-06-19T06:13:37.011Z"
   },
   {
    "duration": 48,
    "start_time": "2022-06-19T06:13:37.123Z"
   },
   {
    "duration": 28,
    "start_time": "2022-06-19T06:13:37.173Z"
   },
   {
    "duration": 94,
    "start_time": "2022-06-19T06:13:37.203Z"
   },
   {
    "duration": 140,
    "start_time": "2022-06-19T06:13:37.299Z"
   },
   {
    "duration": 84,
    "start_time": "2022-06-19T06:13:37.441Z"
   },
   {
    "duration": 215,
    "start_time": "2022-06-19T06:13:37.528Z"
   },
   {
    "duration": 169,
    "start_time": "2022-06-19T06:13:37.745Z"
   },
   {
    "duration": 12,
    "start_time": "2022-06-19T06:13:37.915Z"
   },
   {
    "duration": 14,
    "start_time": "2022-06-19T06:13:37.928Z"
   },
   {
    "duration": 35,
    "start_time": "2022-06-19T06:13:37.943Z"
   },
   {
    "duration": 35,
    "start_time": "2022-06-19T06:13:37.981Z"
   },
   {
    "duration": 8,
    "start_time": "2022-06-19T06:13:38.017Z"
   },
   {
    "duration": 39,
    "start_time": "2022-06-19T06:13:38.027Z"
   },
   {
    "duration": 20,
    "start_time": "2022-06-19T06:13:38.068Z"
   },
   {
    "duration": 8,
    "start_time": "2022-06-19T06:13:38.090Z"
   },
   {
    "duration": 424,
    "start_time": "2022-06-19T06:13:38.100Z"
   },
   {
    "duration": 1401,
    "start_time": "2022-06-19T06:13:38.526Z"
   },
   {
    "duration": 10038,
    "start_time": "2022-06-19T06:13:39.929Z"
   },
   {
    "duration": 24,
    "start_time": "2022-06-19T06:13:49.969Z"
   },
   {
    "duration": 83,
    "start_time": "2022-06-19T06:13:49.999Z"
   },
   {
    "duration": 77,
    "start_time": "2022-06-19T06:13:50.084Z"
   },
   {
    "duration": 108,
    "start_time": "2022-06-19T06:13:50.164Z"
   },
   {
    "duration": 85,
    "start_time": "2022-06-19T06:13:50.274Z"
   },
   {
    "duration": 102,
    "start_time": "2022-06-19T06:13:50.362Z"
   },
   {
    "duration": 761,
    "start_time": "2022-06-19T06:13:50.467Z"
   },
   {
    "duration": 30,
    "start_time": "2022-06-19T06:13:51.230Z"
   },
   {
    "duration": 14,
    "start_time": "2022-06-19T06:13:51.261Z"
   },
   {
    "duration": 5,
    "start_time": "2022-06-19T06:13:51.277Z"
   },
   {
    "duration": 17,
    "start_time": "2022-06-19T06:13:51.284Z"
   },
   {
    "duration": 21,
    "start_time": "2022-06-19T06:13:51.303Z"
   },
   {
    "duration": 32,
    "start_time": "2022-06-19T06:13:51.360Z"
   },
   {
    "duration": 28,
    "start_time": "2022-06-19T06:13:51.395Z"
   },
   {
    "duration": 4,
    "start_time": "2022-06-19T06:13:51.428Z"
   },
   {
    "duration": 41,
    "start_time": "2022-06-19T06:13:51.433Z"
   },
   {
    "duration": 14,
    "start_time": "2022-06-19T06:13:51.476Z"
   },
   {
    "duration": 14,
    "start_time": "2022-06-19T06:13:51.492Z"
   },
   {
    "duration": 14,
    "start_time": "2022-06-19T06:13:51.507Z"
   },
   {
    "duration": 199,
    "start_time": "2022-06-19T06:13:51.522Z"
   },
   {
    "duration": 9,
    "start_time": "2022-06-19T06:13:51.723Z"
   },
   {
    "duration": 289,
    "start_time": "2022-06-19T06:13:51.735Z"
   },
   {
    "duration": 70,
    "start_time": "2022-06-19T06:13:52.026Z"
   },
   {
    "duration": 216,
    "start_time": "2022-06-19T06:13:52.098Z"
   },
   {
    "duration": 16,
    "start_time": "2022-06-19T06:13:52.316Z"
   },
   {
    "duration": 225,
    "start_time": "2022-06-19T06:13:52.334Z"
   },
   {
    "duration": 917,
    "start_time": "2022-06-19T06:13:52.560Z"
   },
   {
    "duration": 4,
    "start_time": "2022-06-19T06:13:53.479Z"
   },
   {
    "duration": 90,
    "start_time": "2022-06-19T06:13:53.485Z"
   },
   {
    "duration": 108,
    "start_time": "2022-06-19T06:13:53.577Z"
   },
   {
    "duration": 17,
    "start_time": "2022-06-19T06:13:53.686Z"
   },
   {
    "duration": 29,
    "start_time": "2022-06-19T06:13:53.705Z"
   },
   {
    "duration": 5,
    "start_time": "2022-06-19T06:13:53.759Z"
   },
   {
    "duration": 21,
    "start_time": "2022-06-19T06:13:53.765Z"
   },
   {
    "duration": 16,
    "start_time": "2022-06-19T06:13:53.788Z"
   },
   {
    "duration": 10,
    "start_time": "2022-06-19T06:13:53.806Z"
   },
   {
    "duration": 41,
    "start_time": "2022-06-19T06:13:53.818Z"
   },
   {
    "duration": 20,
    "start_time": "2022-06-19T06:13:53.862Z"
   },
   {
    "duration": 786,
    "start_time": "2022-06-19T06:13:53.883Z"
   },
   {
    "duration": 5,
    "start_time": "2022-06-19T06:13:54.671Z"
   },
   {
    "duration": 82,
    "start_time": "2022-06-19T06:13:54.677Z"
   },
   {
    "duration": 32,
    "start_time": "2022-06-19T06:13:54.760Z"
   },
   {
    "duration": 4,
    "start_time": "2022-06-19T06:13:54.794Z"
   },
   {
    "duration": 9,
    "start_time": "2022-06-19T06:13:54.799Z"
   },
   {
    "duration": 7,
    "start_time": "2022-06-19T06:13:54.810Z"
   },
   {
    "duration": 51,
    "start_time": "2022-06-19T06:13:54.818Z"
   },
   {
    "duration": 32,
    "start_time": "2022-06-19T06:13:54.870Z"
   },
   {
    "duration": 5,
    "start_time": "2022-06-19T06:13:54.903Z"
   },
   {
    "duration": 63,
    "start_time": "2022-06-19T06:13:54.909Z"
   },
   {
    "duration": 47,
    "start_time": "2022-06-19T06:13:54.974Z"
   },
   {
    "duration": 14,
    "start_time": "2022-06-19T06:32:48.213Z"
   },
   {
    "duration": 337,
    "start_time": "2022-06-19T06:33:04.352Z"
   },
   {
    "duration": 202,
    "start_time": "2022-06-19T06:38:41.171Z"
   },
   {
    "duration": 375,
    "start_time": "2022-06-19T06:40:13.862Z"
   },
   {
    "duration": 1083,
    "start_time": "2022-06-19T06:45:55.163Z"
   },
   {
    "duration": 552,
    "start_time": "2022-06-19T06:46:21.307Z"
   },
   {
    "duration": 2943,
    "start_time": "2022-06-19T06:57:11.174Z"
   },
   {
    "duration": 784,
    "start_time": "2022-06-19T06:57:14.120Z"
   },
   {
    "duration": 14,
    "start_time": "2022-06-19T06:57:14.906Z"
   },
   {
    "duration": 14,
    "start_time": "2022-06-19T06:57:14.924Z"
   },
   {
    "duration": 27,
    "start_time": "2022-06-19T06:57:14.940Z"
   },
   {
    "duration": 30,
    "start_time": "2022-06-19T06:57:14.970Z"
   },
   {
    "duration": 19,
    "start_time": "2022-06-19T06:57:15.004Z"
   },
   {
    "duration": 142,
    "start_time": "2022-06-19T06:57:15.025Z"
   },
   {
    "duration": 41,
    "start_time": "2022-06-19T06:57:15.169Z"
   },
   {
    "duration": 52,
    "start_time": "2022-06-19T06:57:15.214Z"
   },
   {
    "duration": 112,
    "start_time": "2022-06-19T06:57:15.268Z"
   },
   {
    "duration": 226,
    "start_time": "2022-06-19T06:57:15.383Z"
   },
   {
    "duration": 121,
    "start_time": "2022-06-19T06:57:15.612Z"
   },
   {
    "duration": 343,
    "start_time": "2022-06-19T06:57:15.735Z"
   },
   {
    "duration": 244,
    "start_time": "2022-06-19T06:57:16.080Z"
   },
   {
    "duration": 18,
    "start_time": "2022-06-19T06:57:16.326Z"
   },
   {
    "duration": 24,
    "start_time": "2022-06-19T06:57:16.346Z"
   },
   {
    "duration": 37,
    "start_time": "2022-06-19T06:57:16.372Z"
   },
   {
    "duration": 66,
    "start_time": "2022-06-19T06:57:16.412Z"
   },
   {
    "duration": 11,
    "start_time": "2022-06-19T06:57:16.480Z"
   },
   {
    "duration": 18,
    "start_time": "2022-06-19T06:57:16.492Z"
   },
   {
    "duration": 63,
    "start_time": "2022-06-19T06:57:16.512Z"
   },
   {
    "duration": 14,
    "start_time": "2022-06-19T06:57:16.577Z"
   },
   {
    "duration": 90,
    "start_time": "2022-06-19T06:57:16.594Z"
   },
   {
    "duration": 2560,
    "start_time": "2022-06-19T06:57:16.686Z"
   },
   {
    "duration": 11990,
    "start_time": "2022-06-19T06:57:19.260Z"
   },
   {
    "duration": 26,
    "start_time": "2022-06-19T06:57:31.259Z"
   },
   {
    "duration": 100,
    "start_time": "2022-06-19T06:57:31.289Z"
   },
   {
    "duration": 892,
    "start_time": "2022-06-19T06:57:31.392Z"
   },
   {
    "duration": 27,
    "start_time": "2022-06-19T06:57:32.286Z"
   },
   {
    "duration": 45,
    "start_time": "2022-06-19T06:57:32.315Z"
   },
   {
    "duration": 686,
    "start_time": "2022-06-19T07:09:41.052Z"
   },
   {
    "duration": 3237,
    "start_time": "2022-06-19T07:12:24.065Z"
   },
   {
    "duration": 8781,
    "start_time": "2022-06-19T07:22:05.856Z"
   },
   {
    "duration": 8207,
    "start_time": "2022-06-19T07:22:30.707Z"
   },
   {
    "duration": 8543,
    "start_time": "2022-06-19T07:24:35.488Z"
   },
   {
    "duration": 5617,
    "start_time": "2022-06-19T07:26:58.151Z"
   },
   {
    "duration": 6174,
    "start_time": "2022-06-19T07:32:54.519Z"
   },
   {
    "duration": 4370,
    "start_time": "2022-06-19T07:35:55.170Z"
   },
   {
    "duration": 5129,
    "start_time": "2022-06-19T07:39:27.465Z"
   },
   {
    "duration": 3105,
    "start_time": "2022-06-19T08:04:36.488Z"
   },
   {
    "duration": 588,
    "start_time": "2022-06-19T08:04:39.595Z"
   },
   {
    "duration": 19,
    "start_time": "2022-06-19T08:04:40.184Z"
   },
   {
    "duration": 10,
    "start_time": "2022-06-19T08:04:40.205Z"
   },
   {
    "duration": 15,
    "start_time": "2022-06-19T08:04:40.217Z"
   },
   {
    "duration": 32,
    "start_time": "2022-06-19T08:04:40.234Z"
   },
   {
    "duration": 12,
    "start_time": "2022-06-19T08:04:40.268Z"
   },
   {
    "duration": 78,
    "start_time": "2022-06-19T08:04:40.282Z"
   },
   {
    "duration": 28,
    "start_time": "2022-06-19T08:04:40.361Z"
   },
   {
    "duration": 19,
    "start_time": "2022-06-19T08:04:40.393Z"
   },
   {
    "duration": 88,
    "start_time": "2022-06-19T08:04:40.414Z"
   },
   {
    "duration": 131,
    "start_time": "2022-06-19T08:04:40.504Z"
   },
   {
    "duration": 95,
    "start_time": "2022-06-19T08:04:40.637Z"
   },
   {
    "duration": 225,
    "start_time": "2022-06-19T08:04:40.734Z"
   },
   {
    "duration": 174,
    "start_time": "2022-06-19T08:04:40.961Z"
   },
   {
    "duration": 12,
    "start_time": "2022-06-19T08:04:41.136Z"
   },
   {
    "duration": 11,
    "start_time": "2022-06-19T08:04:41.158Z"
   },
   {
    "duration": 34,
    "start_time": "2022-06-19T08:04:41.171Z"
   },
   {
    "duration": 26,
    "start_time": "2022-06-19T08:04:41.208Z"
   },
   {
    "duration": 20,
    "start_time": "2022-06-19T08:04:41.246Z"
   },
   {
    "duration": 16,
    "start_time": "2022-06-19T08:04:41.269Z"
   },
   {
    "duration": 34,
    "start_time": "2022-06-19T08:04:41.287Z"
   },
   {
    "duration": 13,
    "start_time": "2022-06-19T08:04:41.323Z"
   },
   {
    "duration": 1336,
    "start_time": "2022-06-19T08:04:41.337Z"
   },
   {
    "duration": 1666,
    "start_time": "2022-06-19T08:04:42.675Z"
   },
   {
    "duration": 53,
    "start_time": "2022-06-19T08:04:44.342Z"
   },
   {
    "duration": 425,
    "start_time": "2022-06-19T08:04:44.396Z"
   },
   {
    "duration": 10928,
    "start_time": "2022-06-19T08:04:44.825Z"
   },
   {
    "duration": 33,
    "start_time": "2022-06-19T08:04:55.760Z"
   },
   {
    "duration": 31,
    "start_time": "2022-06-19T08:04:55.859Z"
   },
   {
    "duration": 10,
    "start_time": "2022-06-19T08:04:55.891Z"
   },
   {
    "duration": 82,
    "start_time": "2022-06-19T08:04:55.903Z"
   },
   {
    "duration": 658,
    "start_time": "2022-06-19T08:04:55.986Z"
   },
   {
    "duration": 15,
    "start_time": "2022-06-19T08:04:56.646Z"
   },
   {
    "duration": 22,
    "start_time": "2022-06-19T08:04:56.663Z"
   },
   {
    "duration": 3,
    "start_time": "2022-06-19T08:04:56.687Z"
   },
   {
    "duration": 22,
    "start_time": "2022-06-19T08:04:56.692Z"
   },
   {
    "duration": 16,
    "start_time": "2022-06-19T08:04:56.716Z"
   },
   {
    "duration": 63,
    "start_time": "2022-06-19T08:04:56.734Z"
   },
   {
    "duration": 16,
    "start_time": "2022-06-19T08:04:56.799Z"
   },
   {
    "duration": 3,
    "start_time": "2022-06-19T08:04:56.816Z"
   },
   {
    "duration": 18,
    "start_time": "2022-06-19T08:04:56.821Z"
   },
   {
    "duration": 12,
    "start_time": "2022-06-19T08:04:56.841Z"
   },
   {
    "duration": 15,
    "start_time": "2022-06-19T08:04:56.855Z"
   },
   {
    "duration": 22,
    "start_time": "2022-06-19T08:04:56.872Z"
   },
   {
    "duration": 163,
    "start_time": "2022-06-19T08:04:56.895Z"
   },
   {
    "duration": 18,
    "start_time": "2022-06-19T08:04:57.061Z"
   },
   {
    "duration": 298,
    "start_time": "2022-06-19T08:04:57.081Z"
   },
   {
    "duration": 87,
    "start_time": "2022-06-19T08:04:57.385Z"
   },
   {
    "duration": 180,
    "start_time": "2022-06-19T08:04:57.474Z"
   },
   {
    "duration": 21,
    "start_time": "2022-06-19T08:04:57.656Z"
   },
   {
    "duration": 253,
    "start_time": "2022-06-19T08:04:57.679Z"
   },
   {
    "duration": 3427,
    "start_time": "2022-06-19T08:37:12.465Z"
   },
   {
    "duration": 250,
    "start_time": "2022-06-19T08:38:40.316Z"
   },
   {
    "duration": 20,
    "start_time": "2022-06-19T08:38:59.313Z"
   },
   {
    "duration": 3699,
    "start_time": "2022-06-19T08:39:32.265Z"
   },
   {
    "duration": 5533,
    "start_time": "2022-06-19T08:40:31.656Z"
   },
   {
    "duration": 4269,
    "start_time": "2022-06-19T08:41:34.056Z"
   },
   {
    "duration": 2377,
    "start_time": "2022-06-19T08:50:36.277Z"
   },
   {
    "duration": 899,
    "start_time": "2022-06-19T08:50:38.656Z"
   },
   {
    "duration": 25,
    "start_time": "2022-06-19T08:50:39.557Z"
   },
   {
    "duration": 17,
    "start_time": "2022-06-19T08:50:39.585Z"
   },
   {
    "duration": 25,
    "start_time": "2022-06-19T08:50:39.604Z"
   },
   {
    "duration": 25,
    "start_time": "2022-06-19T08:50:39.631Z"
   },
   {
    "duration": 40,
    "start_time": "2022-06-19T08:50:39.658Z"
   },
   {
    "duration": 75,
    "start_time": "2022-06-19T08:50:39.700Z"
   },
   {
    "duration": 31,
    "start_time": "2022-06-19T08:50:39.780Z"
   },
   {
    "duration": 17,
    "start_time": "2022-06-19T08:50:39.813Z"
   },
   {
    "duration": 80,
    "start_time": "2022-06-19T08:50:39.832Z"
   },
   {
    "duration": 127,
    "start_time": "2022-06-19T08:50:39.914Z"
   },
   {
    "duration": 87,
    "start_time": "2022-06-19T08:50:40.043Z"
   },
   {
    "duration": 234,
    "start_time": "2022-06-19T08:50:40.134Z"
   },
   {
    "duration": 179,
    "start_time": "2022-06-19T08:50:40.372Z"
   },
   {
    "duration": 25,
    "start_time": "2022-06-19T08:50:40.553Z"
   },
   {
    "duration": 9,
    "start_time": "2022-06-19T08:50:40.580Z"
   },
   {
    "duration": 23,
    "start_time": "2022-06-19T08:50:40.592Z"
   },
   {
    "duration": 21,
    "start_time": "2022-06-19T08:50:40.618Z"
   },
   {
    "duration": 24,
    "start_time": "2022-06-19T08:50:40.641Z"
   },
   {
    "duration": 23,
    "start_time": "2022-06-19T08:50:40.668Z"
   },
   {
    "duration": 22,
    "start_time": "2022-06-19T08:50:40.692Z"
   },
   {
    "duration": 10,
    "start_time": "2022-06-19T08:50:40.717Z"
   },
   {
    "duration": 81,
    "start_time": "2022-06-19T08:50:40.731Z"
   },
   {
    "duration": 1522,
    "start_time": "2022-06-19T08:50:40.814Z"
   },
   {
    "duration": 55,
    "start_time": "2022-06-19T08:50:42.337Z"
   },
   {
    "duration": 437,
    "start_time": "2022-06-19T08:50:42.394Z"
   },
   {
    "duration": 11208,
    "start_time": "2022-06-19T08:50:42.833Z"
   },
   {
    "duration": 42,
    "start_time": "2022-06-19T08:50:54.042Z"
   },
   {
    "duration": 91,
    "start_time": "2022-06-19T08:50:54.091Z"
   },
   {
    "duration": 23,
    "start_time": "2022-06-19T08:50:54.184Z"
   },
   {
    "duration": 16,
    "start_time": "2022-06-19T08:50:54.261Z"
   },
   {
    "duration": 83,
    "start_time": "2022-06-19T08:50:54.279Z"
   },
   {
    "duration": 16,
    "start_time": "2022-06-19T08:50:54.371Z"
   },
   {
    "duration": 15,
    "start_time": "2022-06-19T08:50:54.389Z"
   },
   {
    "duration": 53,
    "start_time": "2022-06-19T08:50:54.407Z"
   },
   {
    "duration": 55,
    "start_time": "2022-06-19T08:50:54.463Z"
   },
   {
    "duration": 59,
    "start_time": "2022-06-19T08:50:54.519Z"
   },
   {
    "duration": 27,
    "start_time": "2022-06-19T08:50:54.580Z"
   },
   {
    "duration": 76,
    "start_time": "2022-06-19T08:50:54.609Z"
   },
   {
    "duration": 4,
    "start_time": "2022-06-19T08:50:54.691Z"
   },
   {
    "duration": 75,
    "start_time": "2022-06-19T08:50:54.697Z"
   },
   {
    "duration": 16,
    "start_time": "2022-06-19T08:50:54.776Z"
   },
   {
    "duration": 76,
    "start_time": "2022-06-19T08:50:54.793Z"
   },
   {
    "duration": 16,
    "start_time": "2022-06-19T08:50:54.874Z"
   },
   {
    "duration": 305,
    "start_time": "2022-06-19T08:50:54.892Z"
   },
   {
    "duration": 9,
    "start_time": "2022-06-19T08:50:55.199Z"
   },
   {
    "duration": 398,
    "start_time": "2022-06-19T08:50:55.210Z"
   },
   {
    "duration": 84,
    "start_time": "2022-06-19T08:50:55.611Z"
   },
   {
    "duration": 181,
    "start_time": "2022-06-19T08:50:55.697Z"
   },
   {
    "duration": 13,
    "start_time": "2022-06-19T08:50:55.880Z"
   },
   {
    "duration": 405,
    "start_time": "2022-06-19T08:50:55.894Z"
   },
   {
    "duration": 3215,
    "start_time": "2022-06-19T08:50:56.301Z"
   },
   {
    "duration": 56,
    "start_time": "2022-06-19T10:11:18.389Z"
   },
   {
    "duration": 35,
    "start_time": "2022-06-19T10:11:30.368Z"
   },
   {
    "duration": 25,
    "start_time": "2022-06-19T10:12:17.847Z"
   },
   {
    "duration": 25,
    "start_time": "2022-06-19T10:14:29.149Z"
   },
   {
    "duration": 54,
    "start_time": "2022-06-19T10:15:18.944Z"
   },
   {
    "duration": 25,
    "start_time": "2022-06-19T10:17:43.031Z"
   },
   {
    "duration": 34,
    "start_time": "2022-06-19T10:24:19.711Z"
   },
   {
    "duration": 4,
    "start_time": "2022-06-19T12:25:27.732Z"
   },
   {
    "duration": 4,
    "start_time": "2022-06-19T12:25:37.775Z"
   },
   {
    "duration": 4,
    "start_time": "2022-06-19T12:26:08.649Z"
   },
   {
    "duration": 3890,
    "start_time": "2022-06-20T07:12:09.264Z"
   },
   {
    "duration": 1216,
    "start_time": "2022-06-20T07:12:13.157Z"
   },
   {
    "duration": 17,
    "start_time": "2022-06-20T07:12:14.375Z"
   },
   {
    "duration": 38,
    "start_time": "2022-06-20T07:12:14.393Z"
   },
   {
    "duration": 34,
    "start_time": "2022-06-20T07:12:14.432Z"
   },
   {
    "duration": 26,
    "start_time": "2022-06-20T07:12:14.467Z"
   },
   {
    "duration": 30,
    "start_time": "2022-06-20T07:12:14.495Z"
   },
   {
    "duration": 67,
    "start_time": "2022-06-20T07:12:14.526Z"
   },
   {
    "duration": 35,
    "start_time": "2022-06-20T07:12:14.595Z"
   },
   {
    "duration": 18,
    "start_time": "2022-06-20T07:12:14.634Z"
   },
   {
    "duration": 87,
    "start_time": "2022-06-20T07:12:14.653Z"
   },
   {
    "duration": 126,
    "start_time": "2022-06-20T07:12:14.741Z"
   },
   {
    "duration": 73,
    "start_time": "2022-06-20T07:12:14.868Z"
   },
   {
    "duration": 209,
    "start_time": "2022-06-20T07:12:14.943Z"
   },
   {
    "duration": 160,
    "start_time": "2022-06-20T07:12:15.154Z"
   },
   {
    "duration": 17,
    "start_time": "2022-06-20T07:12:15.316Z"
   },
   {
    "duration": 29,
    "start_time": "2022-06-20T07:12:15.334Z"
   },
   {
    "duration": 59,
    "start_time": "2022-06-20T07:12:15.364Z"
   },
   {
    "duration": 22,
    "start_time": "2022-06-20T07:12:15.424Z"
   },
   {
    "duration": 19,
    "start_time": "2022-06-20T07:12:15.448Z"
   },
   {
    "duration": 25,
    "start_time": "2022-06-20T07:12:15.468Z"
   },
   {
    "duration": 26,
    "start_time": "2022-06-20T07:12:15.495Z"
   },
   {
    "duration": 9,
    "start_time": "2022-06-20T07:12:15.522Z"
   },
   {
    "duration": 459,
    "start_time": "2022-06-20T07:12:15.533Z"
   },
   {
    "duration": 1481,
    "start_time": "2022-06-20T07:12:15.994Z"
   },
   {
    "duration": 53,
    "start_time": "2022-06-20T07:12:17.477Z"
   },
   {
    "duration": 369,
    "start_time": "2022-06-20T07:12:17.532Z"
   },
   {
    "duration": 3451,
    "start_time": "2022-06-20T09:00:54.799Z"
   },
   {
    "duration": 1347,
    "start_time": "2022-06-20T09:00:58.252Z"
   },
   {
    "duration": 23,
    "start_time": "2022-06-20T09:00:59.601Z"
   },
   {
    "duration": 15,
    "start_time": "2022-06-20T09:00:59.627Z"
   },
   {
    "duration": 18,
    "start_time": "2022-06-20T09:00:59.644Z"
   },
   {
    "duration": 24,
    "start_time": "2022-06-20T09:00:59.664Z"
   },
   {
    "duration": 12,
    "start_time": "2022-06-20T09:00:59.690Z"
   },
   {
    "duration": 76,
    "start_time": "2022-06-20T09:00:59.704Z"
   },
   {
    "duration": 27,
    "start_time": "2022-06-20T09:00:59.782Z"
   },
   {
    "duration": 18,
    "start_time": "2022-06-20T09:00:59.811Z"
   },
   {
    "duration": 90,
    "start_time": "2022-06-20T09:00:59.831Z"
   },
   {
    "duration": 125,
    "start_time": "2022-06-20T09:00:59.924Z"
   },
   {
    "duration": 73,
    "start_time": "2022-06-20T09:01:00.051Z"
   },
   {
    "duration": 231,
    "start_time": "2022-06-20T09:01:00.125Z"
   },
   {
    "duration": 187,
    "start_time": "2022-06-20T09:01:00.358Z"
   },
   {
    "duration": 20,
    "start_time": "2022-06-20T09:01:00.547Z"
   },
   {
    "duration": 23,
    "start_time": "2022-06-20T09:01:00.569Z"
   },
   {
    "duration": 60,
    "start_time": "2022-06-20T09:01:00.594Z"
   },
   {
    "duration": 54,
    "start_time": "2022-06-20T09:01:00.656Z"
   },
   {
    "duration": 17,
    "start_time": "2022-06-20T09:01:00.712Z"
   },
   {
    "duration": 37,
    "start_time": "2022-06-20T09:01:00.731Z"
   },
   {
    "duration": 54,
    "start_time": "2022-06-20T09:01:00.771Z"
   },
   {
    "duration": 10,
    "start_time": "2022-06-20T09:01:00.827Z"
   },
   {
    "duration": 498,
    "start_time": "2022-06-20T09:01:00.839Z"
   },
   {
    "duration": 1407,
    "start_time": "2022-06-20T09:01:01.338Z"
   },
   {
    "duration": 47,
    "start_time": "2022-06-20T09:01:02.748Z"
   },
   {
    "duration": 370,
    "start_time": "2022-06-20T09:01:02.797Z"
   },
   {
    "duration": 9551,
    "start_time": "2022-06-20T09:01:03.170Z"
   },
   {
    "duration": 52,
    "start_time": "2022-06-20T09:01:12.723Z"
   },
   {
    "duration": 90,
    "start_time": "2022-06-20T09:01:12.777Z"
   },
   {
    "duration": 17,
    "start_time": "2022-06-20T09:01:12.869Z"
   },
   {
    "duration": 11,
    "start_time": "2022-06-20T09:01:12.887Z"
   },
   {
    "duration": 774,
    "start_time": "2022-06-20T09:01:12.899Z"
   },
   {
    "duration": 16,
    "start_time": "2022-06-20T09:01:13.674Z"
   },
   {
    "duration": 14,
    "start_time": "2022-06-20T09:01:13.691Z"
   },
   {
    "duration": 60,
    "start_time": "2022-06-20T09:01:13.707Z"
   },
   {
    "duration": 18,
    "start_time": "2022-06-20T09:01:13.769Z"
   },
   {
    "duration": 14,
    "start_time": "2022-06-20T09:01:13.788Z"
   },
   {
    "duration": 71,
    "start_time": "2022-06-20T09:01:13.803Z"
   },
   {
    "duration": 17,
    "start_time": "2022-06-20T09:01:13.875Z"
   },
   {
    "duration": 119,
    "start_time": "2022-06-20T09:01:13.894Z"
   },
   {
    "duration": 1887,
    "start_time": "2022-06-20T09:23:38.958Z"
   },
   {
    "duration": 531,
    "start_time": "2022-06-20T09:23:40.848Z"
   },
   {
    "duration": 9,
    "start_time": "2022-06-20T09:23:41.381Z"
   },
   {
    "duration": 19,
    "start_time": "2022-06-20T09:23:41.392Z"
   },
   {
    "duration": 15,
    "start_time": "2022-06-20T09:23:41.413Z"
   },
   {
    "duration": 39,
    "start_time": "2022-06-20T09:23:41.430Z"
   },
   {
    "duration": 19,
    "start_time": "2022-06-20T09:23:41.471Z"
   },
   {
    "duration": 95,
    "start_time": "2022-06-20T09:23:41.492Z"
   },
   {
    "duration": 36,
    "start_time": "2022-06-20T09:23:41.589Z"
   },
   {
    "duration": 19,
    "start_time": "2022-06-20T09:23:41.628Z"
   },
   {
    "duration": 53,
    "start_time": "2022-06-20T09:23:41.649Z"
   },
   {
    "duration": 109,
    "start_time": "2022-06-20T09:23:41.704Z"
   },
   {
    "duration": 71,
    "start_time": "2022-06-20T09:23:41.815Z"
   },
   {
    "duration": 210,
    "start_time": "2022-06-20T09:23:41.888Z"
   },
   {
    "duration": 154,
    "start_time": "2022-06-20T09:23:42.099Z"
   },
   {
    "duration": 18,
    "start_time": "2022-06-20T09:23:42.255Z"
   },
   {
    "duration": 10,
    "start_time": "2022-06-20T09:23:42.275Z"
   },
   {
    "duration": 34,
    "start_time": "2022-06-20T09:23:42.287Z"
   },
   {
    "duration": 20,
    "start_time": "2022-06-20T09:23:42.323Z"
   },
   {
    "duration": 8,
    "start_time": "2022-06-20T09:23:42.367Z"
   },
   {
    "duration": 12,
    "start_time": "2022-06-20T09:23:42.377Z"
   },
   {
    "duration": 20,
    "start_time": "2022-06-20T09:23:42.390Z"
   },
   {
    "duration": 10,
    "start_time": "2022-06-20T09:23:42.412Z"
   },
   {
    "duration": 84,
    "start_time": "2022-06-20T09:23:42.424Z"
   },
   {
    "duration": 1234,
    "start_time": "2022-06-20T09:23:42.510Z"
   },
   {
    "duration": 45,
    "start_time": "2022-06-20T09:23:43.746Z"
   },
   {
    "duration": 404,
    "start_time": "2022-06-20T09:23:43.793Z"
   },
   {
    "duration": 9523,
    "start_time": "2022-06-20T09:23:44.201Z"
   },
   {
    "duration": 53,
    "start_time": "2022-06-20T09:23:53.726Z"
   },
   {
    "duration": 19,
    "start_time": "2022-06-20T09:23:53.781Z"
   },
   {
    "duration": 84,
    "start_time": "2022-06-20T09:23:53.802Z"
   },
   {
    "duration": 12,
    "start_time": "2022-06-20T09:23:53.888Z"
   },
   {
    "duration": 67,
    "start_time": "2022-06-20T09:23:53.902Z"
   },
   {
    "duration": 21,
    "start_time": "2022-06-20T09:23:53.971Z"
   },
   {
    "duration": 73,
    "start_time": "2022-06-20T09:23:53.994Z"
   },
   {
    "duration": 6,
    "start_time": "2022-06-20T09:23:54.070Z"
   },
   {
    "duration": 22,
    "start_time": "2022-06-20T09:23:54.077Z"
   },
   {
    "duration": 68,
    "start_time": "2022-06-20T09:23:54.100Z"
   },
   {
    "duration": 24,
    "start_time": "2022-06-20T09:23:54.170Z"
   },
   {
    "duration": 80,
    "start_time": "2022-06-20T09:23:54.196Z"
   },
   {
    "duration": 120,
    "start_time": "2022-06-20T09:23:54.279Z"
   },
   {
    "duration": 4,
    "start_time": "2022-06-20T09:23:54.401Z"
   },
   {
    "duration": 73,
    "start_time": "2022-06-20T09:23:54.407Z"
   },
   {
    "duration": 20,
    "start_time": "2022-06-20T09:23:54.482Z"
   },
   {
    "duration": 74,
    "start_time": "2022-06-20T09:23:54.504Z"
   },
   {
    "duration": 21,
    "start_time": "2022-06-20T09:23:54.580Z"
   },
   {
    "duration": 267,
    "start_time": "2022-06-20T09:23:54.603Z"
   },
   {
    "duration": 9,
    "start_time": "2022-06-20T09:23:54.871Z"
   },
   {
    "duration": 361,
    "start_time": "2022-06-20T09:23:54.882Z"
   },
   {
    "duration": 51,
    "start_time": "2022-06-20T09:23:55.245Z"
   },
   {
    "duration": 169,
    "start_time": "2022-06-20T09:23:55.298Z"
   },
   {
    "duration": 13,
    "start_time": "2022-06-20T09:23:55.469Z"
   },
   {
    "duration": 237,
    "start_time": "2022-06-20T09:23:55.484Z"
   },
   {
    "duration": 2649,
    "start_time": "2022-06-20T09:23:55.722Z"
   },
   {
    "duration": 60,
    "start_time": "2022-06-20T09:23:58.374Z"
   },
   {
    "duration": 0,
    "start_time": "2022-06-20T09:23:58.436Z"
   },
   {
    "duration": 0,
    "start_time": "2022-06-20T09:23:58.438Z"
   },
   {
    "duration": 147,
    "start_time": "2022-06-20T09:24:27.692Z"
   },
   {
    "duration": 15,
    "start_time": "2022-06-20T09:24:59.947Z"
   },
   {
    "duration": 4,
    "start_time": "2022-06-20T09:25:26.596Z"
   },
   {
    "duration": 396,
    "start_time": "2022-06-20T09:25:30.931Z"
   },
   {
    "duration": 1708,
    "start_time": "2022-06-20T09:25:48.530Z"
   },
   {
    "duration": 5,
    "start_time": "2022-06-20T09:36:09.032Z"
   },
   {
    "duration": 550,
    "start_time": "2022-06-20T09:36:09.640Z"
   },
   {
    "duration": 1608,
    "start_time": "2022-06-20T09:36:11.121Z"
   },
   {
    "duration": 3,
    "start_time": "2022-06-20T09:38:27.812Z"
   },
   {
    "duration": 474,
    "start_time": "2022-06-20T09:38:28.564Z"
   },
   {
    "duration": 4,
    "start_time": "2022-06-20T09:38:44.513Z"
   },
   {
    "duration": 412,
    "start_time": "2022-06-20T09:38:44.947Z"
   },
   {
    "duration": 3,
    "start_time": "2022-06-20T09:38:55.824Z"
   },
   {
    "duration": 459,
    "start_time": "2022-06-20T09:38:56.235Z"
   },
   {
    "duration": 1770,
    "start_time": "2022-06-20T09:39:02.695Z"
   },
   {
    "duration": 5,
    "start_time": "2022-06-20T09:39:18.239Z"
   },
   {
    "duration": 444,
    "start_time": "2022-06-20T09:39:18.645Z"
   },
   {
    "duration": 1586,
    "start_time": "2022-06-20T09:39:19.799Z"
   },
   {
    "duration": 4,
    "start_time": "2022-06-20T09:41:50.630Z"
   },
   {
    "duration": 410,
    "start_time": "2022-06-20T09:41:51.294Z"
   },
   {
    "duration": 3,
    "start_time": "2022-06-20T09:44:16.045Z"
   },
   {
    "duration": 482,
    "start_time": "2022-06-20T09:44:16.956Z"
   },
   {
    "duration": 1730,
    "start_time": "2022-06-20T09:44:24.064Z"
   },
   {
    "duration": 3080,
    "start_time": "2022-06-20T10:02:18.246Z"
   },
   {
    "duration": 593,
    "start_time": "2022-06-20T10:02:21.329Z"
   },
   {
    "duration": 18,
    "start_time": "2022-06-20T10:02:21.923Z"
   },
   {
    "duration": 11,
    "start_time": "2022-06-20T10:02:21.943Z"
   },
   {
    "duration": 15,
    "start_time": "2022-06-20T10:02:21.955Z"
   },
   {
    "duration": 18,
    "start_time": "2022-06-20T10:02:21.972Z"
   },
   {
    "duration": 13,
    "start_time": "2022-06-20T10:02:21.993Z"
   },
   {
    "duration": 91,
    "start_time": "2022-06-20T10:02:22.008Z"
   },
   {
    "duration": 40,
    "start_time": "2022-06-20T10:02:22.101Z"
   },
   {
    "duration": 48,
    "start_time": "2022-06-20T10:02:22.144Z"
   },
   {
    "duration": 77,
    "start_time": "2022-06-20T10:02:22.194Z"
   },
   {
    "duration": 134,
    "start_time": "2022-06-20T10:02:22.272Z"
   },
   {
    "duration": 74,
    "start_time": "2022-06-20T10:02:22.407Z"
   },
   {
    "duration": 216,
    "start_time": "2022-06-20T10:02:22.482Z"
   },
   {
    "duration": 184,
    "start_time": "2022-06-20T10:02:22.699Z"
   },
   {
    "duration": 11,
    "start_time": "2022-06-20T10:02:22.885Z"
   },
   {
    "duration": 14,
    "start_time": "2022-06-20T10:02:22.897Z"
   },
   {
    "duration": 22,
    "start_time": "2022-06-20T10:02:22.913Z"
   },
   {
    "duration": 44,
    "start_time": "2022-06-20T10:02:22.937Z"
   },
   {
    "duration": 7,
    "start_time": "2022-06-20T10:02:22.983Z"
   },
   {
    "duration": 15,
    "start_time": "2022-06-20T10:02:22.992Z"
   },
   {
    "duration": 20,
    "start_time": "2022-06-20T10:02:23.009Z"
   },
   {
    "duration": 9,
    "start_time": "2022-06-20T10:02:23.031Z"
   },
   {
    "duration": 385,
    "start_time": "2022-06-20T10:02:23.068Z"
   },
   {
    "duration": 1520,
    "start_time": "2022-06-20T10:02:23.455Z"
   },
   {
    "duration": 39,
    "start_time": "2022-06-20T10:02:24.977Z"
   },
   {
    "duration": 341,
    "start_time": "2022-06-20T10:02:25.067Z"
   },
   {
    "duration": 9730,
    "start_time": "2022-06-20T10:02:25.413Z"
   },
   {
    "duration": 2658,
    "start_time": "2022-06-20T10:46:15.196Z"
   },
   {
    "duration": 562,
    "start_time": "2022-06-20T10:46:17.856Z"
   },
   {
    "duration": 17,
    "start_time": "2022-06-20T10:46:18.420Z"
   },
   {
    "duration": 21,
    "start_time": "2022-06-20T10:46:18.439Z"
   },
   {
    "duration": 18,
    "start_time": "2022-06-20T10:46:18.462Z"
   },
   {
    "duration": 19,
    "start_time": "2022-06-20T10:46:18.482Z"
   },
   {
    "duration": 12,
    "start_time": "2022-06-20T10:46:18.502Z"
   },
   {
    "duration": 79,
    "start_time": "2022-06-20T10:46:18.516Z"
   },
   {
    "duration": 28,
    "start_time": "2022-06-20T10:46:18.596Z"
   },
   {
    "duration": 20,
    "start_time": "2022-06-20T10:46:18.628Z"
   },
   {
    "duration": 62,
    "start_time": "2022-06-20T10:46:18.649Z"
   },
   {
    "duration": 127,
    "start_time": "2022-06-20T10:46:18.713Z"
   },
   {
    "duration": 103,
    "start_time": "2022-06-20T10:46:18.842Z"
   },
   {
    "duration": 283,
    "start_time": "2022-06-20T10:46:18.947Z"
   },
   {
    "duration": 193,
    "start_time": "2022-06-20T10:46:19.232Z"
   },
   {
    "duration": 15,
    "start_time": "2022-06-20T10:46:19.426Z"
   },
   {
    "duration": 25,
    "start_time": "2022-06-20T10:46:19.443Z"
   },
   {
    "duration": 33,
    "start_time": "2022-06-20T10:46:19.470Z"
   },
   {
    "duration": 22,
    "start_time": "2022-06-20T10:46:19.505Z"
   },
   {
    "duration": 10,
    "start_time": "2022-06-20T10:46:19.529Z"
   },
   {
    "duration": 15,
    "start_time": "2022-06-20T10:46:19.567Z"
   },
   {
    "duration": 26,
    "start_time": "2022-06-20T10:46:19.584Z"
   },
   {
    "duration": 9,
    "start_time": "2022-06-20T10:46:19.612Z"
   },
   {
    "duration": 401,
    "start_time": "2022-06-20T10:46:19.623Z"
   },
   {
    "duration": 1376,
    "start_time": "2022-06-20T10:46:20.026Z"
   },
   {
    "duration": 66,
    "start_time": "2022-06-20T10:46:21.403Z"
   },
   {
    "duration": 373,
    "start_time": "2022-06-20T10:46:21.471Z"
   },
   {
    "duration": 9833,
    "start_time": "2022-06-20T10:46:21.848Z"
   },
   {
    "duration": 24,
    "start_time": "2022-06-20T10:46:31.683Z"
   },
   {
    "duration": 78,
    "start_time": "2022-06-20T10:46:31.708Z"
   },
   {
    "duration": 78,
    "start_time": "2022-06-20T10:46:31.789Z"
   },
   {
    "duration": 16,
    "start_time": "2022-06-20T10:46:31.869Z"
   },
   {
    "duration": 682,
    "start_time": "2022-06-20T10:46:31.886Z"
   },
   {
    "duration": 20,
    "start_time": "2022-06-20T10:46:32.570Z"
   },
   {
    "duration": 42,
    "start_time": "2022-06-20T10:46:32.592Z"
   },
   {
    "duration": 4,
    "start_time": "2022-06-20T10:46:32.636Z"
   },
   {
    "duration": 38,
    "start_time": "2022-06-20T10:46:32.642Z"
   },
   {
    "duration": 28,
    "start_time": "2022-06-20T10:46:32.681Z"
   },
   {
    "duration": 33,
    "start_time": "2022-06-20T10:46:32.710Z"
   },
   {
    "duration": 24,
    "start_time": "2022-06-20T10:46:32.744Z"
   },
   {
    "duration": 77,
    "start_time": "2022-06-20T10:46:32.769Z"
   },
   {
    "duration": 3,
    "start_time": "2022-06-20T10:46:32.848Z"
   },
   {
    "duration": 39,
    "start_time": "2022-06-20T10:46:32.866Z"
   },
   {
    "duration": 13,
    "start_time": "2022-06-20T10:46:32.907Z"
   },
   {
    "duration": 27,
    "start_time": "2022-06-20T10:46:32.922Z"
   },
   {
    "duration": 27,
    "start_time": "2022-06-20T10:46:32.951Z"
   },
   {
    "duration": 177,
    "start_time": "2022-06-20T10:46:32.979Z"
   },
   {
    "duration": 13,
    "start_time": "2022-06-20T10:46:33.157Z"
   },
   {
    "duration": 258,
    "start_time": "2022-06-20T10:46:33.172Z"
   },
   {
    "duration": 44,
    "start_time": "2022-06-20T10:46:33.432Z"
   },
   {
    "duration": 175,
    "start_time": "2022-06-20T10:46:33.478Z"
   },
   {
    "duration": 23,
    "start_time": "2022-06-20T10:46:33.654Z"
   },
   {
    "duration": 293,
    "start_time": "2022-06-20T10:46:33.679Z"
   },
   {
    "duration": 3624,
    "start_time": "2022-07-13T09:52:19.842Z"
   },
   {
    "duration": 133,
    "start_time": "2022-07-13T09:52:23.468Z"
   },
   {
    "duration": 0,
    "start_time": "2022-07-13T09:52:23.606Z"
   },
   {
    "duration": 0,
    "start_time": "2022-07-13T09:52:23.607Z"
   },
   {
    "duration": 0,
    "start_time": "2022-07-13T09:52:23.608Z"
   },
   {
    "duration": 0,
    "start_time": "2022-07-13T09:52:23.609Z"
   },
   {
    "duration": 0,
    "start_time": "2022-07-13T09:52:23.610Z"
   },
   {
    "duration": 0,
    "start_time": "2022-07-13T09:52:23.611Z"
   },
   {
    "duration": 0,
    "start_time": "2022-07-13T09:52:23.612Z"
   },
   {
    "duration": 0,
    "start_time": "2022-07-13T09:52:23.613Z"
   },
   {
    "duration": 0,
    "start_time": "2022-07-13T09:52:23.614Z"
   },
   {
    "duration": 0,
    "start_time": "2022-07-13T09:52:23.615Z"
   },
   {
    "duration": 0,
    "start_time": "2022-07-13T09:52:23.616Z"
   },
   {
    "duration": 0,
    "start_time": "2022-07-13T09:52:23.617Z"
   },
   {
    "duration": 0,
    "start_time": "2022-07-13T09:52:23.618Z"
   },
   {
    "duration": 0,
    "start_time": "2022-07-13T09:52:23.618Z"
   },
   {
    "duration": 0,
    "start_time": "2022-07-13T09:52:23.619Z"
   },
   {
    "duration": 0,
    "start_time": "2022-07-13T09:52:23.620Z"
   },
   {
    "duration": 0,
    "start_time": "2022-07-13T09:52:23.621Z"
   },
   {
    "duration": 0,
    "start_time": "2022-07-13T09:52:23.622Z"
   },
   {
    "duration": 0,
    "start_time": "2022-07-13T09:52:23.623Z"
   },
   {
    "duration": 0,
    "start_time": "2022-07-13T09:52:23.624Z"
   },
   {
    "duration": 0,
    "start_time": "2022-07-13T09:52:23.625Z"
   },
   {
    "duration": 0,
    "start_time": "2022-07-13T09:52:23.626Z"
   },
   {
    "duration": 0,
    "start_time": "2022-07-13T09:52:23.626Z"
   },
   {
    "duration": 0,
    "start_time": "2022-07-13T09:52:23.627Z"
   },
   {
    "duration": 0,
    "start_time": "2022-07-13T09:52:23.628Z"
   },
   {
    "duration": 0,
    "start_time": "2022-07-13T09:52:23.629Z"
   },
   {
    "duration": 0,
    "start_time": "2022-07-13T09:52:23.630Z"
   },
   {
    "duration": 0,
    "start_time": "2022-07-13T09:52:23.631Z"
   },
   {
    "duration": 0,
    "start_time": "2022-07-13T09:52:23.632Z"
   },
   {
    "duration": 0,
    "start_time": "2022-07-13T09:52:23.632Z"
   },
   {
    "duration": 0,
    "start_time": "2022-07-13T09:52:23.634Z"
   },
   {
    "duration": 0,
    "start_time": "2022-07-13T09:52:23.635Z"
   },
   {
    "duration": 0,
    "start_time": "2022-07-13T09:52:23.636Z"
   },
   {
    "duration": 0,
    "start_time": "2022-07-13T09:52:23.636Z"
   },
   {
    "duration": 0,
    "start_time": "2022-07-13T09:52:23.637Z"
   },
   {
    "duration": 0,
    "start_time": "2022-07-13T09:52:23.638Z"
   },
   {
    "duration": 0,
    "start_time": "2022-07-13T09:52:23.639Z"
   },
   {
    "duration": 0,
    "start_time": "2022-07-13T09:52:23.640Z"
   },
   {
    "duration": 0,
    "start_time": "2022-07-13T09:52:23.641Z"
   },
   {
    "duration": 0,
    "start_time": "2022-07-13T09:52:23.642Z"
   },
   {
    "duration": 0,
    "start_time": "2022-07-13T09:52:23.643Z"
   },
   {
    "duration": 0,
    "start_time": "2022-07-13T09:52:23.704Z"
   },
   {
    "duration": 0,
    "start_time": "2022-07-13T09:52:23.705Z"
   },
   {
    "duration": 0,
    "start_time": "2022-07-13T09:52:23.706Z"
   },
   {
    "duration": 0,
    "start_time": "2022-07-13T09:52:23.707Z"
   },
   {
    "duration": 0,
    "start_time": "2022-07-13T09:52:23.708Z"
   },
   {
    "duration": 0,
    "start_time": "2022-07-13T09:52:23.709Z"
   },
   {
    "duration": 0,
    "start_time": "2022-07-13T09:52:23.710Z"
   },
   {
    "duration": 0,
    "start_time": "2022-07-13T09:52:23.711Z"
   },
   {
    "duration": 0,
    "start_time": "2022-07-13T09:52:23.712Z"
   },
   {
    "duration": 0,
    "start_time": "2022-07-13T09:52:23.714Z"
   },
   {
    "duration": 0,
    "start_time": "2022-07-13T09:52:23.714Z"
   },
   {
    "duration": 0,
    "start_time": "2022-07-13T09:52:23.715Z"
   },
   {
    "duration": 0,
    "start_time": "2022-07-13T09:52:23.716Z"
   },
   {
    "duration": 0,
    "start_time": "2022-07-13T09:52:23.717Z"
   },
   {
    "duration": 0,
    "start_time": "2022-07-13T09:52:23.718Z"
   },
   {
    "duration": 0,
    "start_time": "2022-07-13T09:52:23.719Z"
   },
   {
    "duration": 0,
    "start_time": "2022-07-13T09:52:23.720Z"
   },
   {
    "duration": 0,
    "start_time": "2022-07-13T09:52:23.721Z"
   },
   {
    "duration": 0,
    "start_time": "2022-07-13T09:52:23.723Z"
   },
   {
    "duration": 0,
    "start_time": "2022-07-13T09:52:23.724Z"
   },
   {
    "duration": 0,
    "start_time": "2022-07-13T09:52:23.725Z"
   },
   {
    "duration": 0,
    "start_time": "2022-07-13T09:52:23.726Z"
   },
   {
    "duration": 0,
    "start_time": "2022-07-13T09:52:23.727Z"
   },
   {
    "duration": 0,
    "start_time": "2022-07-13T09:52:23.728Z"
   },
   {
    "duration": 0,
    "start_time": "2022-07-13T09:52:23.728Z"
   },
   {
    "duration": 0,
    "start_time": "2022-07-13T09:52:23.729Z"
   },
   {
    "duration": 0,
    "start_time": "2022-07-13T09:52:23.730Z"
   },
   {
    "duration": 0,
    "start_time": "2022-07-13T09:52:23.731Z"
   },
   {
    "duration": 0,
    "start_time": "2022-07-13T09:52:23.732Z"
   },
   {
    "duration": 0,
    "start_time": "2022-07-13T09:52:23.733Z"
   },
   {
    "duration": 0,
    "start_time": "2022-07-13T09:52:23.734Z"
   },
   {
    "duration": 0,
    "start_time": "2022-07-13T09:52:23.735Z"
   },
   {
    "duration": 0,
    "start_time": "2022-07-13T09:52:23.736Z"
   },
   {
    "duration": 0,
    "start_time": "2022-07-13T09:52:23.737Z"
   },
   {
    "duration": 0,
    "start_time": "2022-07-13T09:52:23.738Z"
   },
   {
    "duration": 0,
    "start_time": "2022-07-13T09:52:23.739Z"
   },
   {
    "duration": 0,
    "start_time": "2022-07-13T09:52:23.740Z"
   },
   {
    "duration": 0,
    "start_time": "2022-07-13T09:52:23.740Z"
   },
   {
    "duration": 0,
    "start_time": "2022-07-13T09:52:23.742Z"
   },
   {
    "duration": 0,
    "start_time": "2022-07-13T09:52:23.804Z"
   },
   {
    "duration": 0,
    "start_time": "2022-07-13T09:52:23.806Z"
   },
   {
    "duration": 0,
    "start_time": "2022-07-13T09:52:23.807Z"
   },
   {
    "duration": 3058,
    "start_time": "2022-07-13T10:59:34.803Z"
   },
   {
    "duration": 146,
    "start_time": "2022-07-13T10:59:37.864Z"
   },
   {
    "duration": 0,
    "start_time": "2022-07-13T10:59:38.015Z"
   },
   {
    "duration": 0,
    "start_time": "2022-07-13T10:59:38.016Z"
   },
   {
    "duration": 0,
    "start_time": "2022-07-13T10:59:38.018Z"
   },
   {
    "duration": 0,
    "start_time": "2022-07-13T10:59:38.019Z"
   },
   {
    "duration": 0,
    "start_time": "2022-07-13T10:59:38.020Z"
   },
   {
    "duration": 0,
    "start_time": "2022-07-13T10:59:38.021Z"
   },
   {
    "duration": 0,
    "start_time": "2022-07-13T10:59:38.022Z"
   },
   {
    "duration": 0,
    "start_time": "2022-07-13T10:59:38.024Z"
   },
   {
    "duration": 0,
    "start_time": "2022-07-13T10:59:38.025Z"
   },
   {
    "duration": 0,
    "start_time": "2022-07-13T10:59:38.026Z"
   },
   {
    "duration": 0,
    "start_time": "2022-07-13T10:59:38.027Z"
   },
   {
    "duration": 0,
    "start_time": "2022-07-13T10:59:38.028Z"
   },
   {
    "duration": 0,
    "start_time": "2022-07-13T10:59:38.030Z"
   },
   {
    "duration": 0,
    "start_time": "2022-07-13T10:59:38.031Z"
   },
   {
    "duration": 0,
    "start_time": "2022-07-13T10:59:38.032Z"
   },
   {
    "duration": 0,
    "start_time": "2022-07-13T10:59:38.033Z"
   },
   {
    "duration": 0,
    "start_time": "2022-07-13T10:59:38.034Z"
   },
   {
    "duration": 0,
    "start_time": "2022-07-13T10:59:38.036Z"
   },
   {
    "duration": 0,
    "start_time": "2022-07-13T10:59:38.037Z"
   },
   {
    "duration": 0,
    "start_time": "2022-07-13T10:59:38.038Z"
   },
   {
    "duration": 0,
    "start_time": "2022-07-13T10:59:38.039Z"
   },
   {
    "duration": 0,
    "start_time": "2022-07-13T10:59:38.040Z"
   },
   {
    "duration": 0,
    "start_time": "2022-07-13T10:59:38.042Z"
   },
   {
    "duration": 0,
    "start_time": "2022-07-13T10:59:38.043Z"
   },
   {
    "duration": 0,
    "start_time": "2022-07-13T10:59:38.044Z"
   },
   {
    "duration": 0,
    "start_time": "2022-07-13T10:59:38.045Z"
   },
   {
    "duration": 0,
    "start_time": "2022-07-13T10:59:38.046Z"
   },
   {
    "duration": 0,
    "start_time": "2022-07-13T10:59:38.047Z"
   },
   {
    "duration": 0,
    "start_time": "2022-07-13T10:59:38.048Z"
   },
   {
    "duration": 0,
    "start_time": "2022-07-13T10:59:38.105Z"
   },
   {
    "duration": 0,
    "start_time": "2022-07-13T10:59:38.106Z"
   },
   {
    "duration": 0,
    "start_time": "2022-07-13T10:59:38.107Z"
   },
   {
    "duration": 0,
    "start_time": "2022-07-13T10:59:38.108Z"
   },
   {
    "duration": 0,
    "start_time": "2022-07-13T10:59:38.109Z"
   },
   {
    "duration": 0,
    "start_time": "2022-07-13T10:59:38.110Z"
   },
   {
    "duration": 0,
    "start_time": "2022-07-13T10:59:38.112Z"
   },
   {
    "duration": 1,
    "start_time": "2022-07-13T10:59:38.112Z"
   },
   {
    "duration": 0,
    "start_time": "2022-07-13T10:59:38.114Z"
   },
   {
    "duration": 0,
    "start_time": "2022-07-13T10:59:38.115Z"
   },
   {
    "duration": 0,
    "start_time": "2022-07-13T10:59:38.116Z"
   },
   {
    "duration": 0,
    "start_time": "2022-07-13T10:59:38.117Z"
   },
   {
    "duration": 0,
    "start_time": "2022-07-13T10:59:38.118Z"
   },
   {
    "duration": 0,
    "start_time": "2022-07-13T10:59:38.119Z"
   },
   {
    "duration": 0,
    "start_time": "2022-07-13T10:59:38.120Z"
   },
   {
    "duration": 0,
    "start_time": "2022-07-13T10:59:38.122Z"
   },
   {
    "duration": 0,
    "start_time": "2022-07-13T10:59:38.122Z"
   },
   {
    "duration": 0,
    "start_time": "2022-07-13T10:59:38.124Z"
   },
   {
    "duration": 0,
    "start_time": "2022-07-13T10:59:38.125Z"
   },
   {
    "duration": 0,
    "start_time": "2022-07-13T10:59:38.126Z"
   },
   {
    "duration": 0,
    "start_time": "2022-07-13T10:59:38.127Z"
   },
   {
    "duration": 0,
    "start_time": "2022-07-13T10:59:38.128Z"
   },
   {
    "duration": 0,
    "start_time": "2022-07-13T10:59:38.129Z"
   },
   {
    "duration": 0,
    "start_time": "2022-07-13T10:59:38.130Z"
   },
   {
    "duration": 0,
    "start_time": "2022-07-13T10:59:38.131Z"
   },
   {
    "duration": 0,
    "start_time": "2022-07-13T10:59:38.132Z"
   },
   {
    "duration": 0,
    "start_time": "2022-07-13T10:59:38.134Z"
   },
   {
    "duration": 0,
    "start_time": "2022-07-13T10:59:38.135Z"
   },
   {
    "duration": 0,
    "start_time": "2022-07-13T10:59:38.137Z"
   },
   {
    "duration": 0,
    "start_time": "2022-07-13T10:59:38.139Z"
   },
   {
    "duration": 0,
    "start_time": "2022-07-13T10:59:38.140Z"
   },
   {
    "duration": 0,
    "start_time": "2022-07-13T10:59:38.141Z"
   },
   {
    "duration": 0,
    "start_time": "2022-07-13T10:59:38.206Z"
   },
   {
    "duration": 0,
    "start_time": "2022-07-13T10:59:38.207Z"
   },
   {
    "duration": 0,
    "start_time": "2022-07-13T10:59:38.208Z"
   },
   {
    "duration": 0,
    "start_time": "2022-07-13T10:59:38.210Z"
   },
   {
    "duration": 0,
    "start_time": "2022-07-13T10:59:38.210Z"
   },
   {
    "duration": 0,
    "start_time": "2022-07-13T10:59:38.212Z"
   },
   {
    "duration": 0,
    "start_time": "2022-07-13T10:59:38.213Z"
   },
   {
    "duration": 0,
    "start_time": "2022-07-13T10:59:38.214Z"
   },
   {
    "duration": 0,
    "start_time": "2022-07-13T10:59:38.215Z"
   },
   {
    "duration": 0,
    "start_time": "2022-07-13T10:59:38.216Z"
   },
   {
    "duration": 0,
    "start_time": "2022-07-13T10:59:38.217Z"
   },
   {
    "duration": 0,
    "start_time": "2022-07-13T10:59:38.218Z"
   },
   {
    "duration": 0,
    "start_time": "2022-07-13T10:59:38.219Z"
   },
   {
    "duration": 0,
    "start_time": "2022-07-13T10:59:38.220Z"
   },
   {
    "duration": 0,
    "start_time": "2022-07-13T10:59:38.222Z"
   },
   {
    "duration": 0,
    "start_time": "2022-07-13T10:59:38.223Z"
   },
   {
    "duration": 0,
    "start_time": "2022-07-13T10:59:38.224Z"
   },
   {
    "duration": 0,
    "start_time": "2022-07-13T10:59:38.225Z"
   },
   {
    "duration": 0,
    "start_time": "2022-07-13T10:59:38.226Z"
   },
   {
    "duration": 0,
    "start_time": "2022-07-13T10:59:38.227Z"
   },
   {
    "duration": 0,
    "start_time": "2022-07-13T10:59:38.228Z"
   }
  ],
  "kernelspec": {
   "display_name": "Python 3 (ipykernel)",
   "language": "python",
   "name": "python3"
  },
  "language_info": {
   "codemirror_mode": {
    "name": "ipython",
    "version": 3
   },
   "file_extension": ".py",
   "mimetype": "text/x-python",
   "name": "python",
   "nbconvert_exporter": "python",
   "pygments_lexer": "ipython3",
   "version": "3.9.7"
  },
  "toc": {
   "base_numbering": 1,
   "nav_menu": {},
   "number_sections": true,
   "sideBar": true,
   "skip_h1_title": true,
   "title_cell": "Table of Contents",
   "title_sidebar": "Contents",
   "toc_cell": false,
   "toc_position": {
    "height": "calc(100% - 180px)",
    "left": "10px",
    "top": "150px",
    "width": "212.229px"
   },
   "toc_section_display": true,
   "toc_window_display": false
  }
 },
 "nbformat": 4,
 "nbformat_minor": 2
}
